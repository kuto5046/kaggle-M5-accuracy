{
 "nbformat": 4,
 "nbformat_minor": 2,
 "metadata": {
  "language_info": {
   "name": "python",
   "codemirror_mode": {
    "name": "ipython",
    "version": 3
   },
   "version": "3.7.4-final"
  },
  "orig_nbformat": 2,
  "file_extension": ".py",
  "mimetype": "text/x-python",
  "name": "python",
  "npconvert_exporter": "python",
  "pygments_lexer": "ipython3",
  "version": 3,
  "kernelspec": {
   "name": "python37464biteddf527578464ed5a56435cc8d4ac68f",
   "display_name": "Python 3.7.4 64-bit"
  }
 },
 "cells": [
  {
   "cell_type": "code",
   "execution_count": 2,
   "metadata": {},
   "outputs": [
    {
     "output_type": "execute_result",
     "data": {
      "text/plain": "    id        date  demand\n0    1  2020-01-01     100\n1    2  2020-01-01     200\n2    3  2020-01-01     300\n3    1  2020-01-02     400\n4    2  2020-01-02     500\n5    3  2020-01-02     600\n6    1  2020-01-03     700\n7    2  2020-01-03     800\n8    3  2020-01-03     900\n9    1  2020-01-04    1000\n10   2  2020-01-04    1100\n11   3  2020-01-04    1200\n12   1  2020-01-05    1300\n13   2  2020-01-05    1400\n14   3  2020-01-05    1500",
      "text/html": "<div>\n<style scoped>\n    .dataframe tbody tr th:only-of-type {\n        vertical-align: middle;\n    }\n\n    .dataframe tbody tr th {\n        vertical-align: top;\n    }\n\n    .dataframe thead th {\n        text-align: right;\n    }\n</style>\n<table border=\"1\" class=\"dataframe\">\n  <thead>\n    <tr style=\"text-align: right;\">\n      <th></th>\n      <th>id</th>\n      <th>date</th>\n      <th>demand</th>\n    </tr>\n  </thead>\n  <tbody>\n    <tr>\n      <th>0</th>\n      <td>1</td>\n      <td>2020-01-01</td>\n      <td>100</td>\n    </tr>\n    <tr>\n      <th>1</th>\n      <td>2</td>\n      <td>2020-01-01</td>\n      <td>200</td>\n    </tr>\n    <tr>\n      <th>2</th>\n      <td>3</td>\n      <td>2020-01-01</td>\n      <td>300</td>\n    </tr>\n    <tr>\n      <th>3</th>\n      <td>1</td>\n      <td>2020-01-02</td>\n      <td>400</td>\n    </tr>\n    <tr>\n      <th>4</th>\n      <td>2</td>\n      <td>2020-01-02</td>\n      <td>500</td>\n    </tr>\n    <tr>\n      <th>5</th>\n      <td>3</td>\n      <td>2020-01-02</td>\n      <td>600</td>\n    </tr>\n    <tr>\n      <th>6</th>\n      <td>1</td>\n      <td>2020-01-03</td>\n      <td>700</td>\n    </tr>\n    <tr>\n      <th>7</th>\n      <td>2</td>\n      <td>2020-01-03</td>\n      <td>800</td>\n    </tr>\n    <tr>\n      <th>8</th>\n      <td>3</td>\n      <td>2020-01-03</td>\n      <td>900</td>\n    </tr>\n    <tr>\n      <th>9</th>\n      <td>1</td>\n      <td>2020-01-04</td>\n      <td>1000</td>\n    </tr>\n    <tr>\n      <th>10</th>\n      <td>2</td>\n      <td>2020-01-04</td>\n      <td>1100</td>\n    </tr>\n    <tr>\n      <th>11</th>\n      <td>3</td>\n      <td>2020-01-04</td>\n      <td>1200</td>\n    </tr>\n    <tr>\n      <th>12</th>\n      <td>1</td>\n      <td>2020-01-05</td>\n      <td>1300</td>\n    </tr>\n    <tr>\n      <th>13</th>\n      <td>2</td>\n      <td>2020-01-05</td>\n      <td>1400</td>\n    </tr>\n    <tr>\n      <th>14</th>\n      <td>3</td>\n      <td>2020-01-05</td>\n      <td>1500</td>\n    </tr>\n  </tbody>\n</table>\n</div>"
     },
     "metadata": {},
     "execution_count": 2
    }
   ],
   "source": [
    "import pandas as pd\n",
    "import numpy as np\n",
    "\n",
    "df = pd.DataFrame({'id': [1, 2, 3, 1, 2, 3, 1, 2, 3, 1, 2, 3, 1, 2, 3], \n",
    "                   'date': [\"2020-01-01\", \"2020-01-01\", \"2020-01-01\", \n",
    "                            \"2020-01-02\", \"2020-01-02\", \"2020-01-02\", \n",
    "                            \"2020-01-03\", \"2020-01-03\", \"2020-01-03\",\n",
    "                            \"2020-01-04\", \"2020-01-04\", \"2020-01-04\", \n",
    "                            \"2020-01-05\", \"2020-01-05\", \"2020-01-05\"], \n",
    "                   'demand': [100, 200, 300, 400, 500, 600, 700, 800, 900, 1000, 1100, 1200, 1300, 1400, 1500]})\n",
    "df"
   ]
  },
  {
   "cell_type": "code",
   "execution_count": 3,
   "metadata": {},
   "outputs": [
    {
     "output_type": "execute_result",
     "data": {
      "text/plain": "    id        date  demand    lag1    lag2\n0    1  2020-01-01     100     NaN     NaN\n1    2  2020-01-01     200   100.0     NaN\n2    3  2020-01-01     300   200.0   100.0\n3    1  2020-01-02     400   300.0   200.0\n4    2  2020-01-02     500   400.0   300.0\n5    3  2020-01-02     600   500.0   400.0\n6    1  2020-01-03     700   600.0   500.0\n7    2  2020-01-03     800   700.0   600.0\n8    3  2020-01-03     900   800.0   700.0\n9    1  2020-01-04    1000   900.0   800.0\n10   2  2020-01-04    1100  1000.0   900.0\n11   3  2020-01-04    1200  1100.0  1000.0\n12   1  2020-01-05    1300  1200.0  1100.0\n13   2  2020-01-05    1400  1300.0  1200.0\n14   3  2020-01-05    1500  1400.0  1300.0",
      "text/html": "<div>\n<style scoped>\n    .dataframe tbody tr th:only-of-type {\n        vertical-align: middle;\n    }\n\n    .dataframe tbody tr th {\n        vertical-align: top;\n    }\n\n    .dataframe thead th {\n        text-align: right;\n    }\n</style>\n<table border=\"1\" class=\"dataframe\">\n  <thead>\n    <tr style=\"text-align: right;\">\n      <th></th>\n      <th>id</th>\n      <th>date</th>\n      <th>demand</th>\n      <th>lag1</th>\n      <th>lag2</th>\n    </tr>\n  </thead>\n  <tbody>\n    <tr>\n      <th>0</th>\n      <td>1</td>\n      <td>2020-01-01</td>\n      <td>100</td>\n      <td>NaN</td>\n      <td>NaN</td>\n    </tr>\n    <tr>\n      <th>1</th>\n      <td>2</td>\n      <td>2020-01-01</td>\n      <td>200</td>\n      <td>100.0</td>\n      <td>NaN</td>\n    </tr>\n    <tr>\n      <th>2</th>\n      <td>3</td>\n      <td>2020-01-01</td>\n      <td>300</td>\n      <td>200.0</td>\n      <td>100.0</td>\n    </tr>\n    <tr>\n      <th>3</th>\n      <td>1</td>\n      <td>2020-01-02</td>\n      <td>400</td>\n      <td>300.0</td>\n      <td>200.0</td>\n    </tr>\n    <tr>\n      <th>4</th>\n      <td>2</td>\n      <td>2020-01-02</td>\n      <td>500</td>\n      <td>400.0</td>\n      <td>300.0</td>\n    </tr>\n    <tr>\n      <th>5</th>\n      <td>3</td>\n      <td>2020-01-02</td>\n      <td>600</td>\n      <td>500.0</td>\n      <td>400.0</td>\n    </tr>\n    <tr>\n      <th>6</th>\n      <td>1</td>\n      <td>2020-01-03</td>\n      <td>700</td>\n      <td>600.0</td>\n      <td>500.0</td>\n    </tr>\n    <tr>\n      <th>7</th>\n      <td>2</td>\n      <td>2020-01-03</td>\n      <td>800</td>\n      <td>700.0</td>\n      <td>600.0</td>\n    </tr>\n    <tr>\n      <th>8</th>\n      <td>3</td>\n      <td>2020-01-03</td>\n      <td>900</td>\n      <td>800.0</td>\n      <td>700.0</td>\n    </tr>\n    <tr>\n      <th>9</th>\n      <td>1</td>\n      <td>2020-01-04</td>\n      <td>1000</td>\n      <td>900.0</td>\n      <td>800.0</td>\n    </tr>\n    <tr>\n      <th>10</th>\n      <td>2</td>\n      <td>2020-01-04</td>\n      <td>1100</td>\n      <td>1000.0</td>\n      <td>900.0</td>\n    </tr>\n    <tr>\n      <th>11</th>\n      <td>3</td>\n      <td>2020-01-04</td>\n      <td>1200</td>\n      <td>1100.0</td>\n      <td>1000.0</td>\n    </tr>\n    <tr>\n      <th>12</th>\n      <td>1</td>\n      <td>2020-01-05</td>\n      <td>1300</td>\n      <td>1200.0</td>\n      <td>1100.0</td>\n    </tr>\n    <tr>\n      <th>13</th>\n      <td>2</td>\n      <td>2020-01-05</td>\n      <td>1400</td>\n      <td>1300.0</td>\n      <td>1200.0</td>\n    </tr>\n    <tr>\n      <th>14</th>\n      <td>3</td>\n      <td>2020-01-05</td>\n      <td>1500</td>\n      <td>1400.0</td>\n      <td>1300.0</td>\n    </tr>\n  </tbody>\n</table>\n</div>"
     },
     "metadata": {},
     "execution_count": 3
    }
   ],
   "source": [
    "df1 = df.copy()\n",
    "df1[\"lag1\"] = df1[\"demand\"].shift(1)\n",
    "df1[\"lag2\"] = df1[\"demand\"].shift(2)\n",
    "df1"
   ]
  },
  {
   "cell_type": "code",
   "execution_count": 4,
   "metadata": {},
   "outputs": [
    {
     "output_type": "execute_result",
     "data": {
      "text/plain": "    id        date  demand    lag1   lag2\n0    1  2020-01-01     100     NaN    NaN\n1    2  2020-01-01     200     NaN    NaN\n2    3  2020-01-01     300     NaN    NaN\n3    1  2020-01-02     400   100.0    NaN\n4    2  2020-01-02     500   200.0    NaN\n5    3  2020-01-02     600   300.0    NaN\n6    1  2020-01-03     700   400.0  100.0\n7    2  2020-01-03     800   500.0  200.0\n8    3  2020-01-03     900   600.0  300.0\n9    1  2020-01-04    1000   700.0  400.0\n10   2  2020-01-04    1100   800.0  500.0\n11   3  2020-01-04    1200   900.0  600.0\n12   1  2020-01-05    1300  1000.0  700.0\n13   2  2020-01-05    1400  1100.0  800.0\n14   3  2020-01-05    1500  1200.0  900.0",
      "text/html": "<div>\n<style scoped>\n    .dataframe tbody tr th:only-of-type {\n        vertical-align: middle;\n    }\n\n    .dataframe tbody tr th {\n        vertical-align: top;\n    }\n\n    .dataframe thead th {\n        text-align: right;\n    }\n</style>\n<table border=\"1\" class=\"dataframe\">\n  <thead>\n    <tr style=\"text-align: right;\">\n      <th></th>\n      <th>id</th>\n      <th>date</th>\n      <th>demand</th>\n      <th>lag1</th>\n      <th>lag2</th>\n    </tr>\n  </thead>\n  <tbody>\n    <tr>\n      <th>0</th>\n      <td>1</td>\n      <td>2020-01-01</td>\n      <td>100</td>\n      <td>NaN</td>\n      <td>NaN</td>\n    </tr>\n    <tr>\n      <th>1</th>\n      <td>2</td>\n      <td>2020-01-01</td>\n      <td>200</td>\n      <td>NaN</td>\n      <td>NaN</td>\n    </tr>\n    <tr>\n      <th>2</th>\n      <td>3</td>\n      <td>2020-01-01</td>\n      <td>300</td>\n      <td>NaN</td>\n      <td>NaN</td>\n    </tr>\n    <tr>\n      <th>3</th>\n      <td>1</td>\n      <td>2020-01-02</td>\n      <td>400</td>\n      <td>100.0</td>\n      <td>NaN</td>\n    </tr>\n    <tr>\n      <th>4</th>\n      <td>2</td>\n      <td>2020-01-02</td>\n      <td>500</td>\n      <td>200.0</td>\n      <td>NaN</td>\n    </tr>\n    <tr>\n      <th>5</th>\n      <td>3</td>\n      <td>2020-01-02</td>\n      <td>600</td>\n      <td>300.0</td>\n      <td>NaN</td>\n    </tr>\n    <tr>\n      <th>6</th>\n      <td>1</td>\n      <td>2020-01-03</td>\n      <td>700</td>\n      <td>400.0</td>\n      <td>100.0</td>\n    </tr>\n    <tr>\n      <th>7</th>\n      <td>2</td>\n      <td>2020-01-03</td>\n      <td>800</td>\n      <td>500.0</td>\n      <td>200.0</td>\n    </tr>\n    <tr>\n      <th>8</th>\n      <td>3</td>\n      <td>2020-01-03</td>\n      <td>900</td>\n      <td>600.0</td>\n      <td>300.0</td>\n    </tr>\n    <tr>\n      <th>9</th>\n      <td>1</td>\n      <td>2020-01-04</td>\n      <td>1000</td>\n      <td>700.0</td>\n      <td>400.0</td>\n    </tr>\n    <tr>\n      <th>10</th>\n      <td>2</td>\n      <td>2020-01-04</td>\n      <td>1100</td>\n      <td>800.0</td>\n      <td>500.0</td>\n    </tr>\n    <tr>\n      <th>11</th>\n      <td>3</td>\n      <td>2020-01-04</td>\n      <td>1200</td>\n      <td>900.0</td>\n      <td>600.0</td>\n    </tr>\n    <tr>\n      <th>12</th>\n      <td>1</td>\n      <td>2020-01-05</td>\n      <td>1300</td>\n      <td>1000.0</td>\n      <td>700.0</td>\n    </tr>\n    <tr>\n      <th>13</th>\n      <td>2</td>\n      <td>2020-01-05</td>\n      <td>1400</td>\n      <td>1100.0</td>\n      <td>800.0</td>\n    </tr>\n    <tr>\n      <th>14</th>\n      <td>3</td>\n      <td>2020-01-05</td>\n      <td>1500</td>\n      <td>1200.0</td>\n      <td>900.0</td>\n    </tr>\n  </tbody>\n</table>\n</div>"
     },
     "metadata": {},
     "execution_count": 4
    }
   ],
   "source": [
    "df2 = df.copy()\n",
    "df2[\"lag1\"] = df2.groupby(\"id\")[\"demand\"].shift(1)\n",
    "df2[\"lag2\"] = df2.groupby(\"id\")[\"demand\"].shift(2)\n",
    "df2"
   ]
  },
  {
   "cell_type": "code",
   "execution_count": 5,
   "metadata": {},
   "outputs": [
    {
     "output_type": "execute_result",
     "data": {
      "text/plain": "    id        date  demand    lag1   lag2\n0    1  2020-01-01     100     NaN    NaN\n1    2  2020-01-01     200     NaN    NaN\n2    3  2020-01-01     300     NaN    NaN\n3    1  2020-01-02     400   100.0    NaN\n4    2  2020-01-02     500   200.0    NaN\n5    3  2020-01-02     600   300.0    NaN\n6    1  2020-01-03     700   400.0  100.0\n7    2  2020-01-03     800   500.0  200.0\n8    3  2020-01-03     900   600.0  300.0\n9    1  2020-01-04    1000   700.0  400.0\n10   2  2020-01-04    1100   800.0  500.0\n11   3  2020-01-04    1200   900.0  600.0\n12   1  2020-01-05    1300  1000.0  700.0\n13   2  2020-01-05    1400  1100.0  800.0\n14   3  2020-01-05    1500  1200.0  900.0",
      "text/html": "<div>\n<style scoped>\n    .dataframe tbody tr th:only-of-type {\n        vertical-align: middle;\n    }\n\n    .dataframe tbody tr th {\n        vertical-align: top;\n    }\n\n    .dataframe thead th {\n        text-align: right;\n    }\n</style>\n<table border=\"1\" class=\"dataframe\">\n  <thead>\n    <tr style=\"text-align: right;\">\n      <th></th>\n      <th>id</th>\n      <th>date</th>\n      <th>demand</th>\n      <th>lag1</th>\n      <th>lag2</th>\n    </tr>\n  </thead>\n  <tbody>\n    <tr>\n      <th>0</th>\n      <td>1</td>\n      <td>2020-01-01</td>\n      <td>100</td>\n      <td>NaN</td>\n      <td>NaN</td>\n    </tr>\n    <tr>\n      <th>1</th>\n      <td>2</td>\n      <td>2020-01-01</td>\n      <td>200</td>\n      <td>NaN</td>\n      <td>NaN</td>\n    </tr>\n    <tr>\n      <th>2</th>\n      <td>3</td>\n      <td>2020-01-01</td>\n      <td>300</td>\n      <td>NaN</td>\n      <td>NaN</td>\n    </tr>\n    <tr>\n      <th>3</th>\n      <td>1</td>\n      <td>2020-01-02</td>\n      <td>400</td>\n      <td>100.0</td>\n      <td>NaN</td>\n    </tr>\n    <tr>\n      <th>4</th>\n      <td>2</td>\n      <td>2020-01-02</td>\n      <td>500</td>\n      <td>200.0</td>\n      <td>NaN</td>\n    </tr>\n    <tr>\n      <th>5</th>\n      <td>3</td>\n      <td>2020-01-02</td>\n      <td>600</td>\n      <td>300.0</td>\n      <td>NaN</td>\n    </tr>\n    <tr>\n      <th>6</th>\n      <td>1</td>\n      <td>2020-01-03</td>\n      <td>700</td>\n      <td>400.0</td>\n      <td>100.0</td>\n    </tr>\n    <tr>\n      <th>7</th>\n      <td>2</td>\n      <td>2020-01-03</td>\n      <td>800</td>\n      <td>500.0</td>\n      <td>200.0</td>\n    </tr>\n    <tr>\n      <th>8</th>\n      <td>3</td>\n      <td>2020-01-03</td>\n      <td>900</td>\n      <td>600.0</td>\n      <td>300.0</td>\n    </tr>\n    <tr>\n      <th>9</th>\n      <td>1</td>\n      <td>2020-01-04</td>\n      <td>1000</td>\n      <td>700.0</td>\n      <td>400.0</td>\n    </tr>\n    <tr>\n      <th>10</th>\n      <td>2</td>\n      <td>2020-01-04</td>\n      <td>1100</td>\n      <td>800.0</td>\n      <td>500.0</td>\n    </tr>\n    <tr>\n      <th>11</th>\n      <td>3</td>\n      <td>2020-01-04</td>\n      <td>1200</td>\n      <td>900.0</td>\n      <td>600.0</td>\n    </tr>\n    <tr>\n      <th>12</th>\n      <td>1</td>\n      <td>2020-01-05</td>\n      <td>1300</td>\n      <td>1000.0</td>\n      <td>700.0</td>\n    </tr>\n    <tr>\n      <th>13</th>\n      <td>2</td>\n      <td>2020-01-05</td>\n      <td>1400</td>\n      <td>1100.0</td>\n      <td>800.0</td>\n    </tr>\n    <tr>\n      <th>14</th>\n      <td>3</td>\n      <td>2020-01-05</td>\n      <td>1500</td>\n      <td>1200.0</td>\n      <td>900.0</td>\n    </tr>\n  </tbody>\n</table>\n</div>"
     },
     "metadata": {},
     "execution_count": 5
    }
   ],
   "source": [
    "df3 = df.copy()\n",
    "df3[\"lag1\"] = df3.groupby(\"id\")[\"demand\"].transform(lambda x: x.shift(1))\n",
    "df3[\"lag2\"] = df3.groupby(\"id\")[\"demand\"].transform(lambda x: x.shift(2))\n",
    "df3"
   ]
  },
  {
   "cell_type": "markdown",
   "metadata": {},
   "source": [
    "df2とdf3の挙動は同じ"
   ]
  },
  {
   "cell_type": "code",
   "execution_count": 15,
   "metadata": {},
   "outputs": [
    {
     "output_type": "execute_result",
     "data": {
      "text/plain": "    id        date  demand\n0    1  2020-01-01     100\n1    2  2020-01-01     200\n2    3  2020-01-01     300\n3    1  2020-01-02     400\n4    2  2020-01-02     500\n5    3  2020-01-02     600\n6    1  2020-01-03     700\n7    2  2020-01-03     800\n8    3  2020-01-03     900\n9    1  2020-01-04    1000\n10   2  2020-01-04    1100\n11   3  2020-01-04    1200\n12   1  2020-01-05    1300\n13   2  2020-01-05    1400\n14   3  2020-01-05    1500",
      "text/html": "<div>\n<style scoped>\n    .dataframe tbody tr th:only-of-type {\n        vertical-align: middle;\n    }\n\n    .dataframe tbody tr th {\n        vertical-align: top;\n    }\n\n    .dataframe thead th {\n        text-align: right;\n    }\n</style>\n<table border=\"1\" class=\"dataframe\">\n  <thead>\n    <tr style=\"text-align: right;\">\n      <th></th>\n      <th>id</th>\n      <th>date</th>\n      <th>demand</th>\n    </tr>\n  </thead>\n  <tbody>\n    <tr>\n      <th>0</th>\n      <td>1</td>\n      <td>2020-01-01</td>\n      <td>100</td>\n    </tr>\n    <tr>\n      <th>1</th>\n      <td>2</td>\n      <td>2020-01-01</td>\n      <td>200</td>\n    </tr>\n    <tr>\n      <th>2</th>\n      <td>3</td>\n      <td>2020-01-01</td>\n      <td>300</td>\n    </tr>\n    <tr>\n      <th>3</th>\n      <td>1</td>\n      <td>2020-01-02</td>\n      <td>400</td>\n    </tr>\n    <tr>\n      <th>4</th>\n      <td>2</td>\n      <td>2020-01-02</td>\n      <td>500</td>\n    </tr>\n    <tr>\n      <th>5</th>\n      <td>3</td>\n      <td>2020-01-02</td>\n      <td>600</td>\n    </tr>\n    <tr>\n      <th>6</th>\n      <td>1</td>\n      <td>2020-01-03</td>\n      <td>700</td>\n    </tr>\n    <tr>\n      <th>7</th>\n      <td>2</td>\n      <td>2020-01-03</td>\n      <td>800</td>\n    </tr>\n    <tr>\n      <th>8</th>\n      <td>3</td>\n      <td>2020-01-03</td>\n      <td>900</td>\n    </tr>\n    <tr>\n      <th>9</th>\n      <td>1</td>\n      <td>2020-01-04</td>\n      <td>1000</td>\n    </tr>\n    <tr>\n      <th>10</th>\n      <td>2</td>\n      <td>2020-01-04</td>\n      <td>1100</td>\n    </tr>\n    <tr>\n      <th>11</th>\n      <td>3</td>\n      <td>2020-01-04</td>\n      <td>1200</td>\n    </tr>\n    <tr>\n      <th>12</th>\n      <td>1</td>\n      <td>2020-01-05</td>\n      <td>1300</td>\n    </tr>\n    <tr>\n      <th>13</th>\n      <td>2</td>\n      <td>2020-01-05</td>\n      <td>1400</td>\n    </tr>\n    <tr>\n      <th>14</th>\n      <td>3</td>\n      <td>2020-01-05</td>\n      <td>1500</td>\n    </tr>\n  </tbody>\n</table>\n</div>"
     },
     "metadata": {},
     "execution_count": 15
    }
   ],
   "source": [
    "df4 = df.copy()\n",
    "df4"
   ]
  },
  {
   "cell_type": "code",
   "execution_count": 22,
   "metadata": {},
   "outputs": [
    {
     "output_type": "execute_result",
     "data": {
      "text/plain": "    id        date  demand  lag_1_2\n0    1  2020-01-01     100      NaN\n1    2  2020-01-01     200      NaN\n2    3  2020-01-01     300      NaN\n3    1  2020-01-02     400      NaN\n4    2  2020-01-02     500      NaN\n5    3  2020-01-02     600      NaN\n6    1  2020-01-03     700    250.0\n7    2  2020-01-03     800    350.0\n8    3  2020-01-03     900    450.0\n9    1  2020-01-04    1000    550.0\n10   2  2020-01-04    1100    650.0\n11   3  2020-01-04    1200    750.0\n12   1  2020-01-05    1300    850.0\n13   2  2020-01-05    1400    950.0\n14   3  2020-01-05    1500   1050.0",
      "text/html": "<div>\n<style scoped>\n    .dataframe tbody tr th:only-of-type {\n        vertical-align: middle;\n    }\n\n    .dataframe tbody tr th {\n        vertical-align: top;\n    }\n\n    .dataframe thead th {\n        text-align: right;\n    }\n</style>\n<table border=\"1\" class=\"dataframe\">\n  <thead>\n    <tr style=\"text-align: right;\">\n      <th></th>\n      <th>id</th>\n      <th>date</th>\n      <th>demand</th>\n      <th>lag_1_2</th>\n    </tr>\n  </thead>\n  <tbody>\n    <tr>\n      <th>0</th>\n      <td>1</td>\n      <td>2020-01-01</td>\n      <td>100</td>\n      <td>NaN</td>\n    </tr>\n    <tr>\n      <th>1</th>\n      <td>2</td>\n      <td>2020-01-01</td>\n      <td>200</td>\n      <td>NaN</td>\n    </tr>\n    <tr>\n      <th>2</th>\n      <td>3</td>\n      <td>2020-01-01</td>\n      <td>300</td>\n      <td>NaN</td>\n    </tr>\n    <tr>\n      <th>3</th>\n      <td>1</td>\n      <td>2020-01-02</td>\n      <td>400</td>\n      <td>NaN</td>\n    </tr>\n    <tr>\n      <th>4</th>\n      <td>2</td>\n      <td>2020-01-02</td>\n      <td>500</td>\n      <td>NaN</td>\n    </tr>\n    <tr>\n      <th>5</th>\n      <td>3</td>\n      <td>2020-01-02</td>\n      <td>600</td>\n      <td>NaN</td>\n    </tr>\n    <tr>\n      <th>6</th>\n      <td>1</td>\n      <td>2020-01-03</td>\n      <td>700</td>\n      <td>250.0</td>\n    </tr>\n    <tr>\n      <th>7</th>\n      <td>2</td>\n      <td>2020-01-03</td>\n      <td>800</td>\n      <td>350.0</td>\n    </tr>\n    <tr>\n      <th>8</th>\n      <td>3</td>\n      <td>2020-01-03</td>\n      <td>900</td>\n      <td>450.0</td>\n    </tr>\n    <tr>\n      <th>9</th>\n      <td>1</td>\n      <td>2020-01-04</td>\n      <td>1000</td>\n      <td>550.0</td>\n    </tr>\n    <tr>\n      <th>10</th>\n      <td>2</td>\n      <td>2020-01-04</td>\n      <td>1100</td>\n      <td>650.0</td>\n    </tr>\n    <tr>\n      <th>11</th>\n      <td>3</td>\n      <td>2020-01-04</td>\n      <td>1200</td>\n      <td>750.0</td>\n    </tr>\n    <tr>\n      <th>12</th>\n      <td>1</td>\n      <td>2020-01-05</td>\n      <td>1300</td>\n      <td>850.0</td>\n    </tr>\n    <tr>\n      <th>13</th>\n      <td>2</td>\n      <td>2020-01-05</td>\n      <td>1400</td>\n      <td>950.0</td>\n    </tr>\n    <tr>\n      <th>14</th>\n      <td>3</td>\n      <td>2020-01-05</td>\n      <td>1500</td>\n      <td>1050.0</td>\n    </tr>\n  </tbody>\n</table>\n</div>"
     },
     "metadata": {},
     "execution_count": 22
    }
   ],
   "source": [
    "df4[\"lag_1_2\"] = df4.groupby('id').transform(lambda x: x.shift(1).rolling(2).mean())\n",
    "df4"
   ]
  },
  {
   "cell_type": "markdown",
   "metadata": {},
   "source": [
    "shiftとrollingの足した値分下にずれる"
   ]
  },
  {
   "cell_type": "code",
   "execution_count": 21,
   "metadata": {},
   "outputs": [
    {
     "output_type": "execute_result",
     "data": {
      "text/plain": "    id        date  demand    lag1   lag2  lag1_2\n0    1  2020-01-01     100     NaN    NaN     NaN\n1    2  2020-01-01     200     NaN    NaN     NaN\n2    3  2020-01-01     300     NaN    NaN     NaN\n3    1  2020-01-02     400   100.0    NaN     NaN\n4    2  2020-01-02     500   200.0    NaN     NaN\n5    3  2020-01-02     600   300.0    NaN     NaN\n6    1  2020-01-03     700   400.0  100.0   250.0\n7    2  2020-01-03     800   500.0  200.0   350.0\n8    3  2020-01-03     900   600.0  300.0   450.0\n9    1  2020-01-04    1000   700.0  400.0   550.0\n10   2  2020-01-04    1100   800.0  500.0   650.0\n11   3  2020-01-04    1200   900.0  600.0   750.0\n12   1  2020-01-05    1300  1000.0  700.0   850.0\n13   2  2020-01-05    1400  1100.0  800.0   950.0\n14   3  2020-01-05    1500  1200.0  900.0  1050.0",
      "text/html": "<div>\n<style scoped>\n    .dataframe tbody tr th:only-of-type {\n        vertical-align: middle;\n    }\n\n    .dataframe tbody tr th {\n        vertical-align: top;\n    }\n\n    .dataframe thead th {\n        text-align: right;\n    }\n</style>\n<table border=\"1\" class=\"dataframe\">\n  <thead>\n    <tr style=\"text-align: right;\">\n      <th></th>\n      <th>id</th>\n      <th>date</th>\n      <th>demand</th>\n      <th>lag1</th>\n      <th>lag2</th>\n      <th>lag1_2</th>\n    </tr>\n  </thead>\n  <tbody>\n    <tr>\n      <th>0</th>\n      <td>1</td>\n      <td>2020-01-01</td>\n      <td>100</td>\n      <td>NaN</td>\n      <td>NaN</td>\n      <td>NaN</td>\n    </tr>\n    <tr>\n      <th>1</th>\n      <td>2</td>\n      <td>2020-01-01</td>\n      <td>200</td>\n      <td>NaN</td>\n      <td>NaN</td>\n      <td>NaN</td>\n    </tr>\n    <tr>\n      <th>2</th>\n      <td>3</td>\n      <td>2020-01-01</td>\n      <td>300</td>\n      <td>NaN</td>\n      <td>NaN</td>\n      <td>NaN</td>\n    </tr>\n    <tr>\n      <th>3</th>\n      <td>1</td>\n      <td>2020-01-02</td>\n      <td>400</td>\n      <td>100.0</td>\n      <td>NaN</td>\n      <td>NaN</td>\n    </tr>\n    <tr>\n      <th>4</th>\n      <td>2</td>\n      <td>2020-01-02</td>\n      <td>500</td>\n      <td>200.0</td>\n      <td>NaN</td>\n      <td>NaN</td>\n    </tr>\n    <tr>\n      <th>5</th>\n      <td>3</td>\n      <td>2020-01-02</td>\n      <td>600</td>\n      <td>300.0</td>\n      <td>NaN</td>\n      <td>NaN</td>\n    </tr>\n    <tr>\n      <th>6</th>\n      <td>1</td>\n      <td>2020-01-03</td>\n      <td>700</td>\n      <td>400.0</td>\n      <td>100.0</td>\n      <td>250.0</td>\n    </tr>\n    <tr>\n      <th>7</th>\n      <td>2</td>\n      <td>2020-01-03</td>\n      <td>800</td>\n      <td>500.0</td>\n      <td>200.0</td>\n      <td>350.0</td>\n    </tr>\n    <tr>\n      <th>8</th>\n      <td>3</td>\n      <td>2020-01-03</td>\n      <td>900</td>\n      <td>600.0</td>\n      <td>300.0</td>\n      <td>450.0</td>\n    </tr>\n    <tr>\n      <th>9</th>\n      <td>1</td>\n      <td>2020-01-04</td>\n      <td>1000</td>\n      <td>700.0</td>\n      <td>400.0</td>\n      <td>550.0</td>\n    </tr>\n    <tr>\n      <th>10</th>\n      <td>2</td>\n      <td>2020-01-04</td>\n      <td>1100</td>\n      <td>800.0</td>\n      <td>500.0</td>\n      <td>650.0</td>\n    </tr>\n    <tr>\n      <th>11</th>\n      <td>3</td>\n      <td>2020-01-04</td>\n      <td>1200</td>\n      <td>900.0</td>\n      <td>600.0</td>\n      <td>750.0</td>\n    </tr>\n    <tr>\n      <th>12</th>\n      <td>1</td>\n      <td>2020-01-05</td>\n      <td>1300</td>\n      <td>1000.0</td>\n      <td>700.0</td>\n      <td>850.0</td>\n    </tr>\n    <tr>\n      <th>13</th>\n      <td>2</td>\n      <td>2020-01-05</td>\n      <td>1400</td>\n      <td>1100.0</td>\n      <td>800.0</td>\n      <td>950.0</td>\n    </tr>\n    <tr>\n      <th>14</th>\n      <td>3</td>\n      <td>2020-01-05</td>\n      <td>1500</td>\n      <td>1200.0</td>\n      <td>900.0</td>\n      <td>1050.0</td>\n    </tr>\n  </tbody>\n</table>\n</div>"
     },
     "metadata": {},
     "execution_count": 21
    }
   ],
   "source": [
    "df2[\"lag1_2\"] = df2.groupby('id')[\"lag1\"].transform(lambda x: x.rolling(2).mean())\n",
    "df2"
   ]
  },
  {
   "cell_type": "markdown",
   "metadata": {},
   "source": [
    "df4.groupby('id').transform(lambda x: x.shift(1).rolling(2).mean())と   \n",
    "df2.groupby('id')[\"lag1\"].transform(lambda x: x.rolling(2).mean())は同じ  "
   ]
  },
  {
   "cell_type": "code",
   "execution_count": 23,
   "metadata": {},
   "outputs": [
    {
     "output_type": "execute_result",
     "data": {
      "text/plain": "0        NaN\n1        NaN\n2        NaN\n3        NaN\n4      150.0\n5      250.0\n6      350.0\n7      450.0\n8      550.0\n9      650.0\n10     750.0\n11     850.0\n12     950.0\n13    1050.0\n14    1150.0\nName: demand, dtype: float64"
     },
     "metadata": {},
     "execution_count": 23
    }
   ],
   "source": [
    "df2.groupby('id')[\"demand\"].shift(1).rolling(2).mean()"
   ]
  },
  {
   "cell_type": "code",
   "execution_count": null,
   "metadata": {},
   "outputs": [],
   "source": []
  }
 ]
}