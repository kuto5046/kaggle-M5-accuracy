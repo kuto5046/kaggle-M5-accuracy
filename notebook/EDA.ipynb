{
 "nbformat": 4,
 "nbformat_minor": 2,
 "metadata": {
  "language_info": {
   "name": "python",
   "codemirror_mode": {
    "name": "ipython",
    "version": 3
   },
   "version": "3.7.4-final"
  },
  "orig_nbformat": 2,
  "file_extension": ".py",
  "mimetype": "text/x-python",
  "name": "python",
  "npconvert_exporter": "python",
  "pygments_lexer": "ipython3",
  "version": 3,
  "kernelspec": {
   "name": "python37464biteddf527578464ed5a56435cc8d4ac68f",
   "display_name": "Python 3.7.4 64-bit"
  }
 },
 "cells": [
  {
   "cell_type": "code",
   "execution_count": 1,
   "metadata": {},
   "outputs": [],
   "source": [
    "import os\n",
    "import gc\n",
    "import numpy as np\n",
    "import pandas as pd"
   ]
  },
  {
   "cell_type": "code",
   "execution_count": 2,
   "metadata": {},
   "outputs": [],
   "source": [
    "# メモリ使用量の削減\n",
    "def reduce_mem_usage(df, verbose=False):\n",
    "    numerics = ['int16', 'int32', 'int64', 'float16', 'float32', 'float64']\n",
    "    start_mem = df.memory_usage().sum() / 1024**2    \n",
    "    for col in df.columns:\n",
    "        col_type = df[col].dtypes\n",
    "        if col_type in numerics:\n",
    "            c_min = df[col].min()\n",
    "            c_max = df[col].max()\n",
    "            if str(col_type)[:3] == 'int':\n",
    "                if c_min > np.iinfo(np.int8).min and c_max < np.iinfo(np.int8).max:\n",
    "                    df[col] = df[col].astype(np.int8)\n",
    "                elif c_min > np.iinfo(np.int16).min and c_max < np.iinfo(np.int16).max:\n",
    "                    df[col] = df[col].astype(np.int16)\n",
    "                elif c_min > np.iinfo(np.int32).min and c_max < np.iinfo(np.int32).max:\n",
    "                    df[col] = df[col].astype(np.int32)\n",
    "                elif c_min > np.iinfo(np.int64).min and c_max < np.iinfo(np.int64).max:\n",
    "                    df[col] = df[col].astype(np.int64)  \n",
    "            else:\n",
    "                if c_min > np.finfo(np.float16).min and c_max < np.finfo(np.float16).max:\n",
    "                    df[col] = df[col].astype(np.float16)\n",
    "                elif c_min > np.finfo(np.float32).min and c_max < np.finfo(np.float32).max:\n",
    "                    df[col] = df[col].astype(np.float32)\n",
    "                else:\n",
    "                    df[col] = df[col].astype(np.float64)    \n",
    "    end_mem = df.memory_usage().sum() / 1024**2\n",
    "    if verbose: print('Mem. usage decreased to {:5.2f} Mb ({:.1f}% reduction)'.format(end_mem, 100 * (start_mem - end_mem) / start_mem))\n",
    "    return df"
   ]
  },
  {
   "cell_type": "code",
   "execution_count": 3,
   "metadata": {},
   "outputs": [],
   "source": [
    "def read_data():\n",
    "    print('Reading files...')\n",
    "\n",
    "    calendar_df = pd.read_csv('../input/m5-forecasting-accuracy/calendar.csv')\n",
    "    calendar_df = reduce_mem_usage(calendar_df)\n",
    "    print('Calendar: ' + str(calendar_df.shape))\n",
    "    print(\"{0} information in {1} days\".format(calendar_df.shape[1], calendar_df.shape[0]))\n",
    "\n",
    "    sell_prices_df = pd.read_csv('../input/m5-forecasting-accuracy/sell_prices.csv')\n",
    "    sell_prices_df = reduce_mem_usage(sell_prices_df)\n",
    "    print('Sell prices: ' + str(sell_prices_df.shape))\n",
    "\n",
    "    train_df = pd.read_csv('../input/m5-forecasting-accuracy/sales_train_validation.csv')\n",
    "    print('Sales train validation: ' + str(train_df.shape))\n",
    "\n",
    "    submission_df = pd.read_csv('../input/m5-forecasting-accuracy/sample_submission.csv')\n",
    "    print(\"Submission: \" + str(submission_df.shape))\n",
    "    return calendar_df, sell_prices_df, train_df, submission_df"
   ]
  },
  {
   "cell_type": "code",
   "execution_count": 4,
   "metadata": {},
   "outputs": [],
   "source": [
    "def melt_and_merge(calendar_df, sell_prices_df, train_df, submission_df):\n",
    "\n",
    "    # 商品情報を抽出\n",
    "    product_df = train_df.loc[:, \"id\":\"state_id\"]\n",
    "    \n",
    "    # 列方向に連なっていたのを変形し行方向に連ねるように整理\n",
    "    train_df = pd.melt(train_df, id_vars = ['id', 'item_id', 'dept_id', 'cat_id', 'store_id', 'state_id'], \n",
    "                       var_name = 'day', value_name = 'demand')\n",
    "    train_df = reduce_mem_usage(train_df)\n",
    "    train_day = train_df[\"day\"].unique()\n",
    "    print(\"\\ntrain_data: {} ~ {}\".format(train_day[0], train_day[-1]))\n",
    "\n",
    "    # seperate test dataframes\n",
    "    valid_df = submission_df[submission_df[\"id\"].str.contains(\"validation\")]\n",
    "    eval_df = submission_df[submission_df[\"id\"].str.contains(\"evaluation\")]\n",
    "    \n",
    "    # change column names\n",
    "    valid_df.columns = [\"id\"] + [f\"d_{d}\" for d in range(1914, 1942)]  # validation data: F1 ~ F28 => d_1914 ~ d_1941\n",
    "    eval_df.columns = [\"id\"] + [f\"d_{d}\" for d in range(1942, 1970)]  # evaluation data: F1 ~ F28 => d_1942 ~ d_1969\n",
    "\n",
    "    # melt, mergeを使ってsubmission用のdataframeを上のsales_train_validationと同様の形式に変形\n",
    "    valid_df = valid_df.merge(product_df, how = 'left', on = 'id')\n",
    "    valid_df = pd.melt(valid_df, id_vars = ['id', 'item_id', 'dept_id', 'cat_id', 'store_id', 'state_id'],\n",
    "                       var_name = 'day', value_name = 'demand')\n",
    "    valid_day = valid_df[\"day\"].unique()\n",
    "    print(\"valid_data[STAGE1]: {} ~ {}\".format(valid_day[0], valid_day[-1]))\n",
    "\n",
    "    # train_df, valid_dfと同様にeval_dfとproduct_dfをmergeさせたい\n",
    "    # しかしidが_evaluationのままだとデータが一致せずmergeできないので一時的に_validationにidを変更\n",
    "    eval_df['id'] = eval_df.loc[:, 'id'].str.replace('_evaluation','_validation')\n",
    "    eval_df = eval_df.merge(product_df, how = 'left', on = 'id')\n",
    "    eval_df['id'] = eval_df.loc[:, 'id'].str.replace('_validation','_evaluation')\n",
    "    eval_df = pd.melt(eval_df, id_vars = ['id', 'item_id', 'dept_id', 'cat_id', 'store_id', 'state_id'],\n",
    "                      var_name = 'day', value_name = 'demand')\n",
    "    eval_day = eval_df[\"day\"].unique()\n",
    "    print(\"eval_data[STAGE2]: {} ~ {}\".format(eval_day[0], eval_day[-1]))\n",
    "\n",
    "    train_df['part'] = 'train'\n",
    "    valid_df['part'] = 'valid'\n",
    "    eval_df['part'] = 'eval'\n",
    "    \n",
    "    data_df = pd.concat([train_df, valid_df, eval_df], axis = 0)\n",
    "    print(\"\\n[INFO] data_df(after merge valid & eval) ->\")\n",
    "    print(data_df.head(5))\n",
    "    print(data_df.columns)\n",
    "\n",
    "    # 不要なdataframeの削除\n",
    "    del train_df, valid_df, eval_df\n",
    "    gc.collect()\n",
    "    \n",
    "    # NOTE get only a sample for fast training\n",
    "    # data_df = data_df.loc[nrows:]\n",
    "    # print(\"\\n[CHECK] Remove some train data\")\n",
    "    \n",
    "    # drop some calendar features\n",
    "    calendar_df.drop(['weekday', 'wday', 'month', 'year'], inplace = True, axis = 1)\n",
    "    \n",
    "    # delete eval_df for now\n",
    "    data_df = data_df[data_df['part'] != 'eval']\n",
    "    print(\"[CHECK] Remove the eval data in {} ~ {}\".format(eval_day[0], eval_day[-1]))\n",
    "\n",
    "    # notebook crash with the entire dataset (maybee use tensorflow, dask, pyspark xD)\n",
    "    data_df = pd.merge(data_df, calendar_df, how = 'left', left_on = ['day'], right_on = ['d'])\n",
    "    data_df.drop(['d', 'day'], inplace = True, axis = 1)\n",
    "\n",
    "    # get the sell price data (this feature should be very important)\n",
    "    data_df = data_df.merge(sell_prices_df, on = ['store_id', 'item_id', 'wm_yr_wk'], how = 'left')\n",
    "    print(\"\\n[INFO] data_df(after merge calendar & prices) ->\")\n",
    "    print(data_df.head(5))\n",
    "    print(data_df.columns)\n",
    "\n",
    "    del calendar_df, sell_prices_df\n",
    "    gc.collect()\n",
    "    \n",
    "    return data_df, product_df"
   ]
  },
  {
   "cell_type": "code",
   "execution_count": 5,
   "metadata": {},
   "outputs": [
    {
     "output_type": "stream",
     "name": "stdout",
     "text": "Reading files...\nCalendar: (1969, 14)\n14 information in 1969 days\nSell prices: (6841121, 4)\nSales train validation: (30490, 1919)\nSubmission: (60980, 29)\n"
    }
   ],
   "source": [
    "calendar_df, sell_prices_df, train_df, submission_df = read_data()"
   ]
  },
  {
   "cell_type": "code",
   "execution_count": 6,
   "metadata": {},
   "outputs": [
    {
     "output_type": "stream",
     "name": "stdout",
     "text": "\ntrain_data: d_1 ~ d_1913\nvalid_data[STAGE1]: d_1914 ~ d_1941\neval_data[STAGE2]: d_1942 ~ d_1969\n\n[INFO] data_df(after merge valid & eval) ->\n                              id        item_id    dept_id   cat_id store_id  \\\n0  HOBBIES_1_001_CA_1_validation  HOBBIES_1_001  HOBBIES_1  HOBBIES     CA_1   \n1  HOBBIES_1_002_CA_1_validation  HOBBIES_1_002  HOBBIES_1  HOBBIES     CA_1   \n2  HOBBIES_1_003_CA_1_validation  HOBBIES_1_003  HOBBIES_1  HOBBIES     CA_1   \n3  HOBBIES_1_004_CA_1_validation  HOBBIES_1_004  HOBBIES_1  HOBBIES     CA_1   \n4  HOBBIES_1_005_CA_1_validation  HOBBIES_1_005  HOBBIES_1  HOBBIES     CA_1   \n\n  state_id  day  demand   part  \n0       CA  d_1       0  train  \n1       CA  d_1       0  train  \n2       CA  d_1       0  train  \n3       CA  d_1       0  train  \n4       CA  d_1       0  train  \nIndex(['id', 'item_id', 'dept_id', 'cat_id', 'store_id', 'state_id', 'day',\n       'demand', 'part'],\n      dtype='object')\n[CHECK] Remove the eval data in d_1942 ~ d_1969\n\n[INFO] data_df(after merge calendar & prices) ->\n                              id        item_id    dept_id   cat_id store_id  \\\n0  HOBBIES_1_001_CA_1_validation  HOBBIES_1_001  HOBBIES_1  HOBBIES     CA_1   \n1  HOBBIES_1_002_CA_1_validation  HOBBIES_1_002  HOBBIES_1  HOBBIES     CA_1   \n2  HOBBIES_1_003_CA_1_validation  HOBBIES_1_003  HOBBIES_1  HOBBIES     CA_1   \n3  HOBBIES_1_004_CA_1_validation  HOBBIES_1_004  HOBBIES_1  HOBBIES     CA_1   \n4  HOBBIES_1_005_CA_1_validation  HOBBIES_1_005  HOBBIES_1  HOBBIES     CA_1   \n\n  state_id  demand   part        date  wm_yr_wk event_name_1 event_type_1  \\\n0       CA       0  train  2011-01-29     11101          NaN          NaN   \n1       CA       0  train  2011-01-29     11101          NaN          NaN   \n2       CA       0  train  2011-01-29     11101          NaN          NaN   \n3       CA       0  train  2011-01-29     11101          NaN          NaN   \n4       CA       0  train  2011-01-29     11101          NaN          NaN   \n\n  event_name_2 event_type_2  snap_CA  snap_TX  snap_WI  sell_price  \n0          NaN          NaN        0        0        0         NaN  \n1          NaN          NaN        0        0        0         NaN  \n2          NaN          NaN        0        0        0         NaN  \n3          NaN          NaN        0        0        0         NaN  \n4          NaN          NaN        0        0        0         NaN  \nIndex(['id', 'item_id', 'dept_id', 'cat_id', 'store_id', 'state_id', 'demand',\n       'part', 'date', 'wm_yr_wk', 'event_name_1', 'event_type_1',\n       'event_name_2', 'event_type_2', 'snap_CA', 'snap_TX', 'snap_WI',\n       'sell_price'],\n      dtype='object')\n"
    }
   ],
   "source": [
    "data_df, product_df = melt_and_merge(calendar_df, sell_prices_df, train_df, submission_df)"
   ]
  },
  {
   "cell_type": "code",
   "execution_count": 7,
   "metadata": {},
   "outputs": [
    {
     "output_type": "execute_result",
     "data": {
      "text/plain": "                              id        item_id    dept_id   cat_id store_id  \\\n0  HOBBIES_1_001_CA_1_validation  HOBBIES_1_001  HOBBIES_1  HOBBIES     CA_1   \n1  HOBBIES_1_002_CA_1_validation  HOBBIES_1_002  HOBBIES_1  HOBBIES     CA_1   \n2  HOBBIES_1_003_CA_1_validation  HOBBIES_1_003  HOBBIES_1  HOBBIES     CA_1   \n3  HOBBIES_1_004_CA_1_validation  HOBBIES_1_004  HOBBIES_1  HOBBIES     CA_1   \n4  HOBBIES_1_005_CA_1_validation  HOBBIES_1_005  HOBBIES_1  HOBBIES     CA_1   \n\n  state_id  \n0       CA  \n1       CA  \n2       CA  \n3       CA  \n4       CA  ",
      "text/html": "<div>\n<style scoped>\n    .dataframe tbody tr th:only-of-type {\n        vertical-align: middle;\n    }\n\n    .dataframe tbody tr th {\n        vertical-align: top;\n    }\n\n    .dataframe thead th {\n        text-align: right;\n    }\n</style>\n<table border=\"1\" class=\"dataframe\">\n  <thead>\n    <tr style=\"text-align: right;\">\n      <th></th>\n      <th>id</th>\n      <th>item_id</th>\n      <th>dept_id</th>\n      <th>cat_id</th>\n      <th>store_id</th>\n      <th>state_id</th>\n    </tr>\n  </thead>\n  <tbody>\n    <tr>\n      <th>0</th>\n      <td>HOBBIES_1_001_CA_1_validation</td>\n      <td>HOBBIES_1_001</td>\n      <td>HOBBIES_1</td>\n      <td>HOBBIES</td>\n      <td>CA_1</td>\n      <td>CA</td>\n    </tr>\n    <tr>\n      <th>1</th>\n      <td>HOBBIES_1_002_CA_1_validation</td>\n      <td>HOBBIES_1_002</td>\n      <td>HOBBIES_1</td>\n      <td>HOBBIES</td>\n      <td>CA_1</td>\n      <td>CA</td>\n    </tr>\n    <tr>\n      <th>2</th>\n      <td>HOBBIES_1_003_CA_1_validation</td>\n      <td>HOBBIES_1_003</td>\n      <td>HOBBIES_1</td>\n      <td>HOBBIES</td>\n      <td>CA_1</td>\n      <td>CA</td>\n    </tr>\n    <tr>\n      <th>3</th>\n      <td>HOBBIES_1_004_CA_1_validation</td>\n      <td>HOBBIES_1_004</td>\n      <td>HOBBIES_1</td>\n      <td>HOBBIES</td>\n      <td>CA_1</td>\n      <td>CA</td>\n    </tr>\n    <tr>\n      <th>4</th>\n      <td>HOBBIES_1_005_CA_1_validation</td>\n      <td>HOBBIES_1_005</td>\n      <td>HOBBIES_1</td>\n      <td>HOBBIES</td>\n      <td>CA_1</td>\n      <td>CA</td>\n    </tr>\n  </tbody>\n</table>\n</div>"
     },
     "metadata": {},
     "execution_count": 7
    }
   ],
   "source": [
    "product_df.head()"
   ]
  },
  {
   "cell_type": "code",
   "execution_count": 8,
   "metadata": {},
   "outputs": [
    {
     "output_type": "execute_result",
     "data": {
      "text/plain": "(30490, 6)"
     },
     "metadata": {},
     "execution_count": 8
    }
   ],
   "source": [
    "product_df.shape"
   ]
  },
  {
   "cell_type": "markdown",
   "metadata": {},
   "source": [
    "30490個の商品情報(店舗で分けているので被りはある)"
   ]
  },
  {
   "cell_type": "code",
   "execution_count": 9,
   "metadata": {},
   "outputs": [
    {
     "output_type": "execute_result",
     "data": {
      "text/plain": "                              id        item_id    dept_id   cat_id store_id  \\\n0  HOBBIES_1_001_CA_1_validation  HOBBIES_1_001  HOBBIES_1  HOBBIES     CA_1   \n1  HOBBIES_1_002_CA_1_validation  HOBBIES_1_002  HOBBIES_1  HOBBIES     CA_1   \n2  HOBBIES_1_003_CA_1_validation  HOBBIES_1_003  HOBBIES_1  HOBBIES     CA_1   \n3  HOBBIES_1_004_CA_1_validation  HOBBIES_1_004  HOBBIES_1  HOBBIES     CA_1   \n4  HOBBIES_1_005_CA_1_validation  HOBBIES_1_005  HOBBIES_1  HOBBIES     CA_1   \n\n  state_id  demand   part        date  wm_yr_wk event_name_1 event_type_1  \\\n0       CA       0  train  2011-01-29     11101          NaN          NaN   \n1       CA       0  train  2011-01-29     11101          NaN          NaN   \n2       CA       0  train  2011-01-29     11101          NaN          NaN   \n3       CA       0  train  2011-01-29     11101          NaN          NaN   \n4       CA       0  train  2011-01-29     11101          NaN          NaN   \n\n  event_name_2 event_type_2  snap_CA  snap_TX  snap_WI  sell_price  \n0          NaN          NaN        0        0        0         NaN  \n1          NaN          NaN        0        0        0         NaN  \n2          NaN          NaN        0        0        0         NaN  \n3          NaN          NaN        0        0        0         NaN  \n4          NaN          NaN        0        0        0         NaN  ",
      "text/html": "<div>\n<style scoped>\n    .dataframe tbody tr th:only-of-type {\n        vertical-align: middle;\n    }\n\n    .dataframe tbody tr th {\n        vertical-align: top;\n    }\n\n    .dataframe thead th {\n        text-align: right;\n    }\n</style>\n<table border=\"1\" class=\"dataframe\">\n  <thead>\n    <tr style=\"text-align: right;\">\n      <th></th>\n      <th>id</th>\n      <th>item_id</th>\n      <th>dept_id</th>\n      <th>cat_id</th>\n      <th>store_id</th>\n      <th>state_id</th>\n      <th>demand</th>\n      <th>part</th>\n      <th>date</th>\n      <th>wm_yr_wk</th>\n      <th>event_name_1</th>\n      <th>event_type_1</th>\n      <th>event_name_2</th>\n      <th>event_type_2</th>\n      <th>snap_CA</th>\n      <th>snap_TX</th>\n      <th>snap_WI</th>\n      <th>sell_price</th>\n    </tr>\n  </thead>\n  <tbody>\n    <tr>\n      <th>0</th>\n      <td>HOBBIES_1_001_CA_1_validation</td>\n      <td>HOBBIES_1_001</td>\n      <td>HOBBIES_1</td>\n      <td>HOBBIES</td>\n      <td>CA_1</td>\n      <td>CA</td>\n      <td>0</td>\n      <td>train</td>\n      <td>2011-01-29</td>\n      <td>11101</td>\n      <td>NaN</td>\n      <td>NaN</td>\n      <td>NaN</td>\n      <td>NaN</td>\n      <td>0</td>\n      <td>0</td>\n      <td>0</td>\n      <td>NaN</td>\n    </tr>\n    <tr>\n      <th>1</th>\n      <td>HOBBIES_1_002_CA_1_validation</td>\n      <td>HOBBIES_1_002</td>\n      <td>HOBBIES_1</td>\n      <td>HOBBIES</td>\n      <td>CA_1</td>\n      <td>CA</td>\n      <td>0</td>\n      <td>train</td>\n      <td>2011-01-29</td>\n      <td>11101</td>\n      <td>NaN</td>\n      <td>NaN</td>\n      <td>NaN</td>\n      <td>NaN</td>\n      <td>0</td>\n      <td>0</td>\n      <td>0</td>\n      <td>NaN</td>\n    </tr>\n    <tr>\n      <th>2</th>\n      <td>HOBBIES_1_003_CA_1_validation</td>\n      <td>HOBBIES_1_003</td>\n      <td>HOBBIES_1</td>\n      <td>HOBBIES</td>\n      <td>CA_1</td>\n      <td>CA</td>\n      <td>0</td>\n      <td>train</td>\n      <td>2011-01-29</td>\n      <td>11101</td>\n      <td>NaN</td>\n      <td>NaN</td>\n      <td>NaN</td>\n      <td>NaN</td>\n      <td>0</td>\n      <td>0</td>\n      <td>0</td>\n      <td>NaN</td>\n    </tr>\n    <tr>\n      <th>3</th>\n      <td>HOBBIES_1_004_CA_1_validation</td>\n      <td>HOBBIES_1_004</td>\n      <td>HOBBIES_1</td>\n      <td>HOBBIES</td>\n      <td>CA_1</td>\n      <td>CA</td>\n      <td>0</td>\n      <td>train</td>\n      <td>2011-01-29</td>\n      <td>11101</td>\n      <td>NaN</td>\n      <td>NaN</td>\n      <td>NaN</td>\n      <td>NaN</td>\n      <td>0</td>\n      <td>0</td>\n      <td>0</td>\n      <td>NaN</td>\n    </tr>\n    <tr>\n      <th>4</th>\n      <td>HOBBIES_1_005_CA_1_validation</td>\n      <td>HOBBIES_1_005</td>\n      <td>HOBBIES_1</td>\n      <td>HOBBIES</td>\n      <td>CA_1</td>\n      <td>CA</td>\n      <td>0</td>\n      <td>train</td>\n      <td>2011-01-29</td>\n      <td>11101</td>\n      <td>NaN</td>\n      <td>NaN</td>\n      <td>NaN</td>\n      <td>NaN</td>\n      <td>0</td>\n      <td>0</td>\n      <td>0</td>\n      <td>NaN</td>\n    </tr>\n  </tbody>\n</table>\n</div>"
     },
     "metadata": {},
     "execution_count": 9
    }
   ],
   "source": [
    "data_df.head()"
   ]
  },
  {
   "cell_type": "code",
   "execution_count": 10,
   "metadata": {},
   "outputs": [
    {
     "output_type": "stream",
     "name": "stdout",
     "text": "train & valid:(59181090, 18)\ntrain:(58327370, 18)\nvalid:(853720, 18)\n"
    }
   ],
   "source": [
    "print(\"train & valid:{}\".format(data_df.shape))\n",
    "print(\"train:{}\".format(data_df[data_df[\"part\"]==\"train\"].shape))\n",
    "print(\"valid:{}\".format(data_df[data_df[\"part\"]==\"valid\"].shape))"
   ]
  },
  {
   "cell_type": "code",
   "execution_count": 11,
   "metadata": {},
   "outputs": [],
   "source": [
    "train_df = data_df[data_df[\"part\"]==\"train\"]\n",
    "valid_df = data_df[data_df[\"part\"]==\"valid\"]"
   ]
  },
  {
   "cell_type": "code",
   "execution_count": 12,
   "metadata": {},
   "outputs": [
    {
     "output_type": "execute_result",
     "data": {
      "text/plain": "array([  0,  12,   2,   4,   5,   9,   3,   1,  25,  45,  10,   8,   7,\n        16,  54,   6,  50,  14,  11,  17,  15,  23,  13,  20,  19,  38,\n        32,  21,  30,  33, 107,  51,  26, 147,  22,  43,  24,  35,  27,\n        42,  49,  36,  18,  37, 116,  56,  28,  34,  41,  31,  39,  44,\n       108,  55, 360,  62,  69,  75, 125,  53,  47,  29, 164,  52, 102,\n        63,  98,  59, 203, 152,  65, 115,  46,  57,  90,  58,  78,  64,\n       130,  60, 208,  93,  61,  40,  73, 182, 198, 121, 132, 436, 123,\n       215, 160,  85, 112, 141,  79,  48, 153, 204,  70,  67,  92,  86,\n       207,  74,  94,  66,  91, 128,  84,  71,  83,  72, 119,  76,  99,\n       134,  80,  89, 106, 120, 323, 127, 139, 109, 140, 114, 296, 314,\n       159,  96,  82,  81, 180, 137, 171, 100, 279, 316, 150,  97, 169,\n        68,  87, 174, 188, 195, 124, 202, 175, 370, 118, 200, 136, 187,\n       250, 104, 367, 178,  95,  88, 214, 186, 385, 105,  77, 177, 184,\n       162, 103, 228, 331, 353, 101, 154, 126, 258, 117, 151, 163, 133,\n       149, 110, 135, 122, 111, 113, 158, 138, 294, 129, 146, 131, 142,\n       166, 148, 144, 145, 634, 167, 172, 191, 143, 161, 192, 193, 179,\n       262, 189, 168, 420, 155, 280, 273, 254, 240, 156, 336, 478, 210,\n       359, 234, 170, 249, 227, 460, 176, 229, 211, 225, 248, 245, 303,\n       213, 206, 266, 219, 270, 267, 371, 173, 252, 263, 223, 218, 212,\n       302, 157, 299, 289, 329, 181, 224, 183, 324, 413, 246, 347, 377,\n       495, 315, 322, 561, 259, 320, 238, 277, 237, 165, 185, 282, 343,\n       261, 230, 304, 382, 286, 260, 199, 341, 307, 222, 300, 264, 633,\n       271, 619, 379, 288, 233, 352, 278, 216, 585, 693, 380, 374, 194,\n       220, 301, 196, 247, 328, 197, 209, 217, 449, 275, 312, 337, 257,\n       236, 498, 297, 235, 357, 422, 349, 243, 268, 205, 256, 241, 242,\n       269, 274, 276, 648, 295, 346, 383, 386, 190, 298, 244, 321, 363,\n       281, 333, 283, 253, 239, 201, 272, 265, 427, 291, 319, 313, 411,\n       251, 342, 226, 287, 308, 338, 361, 221, 290, 293, 396, 546, 366,\n       485, 232, 351, 480, 362, 255, 306, 601, 474, 231, 355, 305, 325,\n       626, 709, 544, 402, 310, 381, 350, 384, 489, 504, 399, 354, 432,\n       532, 599, 469, 412, 340, 439, 491, 620, 613, 326, 763, 470, 554,\n       285, 335, 309, 369, 292, 607, 391, 345, 461, 317, 358, 446, 606,\n       376, 372, 567])"
     },
     "metadata": {},
     "execution_count": 12
    }
   ],
   "source": [
    "train_df[\"demand\"].unique()"
   ]
  },
  {
   "cell_type": "code",
   "execution_count": 13,
   "metadata": {},
   "outputs": [
    {
     "output_type": "execute_result",
     "data": {
      "text/plain": "array([0])"
     },
     "metadata": {},
     "execution_count": 13
    }
   ],
   "source": [
    "valid_df[\"demand\"].unique()"
   ]
  },
  {
   "cell_type": "markdown",
   "metadata": {},
   "source": [
    "validデータ([STAGE1]の予測対象)はもちろんlabelはついてないので全て0を示している"
   ]
  },
  {
   "cell_type": "code",
   "execution_count": 14,
   "metadata": {},
   "outputs": [
    {
     "output_type": "stream",
     "name": "stdout",
     "text": "\nid:30490\n\nitem_id:3049\n\ndept_id:7\n\ncat_id:3\n\nstore_id:10\n\nstate_id:3\n\ndemand:419\n\npart:1\n\ndate:1913\n\nwm_yr_wk:274\n\nevent_name_1:30\n\nevent_type_1:4\n\nevent_name_2:4\n\nevent_type_2:2\n\nsnap_CA:2\n\nsnap_TX:2\n\nsnap_WI:2\n\nsell_price:1026\n"
    }
   ],
   "source": [
    "for column in list(train_df.columns):\n",
    "    print(\"\\n{}:{}\".format(column, train_df[column].nunique()))\n",
    "    # print(train_df[column].unique())"
   ]
  },
  {
   "cell_type": "code",
   "execution_count": 15,
   "metadata": {},
   "outputs": [
    {
     "output_type": "execute_result",
     "data": {
      "text/plain": "array([nan, 'SuperBowl', 'ValentinesDay', 'PresidentsDay', 'LentStart',\n       'LentWeek2', 'StPatricksDay', 'Purim End', 'OrthodoxEaster',\n       'Pesach End', 'Cinco De Mayo', \"Mother's day\", 'MemorialDay',\n       'NBAFinalsStart', 'NBAFinalsEnd', \"Father's day\",\n       'IndependenceDay', 'Ramadan starts', 'Eid al-Fitr', 'LaborDay',\n       'ColumbusDay', 'Halloween', 'EidAlAdha', 'VeteransDay',\n       'Thanksgiving', 'Christmas', 'Chanukah End', 'NewYear',\n       'OrthodoxChristmas', 'MartinLutherKingDay', 'Easter'], dtype=object)"
     },
     "metadata": {},
     "execution_count": 15
    }
   ],
   "source": [
    "train_df[\"event_name_1\"].unique()"
   ]
  },
  {
   "cell_type": "code",
   "execution_count": 16,
   "metadata": {},
   "outputs": [
    {
     "output_type": "execute_result",
     "data": {
      "text/plain": "array(['NBAFinalsEnd'], dtype=object)"
     },
     "metadata": {},
     "execution_count": 16
    }
   ],
   "source": [
    "train_df[train_df[\"event_name_2\"] == \"Father's day\"][\"event_name_1\"].unique()"
   ]
  },
  {
   "cell_type": "markdown",
   "metadata": {},
   "source": [
    "event_2はevent_1に含まれているため現状あまり重要ではない"
   ]
  },
  {
   "cell_type": "markdown",
   "metadata": {},
   "source": [
    "validデータと同時期の異なる年のデータを見たい(04/25~05/22)  \n",
    "同じ傾向にあるのか   \n",
    "近さが大事なのか  \n",
    "時系列が大事なのか  \n",
    "周期性が大事なのか "
   ]
  },
  {
   "cell_type": "code",
   "execution_count": 17,
   "metadata": {},
   "outputs": [
    {
     "output_type": "execute_result",
     "data": {
      "text/plain": "array(['2016-04-25', '2016-04-26', '2016-04-27', '2016-04-28',\n       '2016-04-29', '2016-04-30', '2016-05-01', '2016-05-02',\n       '2016-05-03', '2016-05-04', '2016-05-05', '2016-05-06',\n       '2016-05-07', '2016-05-08', '2016-05-09', '2016-05-10',\n       '2016-05-11', '2016-05-12', '2016-05-13', '2016-05-14',\n       '2016-05-15', '2016-05-16', '2016-05-17', '2016-05-18',\n       '2016-05-19', '2016-05-20', '2016-05-21', '2016-05-22'],\n      dtype=object)"
     },
     "metadata": {},
     "execution_count": 17
    }
   ],
   "source": [
    "valid_df[\"date\"].unique()"
   ]
  },
  {
   "cell_type": "code",
   "execution_count": 18,
   "metadata": {},
   "outputs": [],
   "source": [
    "train2011 = train_df[(train_df[\"date\"] > '2011-04-24') & (train_df[\"date\"] < '2011-05-23')]\n",
    "train2012 = train_df[(train_df[\"date\"] > '2012-04-24') & (train_df[\"date\"] < '2012-05-23')]\n",
    "train2013 = train_df[(train_df[\"date\"] > '2013-04-24') & (train_df[\"date\"] < '2013-05-23')]\n",
    "train2014 = train_df[(train_df[\"date\"] > '2014-04-24') & (train_df[\"date\"] < '2014-05-23')]\n",
    "train2015 = train_df[(train_df[\"date\"] > '2015-04-24') & (train_df[\"date\"] < '2015-05-23')]"
   ]
  },
  {
   "cell_type": "code",
   "execution_count": 19,
   "metadata": {},
   "outputs": [
    {
     "output_type": "execute_result",
     "data": {
      "text/plain": "(853720, 18)"
     },
     "metadata": {},
     "execution_count": 19
    }
   ],
   "source": [
    "train2011.shape"
   ]
  },
  {
   "cell_type": "code",
   "execution_count": 20,
   "metadata": {},
   "outputs": [
    {
     "output_type": "execute_result",
     "data": {
      "text/plain": "                                    id        item_id    dept_id   cat_id  \\\n2622140  HOBBIES_1_001_CA_1_validation  HOBBIES_1_001  HOBBIES_1  HOBBIES   \n2622141  HOBBIES_1_002_CA_1_validation  HOBBIES_1_002  HOBBIES_1  HOBBIES   \n2622142  HOBBIES_1_003_CA_1_validation  HOBBIES_1_003  HOBBIES_1  HOBBIES   \n2622143  HOBBIES_1_004_CA_1_validation  HOBBIES_1_004  HOBBIES_1  HOBBIES   \n2622144  HOBBIES_1_005_CA_1_validation  HOBBIES_1_005  HOBBIES_1  HOBBIES   \n\n        store_id state_id  demand   part        date  wm_yr_wk event_name_1  \\\n2622140     CA_1       CA       0  train  2011-04-25     11113          NaN   \n2622141     CA_1       CA       0  train  2011-04-25     11113          NaN   \n2622142     CA_1       CA       0  train  2011-04-25     11113          NaN   \n2622143     CA_1       CA       0  train  2011-04-25     11113          NaN   \n2622144     CA_1       CA       0  train  2011-04-25     11113          NaN   \n\n        event_type_1 event_name_2 event_type_2  snap_CA  snap_TX  snap_WI  \\\n2622140          NaN          NaN          NaN        0        0        0   \n2622141          NaN          NaN          NaN        0        0        0   \n2622142          NaN          NaN          NaN        0        0        0   \n2622143          NaN          NaN          NaN        0        0        0   \n2622144          NaN          NaN          NaN        0        0        0   \n\n         sell_price  \n2622140         NaN  \n2622141         NaN  \n2622142         NaN  \n2622143    4.339844  \n2622144         NaN  ",
      "text/html": "<div>\n<style scoped>\n    .dataframe tbody tr th:only-of-type {\n        vertical-align: middle;\n    }\n\n    .dataframe tbody tr th {\n        vertical-align: top;\n    }\n\n    .dataframe thead th {\n        text-align: right;\n    }\n</style>\n<table border=\"1\" class=\"dataframe\">\n  <thead>\n    <tr style=\"text-align: right;\">\n      <th></th>\n      <th>id</th>\n      <th>item_id</th>\n      <th>dept_id</th>\n      <th>cat_id</th>\n      <th>store_id</th>\n      <th>state_id</th>\n      <th>demand</th>\n      <th>part</th>\n      <th>date</th>\n      <th>wm_yr_wk</th>\n      <th>event_name_1</th>\n      <th>event_type_1</th>\n      <th>event_name_2</th>\n      <th>event_type_2</th>\n      <th>snap_CA</th>\n      <th>snap_TX</th>\n      <th>snap_WI</th>\n      <th>sell_price</th>\n    </tr>\n  </thead>\n  <tbody>\n    <tr>\n      <th>2622140</th>\n      <td>HOBBIES_1_001_CA_1_validation</td>\n      <td>HOBBIES_1_001</td>\n      <td>HOBBIES_1</td>\n      <td>HOBBIES</td>\n      <td>CA_1</td>\n      <td>CA</td>\n      <td>0</td>\n      <td>train</td>\n      <td>2011-04-25</td>\n      <td>11113</td>\n      <td>NaN</td>\n      <td>NaN</td>\n      <td>NaN</td>\n      <td>NaN</td>\n      <td>0</td>\n      <td>0</td>\n      <td>0</td>\n      <td>NaN</td>\n    </tr>\n    <tr>\n      <th>2622141</th>\n      <td>HOBBIES_1_002_CA_1_validation</td>\n      <td>HOBBIES_1_002</td>\n      <td>HOBBIES_1</td>\n      <td>HOBBIES</td>\n      <td>CA_1</td>\n      <td>CA</td>\n      <td>0</td>\n      <td>train</td>\n      <td>2011-04-25</td>\n      <td>11113</td>\n      <td>NaN</td>\n      <td>NaN</td>\n      <td>NaN</td>\n      <td>NaN</td>\n      <td>0</td>\n      <td>0</td>\n      <td>0</td>\n      <td>NaN</td>\n    </tr>\n    <tr>\n      <th>2622142</th>\n      <td>HOBBIES_1_003_CA_1_validation</td>\n      <td>HOBBIES_1_003</td>\n      <td>HOBBIES_1</td>\n      <td>HOBBIES</td>\n      <td>CA_1</td>\n      <td>CA</td>\n      <td>0</td>\n      <td>train</td>\n      <td>2011-04-25</td>\n      <td>11113</td>\n      <td>NaN</td>\n      <td>NaN</td>\n      <td>NaN</td>\n      <td>NaN</td>\n      <td>0</td>\n      <td>0</td>\n      <td>0</td>\n      <td>NaN</td>\n    </tr>\n    <tr>\n      <th>2622143</th>\n      <td>HOBBIES_1_004_CA_1_validation</td>\n      <td>HOBBIES_1_004</td>\n      <td>HOBBIES_1</td>\n      <td>HOBBIES</td>\n      <td>CA_1</td>\n      <td>CA</td>\n      <td>0</td>\n      <td>train</td>\n      <td>2011-04-25</td>\n      <td>11113</td>\n      <td>NaN</td>\n      <td>NaN</td>\n      <td>NaN</td>\n      <td>NaN</td>\n      <td>0</td>\n      <td>0</td>\n      <td>0</td>\n      <td>4.339844</td>\n    </tr>\n    <tr>\n      <th>2622144</th>\n      <td>HOBBIES_1_005_CA_1_validation</td>\n      <td>HOBBIES_1_005</td>\n      <td>HOBBIES_1</td>\n      <td>HOBBIES</td>\n      <td>CA_1</td>\n      <td>CA</td>\n      <td>0</td>\n      <td>train</td>\n      <td>2011-04-25</td>\n      <td>11113</td>\n      <td>NaN</td>\n      <td>NaN</td>\n      <td>NaN</td>\n      <td>NaN</td>\n      <td>0</td>\n      <td>0</td>\n      <td>0</td>\n      <td>NaN</td>\n    </tr>\n  </tbody>\n</table>\n</div>"
     },
     "metadata": {},
     "execution_count": 20
    }
   ],
   "source": [
    "train2011.head()"
   ]
  },
  {
   "cell_type": "code",
   "execution_count": 21,
   "metadata": {},
   "outputs": [
    {
     "output_type": "execute_result",
     "data": {
      "text/plain": "array(['HOBBIES_1', 'HOBBIES_2', 'HOUSEHOLD_1', 'HOUSEHOLD_2', 'FOODS_1',\n       'FOODS_2', 'FOODS_3'], dtype=object)"
     },
     "metadata": {},
     "execution_count": 21
    }
   ],
   "source": [
    "train2011[\"dept_id\"].unique()"
   ]
  },
  {
   "cell_type": "code",
   "execution_count": 22,
   "metadata": {},
   "outputs": [
    {
     "output_type": "error",
     "ename": "TypeError",
     "evalue": "'int' object is not callable",
     "traceback": [
      "\u001b[0;31m---------------------------------------------------------------------------\u001b[0m",
      "\u001b[0;31mTypeError\u001b[0m                                 Traceback (most recent call last)",
      "\u001b[0;32m<ipython-input-22-bf86ad13aa09>\u001b[0m in \u001b[0;36m<module>\u001b[0;34m\u001b[0m\n\u001b[1;32m      4\u001b[0m \u001b[0;32mfor\u001b[0m \u001b[0mi\u001b[0m \u001b[0;32min\u001b[0m \u001b[0mrange\u001b[0m\u001b[0;34m(\u001b[0m\u001b[0mlen\u001b[0m\u001b[0;34m(\u001b[0m\u001b[0mdept_id\u001b[0m\u001b[0;34m)\u001b[0m\u001b[0;34m)\u001b[0m\u001b[0;34m:\u001b[0m\u001b[0;34m\u001b[0m\u001b[0;34m\u001b[0m\u001b[0m\n\u001b[1;32m      5\u001b[0m     \u001b[0mfig\u001b[0m \u001b[0;34m=\u001b[0m \u001b[0mplt\u001b[0m\u001b[0;34m.\u001b[0m\u001b[0mfigure\u001b[0m\u001b[0;34m(\u001b[0m\u001b[0mfigsize\u001b[0m \u001b[0;34m=\u001b[0m \u001b[0;34m(\u001b[0m\u001b[0;36m20\u001b[0m\u001b[0;34m,\u001b[0m \u001b[0;36m5\u001b[0m\u001b[0;34m)\u001b[0m\u001b[0;34m)\u001b[0m\u001b[0;34m\u001b[0m\u001b[0;34m\u001b[0m\u001b[0m\n\u001b[0;32m----> 6\u001b[0;31m     \u001b[0max1\u001b[0m \u001b[0;34m=\u001b[0m \u001b[0mfig\u001b[0m\u001b[0;34m.\u001b[0m\u001b[0madd_subplot\u001b[0m\u001b[0;34m(\u001b[0m\u001b[0;36m2\u001b[0m\u001b[0;34m,\u001b[0m \u001b[0;36m7\u001b[0m\u001b[0;34m,\u001b[0m \u001b[0;36m2\u001b[0m\u001b[0;34m(\u001b[0m\u001b[0mi\u001b[0m\u001b[0;34m+\u001b[0m\u001b[0;36m1\u001b[0m\u001b[0;34m)\u001b[0m\u001b[0;34m-\u001b[0m\u001b[0;36m1\u001b[0m\u001b[0;34m)\u001b[0m\u001b[0;34m\u001b[0m\u001b[0;34m\u001b[0m\u001b[0m\n\u001b[0m\u001b[1;32m      7\u001b[0m     \u001b[0max2\u001b[0m \u001b[0;34m=\u001b[0m \u001b[0mfig\u001b[0m\u001b[0;34m.\u001b[0m\u001b[0madd_subplot\u001b[0m\u001b[0;34m(\u001b[0m\u001b[0;36m2\u001b[0m\u001b[0;34m,\u001b[0m \u001b[0;36m7\u001b[0m\u001b[0;34m,\u001b[0m \u001b[0;36m2\u001b[0m\u001b[0;34m(\u001b[0m\u001b[0mi\u001b[0m\u001b[0;34m+\u001b[0m\u001b[0;36m1\u001b[0m\u001b[0;34m)\u001b[0m\u001b[0;34m)\u001b[0m\u001b[0;34m\u001b[0m\u001b[0;34m\u001b[0m\u001b[0m\n\u001b[1;32m      8\u001b[0m \u001b[0;34m\u001b[0m\u001b[0m\n",
      "\u001b[0;31mTypeError\u001b[0m: 'int' object is not callable"
     ]
    }
   ],
   "source": [
    "import matplotlib.pyplot as plt\n",
    "dept_id = train2011[\"dept_id\"].unique()\n",
    "\n",
    "for i in range(len(dept_id)):\n",
    "    fig = plt.figure(figsize = (20, 5))\n",
    "    ax1 = fig.add_subplot(2, 7, 2(i+1)-1)\n",
    "    ax2 = fig.add_subplot(2, 7, 2(i+1))\n",
    "\n",
    "    ax1.plot(train2011[train2011[\"dept_id\"]=='HOBBIES_1'].groupby(\"date\").mean()[\"sell_price\"].values, label='2011')\n",
    "    ax1.plot(train2012[train2012[\"dept_id\"]=='HOBBIES_1'].groupby(\"date\").mean()[\"sell_price\"].values, label='2012')\n",
    "    ax1.plot(train2013[train2013[\"dept_id\"]=='HOBBIES_1'].groupby(\"date\").mean()[\"sell_price\"].values, label='2013')\n",
    "    ax1.plot(train2014[train2014[\"dept_id\"]=='HOBBIES_1'].groupby(\"date\").mean()[\"sell_price\"].values, label='2014')\n",
    "    ax1.plot(train2015[train2015[\"dept_id\"]=='HOBBIES_1'].groupby(\"date\").mean()[\"sell_price\"].values, label='2015')\n",
    "    ax1.set_title(\"{} sell prices\".format(dept_id[i]))\n",
    "    ax1.set_xlabel('Time')\n",
    "    ax1.set_ylabel('Sales')\n",
    "    ax1.legend()\n",
    "\n",
    "    ax2.plot(train2011[train2011[\"dept_id\"]=='HOBBIES_1'].groupby(\"date\").mean()[\"demand\"].values, label='2011')\n",
    "    ax2.plot(train2012[train2012[\"dept_id\"]=='HOBBIES_1'].groupby(\"date\").mean()[\"demand\"].values, label='2012')\n",
    "    ax2.plot(train2013[train2013[\"dept_id\"]=='HOBBIES_1'].groupby(\"date\").mean()[\"demand\"].values, label='2013')\n",
    "    ax2.plot(train2014[train2014[\"dept_id\"]=='HOBBIES_1'].groupby(\"date\").mean()[\"demand\"].values, label='2014')\n",
    "    ax2.plot(train2015[train2015[\"dept_id\"]=='HOBBIES_1'].groupby(\"date\").mean()[\"demand\"].values, label='2015')\n",
    "    ax2.set_title(\"{} demand\".format(dept_id[i]))\n",
    "    ax2.set_xlabel('Time')\n",
    "    ax2.set_ylabel('Sales')\n",
    "    ax2.legend()"
   ]
  },
  {
   "cell_type": "code",
   "execution_count": 28,
   "metadata": {},
   "outputs": [
    {
     "output_type": "execute_result",
     "data": {
      "text/plain": "                              id        item_id    dept_id   cat_id store_id  \\\n0  HOBBIES_1_001_CA_1_validation  HOBBIES_1_001  HOBBIES_1  HOBBIES     CA_1   \n1  HOBBIES_1_002_CA_1_validation  HOBBIES_1_002  HOBBIES_1  HOBBIES     CA_1   \n2  HOBBIES_1_003_CA_1_validation  HOBBIES_1_003  HOBBIES_1  HOBBIES     CA_1   \n3  HOBBIES_1_004_CA_1_validation  HOBBIES_1_004  HOBBIES_1  HOBBIES     CA_1   \n4  HOBBIES_1_005_CA_1_validation  HOBBIES_1_005  HOBBIES_1  HOBBIES     CA_1   \n\n  state_id  demand   part        date  wm_yr_wk event_name_1 event_type_1  \\\n0       CA       0  train  2011-01-29     11101          NaN          NaN   \n1       CA       0  train  2011-01-29     11101          NaN          NaN   \n2       CA       0  train  2011-01-29     11101          NaN          NaN   \n3       CA       0  train  2011-01-29     11101          NaN          NaN   \n4       CA       0  train  2011-01-29     11101          NaN          NaN   \n\n  event_name_2 event_type_2  snap_CA  snap_TX  snap_WI  sell_price  \\\n0          NaN          NaN        0        0        0         NaN   \n1          NaN          NaN        0        0        0         NaN   \n2          NaN          NaN        0        0        0         NaN   \n3          NaN          NaN        0        0        0         NaN   \n4          NaN          NaN        0        0        0         NaN   \n\n   black_friday  \n0             0  \n1             0  \n2             0  \n3             0  \n4             0  ",
      "text/html": "<div>\n<style scoped>\n    .dataframe tbody tr th:only-of-type {\n        vertical-align: middle;\n    }\n\n    .dataframe tbody tr th {\n        vertical-align: top;\n    }\n\n    .dataframe thead th {\n        text-align: right;\n    }\n</style>\n<table border=\"1\" class=\"dataframe\">\n  <thead>\n    <tr style=\"text-align: right;\">\n      <th></th>\n      <th>id</th>\n      <th>item_id</th>\n      <th>dept_id</th>\n      <th>cat_id</th>\n      <th>store_id</th>\n      <th>state_id</th>\n      <th>demand</th>\n      <th>part</th>\n      <th>date</th>\n      <th>wm_yr_wk</th>\n      <th>event_name_1</th>\n      <th>event_type_1</th>\n      <th>event_name_2</th>\n      <th>event_type_2</th>\n      <th>snap_CA</th>\n      <th>snap_TX</th>\n      <th>snap_WI</th>\n      <th>sell_price</th>\n      <th>black_friday</th>\n    </tr>\n  </thead>\n  <tbody>\n    <tr>\n      <th>0</th>\n      <td>HOBBIES_1_001_CA_1_validation</td>\n      <td>HOBBIES_1_001</td>\n      <td>HOBBIES_1</td>\n      <td>HOBBIES</td>\n      <td>CA_1</td>\n      <td>CA</td>\n      <td>0</td>\n      <td>train</td>\n      <td>2011-01-29</td>\n      <td>11101</td>\n      <td>NaN</td>\n      <td>NaN</td>\n      <td>NaN</td>\n      <td>NaN</td>\n      <td>0</td>\n      <td>0</td>\n      <td>0</td>\n      <td>NaN</td>\n      <td>0</td>\n    </tr>\n    <tr>\n      <th>1</th>\n      <td>HOBBIES_1_002_CA_1_validation</td>\n      <td>HOBBIES_1_002</td>\n      <td>HOBBIES_1</td>\n      <td>HOBBIES</td>\n      <td>CA_1</td>\n      <td>CA</td>\n      <td>0</td>\n      <td>train</td>\n      <td>2011-01-29</td>\n      <td>11101</td>\n      <td>NaN</td>\n      <td>NaN</td>\n      <td>NaN</td>\n      <td>NaN</td>\n      <td>0</td>\n      <td>0</td>\n      <td>0</td>\n      <td>NaN</td>\n      <td>0</td>\n    </tr>\n    <tr>\n      <th>2</th>\n      <td>HOBBIES_1_003_CA_1_validation</td>\n      <td>HOBBIES_1_003</td>\n      <td>HOBBIES_1</td>\n      <td>HOBBIES</td>\n      <td>CA_1</td>\n      <td>CA</td>\n      <td>0</td>\n      <td>train</td>\n      <td>2011-01-29</td>\n      <td>11101</td>\n      <td>NaN</td>\n      <td>NaN</td>\n      <td>NaN</td>\n      <td>NaN</td>\n      <td>0</td>\n      <td>0</td>\n      <td>0</td>\n      <td>NaN</td>\n      <td>0</td>\n    </tr>\n    <tr>\n      <th>3</th>\n      <td>HOBBIES_1_004_CA_1_validation</td>\n      <td>HOBBIES_1_004</td>\n      <td>HOBBIES_1</td>\n      <td>HOBBIES</td>\n      <td>CA_1</td>\n      <td>CA</td>\n      <td>0</td>\n      <td>train</td>\n      <td>2011-01-29</td>\n      <td>11101</td>\n      <td>NaN</td>\n      <td>NaN</td>\n      <td>NaN</td>\n      <td>NaN</td>\n      <td>0</td>\n      <td>0</td>\n      <td>0</td>\n      <td>NaN</td>\n      <td>0</td>\n    </tr>\n    <tr>\n      <th>4</th>\n      <td>HOBBIES_1_005_CA_1_validation</td>\n      <td>HOBBIES_1_005</td>\n      <td>HOBBIES_1</td>\n      <td>HOBBIES</td>\n      <td>CA_1</td>\n      <td>CA</td>\n      <td>0</td>\n      <td>train</td>\n      <td>2011-01-29</td>\n      <td>11101</td>\n      <td>NaN</td>\n      <td>NaN</td>\n      <td>NaN</td>\n      <td>NaN</td>\n      <td>0</td>\n      <td>0</td>\n      <td>0</td>\n      <td>NaN</td>\n      <td>0</td>\n    </tr>\n  </tbody>\n</table>\n</div>"
     },
     "metadata": {},
     "execution_count": 28
    }
   ],
   "source": [
    "data_df.head()"
   ]
  },
  {
   "cell_type": "code",
   "execution_count": 29,
   "metadata": {},
   "outputs": [
    {
     "output_type": "execute_result",
     "data": {
      "text/plain": "                              id        item_id    dept_id   cat_id store_id  \\\n0  HOBBIES_1_001_CA_1_validation  HOBBIES_1_001  HOBBIES_1  HOBBIES     CA_1   \n1  HOBBIES_1_002_CA_1_validation  HOBBIES_1_002  HOBBIES_1  HOBBIES     CA_1   \n2  HOBBIES_1_003_CA_1_validation  HOBBIES_1_003  HOBBIES_1  HOBBIES     CA_1   \n3  HOBBIES_1_004_CA_1_validation  HOBBIES_1_004  HOBBIES_1  HOBBIES     CA_1   \n4  HOBBIES_1_005_CA_1_validation  HOBBIES_1_005  HOBBIES_1  HOBBIES     CA_1   \n\n  state_id  demand   part        date  wm_yr_wk event_name_1 event_type_1  \\\n0       CA       0  train  2011-01-29     11101          NaN          NaN   \n1       CA       0  train  2011-01-29     11101          NaN          NaN   \n2       CA       0  train  2011-01-29     11101          NaN          NaN   \n3       CA       0  train  2011-01-29     11101          NaN          NaN   \n4       CA       0  train  2011-01-29     11101          NaN          NaN   \n\n  event_name_2 event_type_2  snap_CA  snap_TX  snap_WI  sell_price  \\\n0          NaN          NaN        0        0        0         NaN   \n1          NaN          NaN        0        0        0         NaN   \n2          NaN          NaN        0        0        0         NaN   \n3          NaN          NaN        0        0        0         NaN   \n4          NaN          NaN        0        0        0         NaN   \n\n   black_friday  \n0             0  \n1             0  \n2             0  \n3             0  \n4             0  ",
      "text/html": "<div>\n<style scoped>\n    .dataframe tbody tr th:only-of-type {\n        vertical-align: middle;\n    }\n\n    .dataframe tbody tr th {\n        vertical-align: top;\n    }\n\n    .dataframe thead th {\n        text-align: right;\n    }\n</style>\n<table border=\"1\" class=\"dataframe\">\n  <thead>\n    <tr style=\"text-align: right;\">\n      <th></th>\n      <th>id</th>\n      <th>item_id</th>\n      <th>dept_id</th>\n      <th>cat_id</th>\n      <th>store_id</th>\n      <th>state_id</th>\n      <th>demand</th>\n      <th>part</th>\n      <th>date</th>\n      <th>wm_yr_wk</th>\n      <th>event_name_1</th>\n      <th>event_type_1</th>\n      <th>event_name_2</th>\n      <th>event_type_2</th>\n      <th>snap_CA</th>\n      <th>snap_TX</th>\n      <th>snap_WI</th>\n      <th>sell_price</th>\n      <th>black_friday</th>\n    </tr>\n  </thead>\n  <tbody>\n    <tr>\n      <th>0</th>\n      <td>HOBBIES_1_001_CA_1_validation</td>\n      <td>HOBBIES_1_001</td>\n      <td>HOBBIES_1</td>\n      <td>HOBBIES</td>\n      <td>CA_1</td>\n      <td>CA</td>\n      <td>0</td>\n      <td>train</td>\n      <td>2011-01-29</td>\n      <td>11101</td>\n      <td>NaN</td>\n      <td>NaN</td>\n      <td>NaN</td>\n      <td>NaN</td>\n      <td>0</td>\n      <td>0</td>\n      <td>0</td>\n      <td>NaN</td>\n      <td>0</td>\n    </tr>\n    <tr>\n      <th>1</th>\n      <td>HOBBIES_1_002_CA_1_validation</td>\n      <td>HOBBIES_1_002</td>\n      <td>HOBBIES_1</td>\n      <td>HOBBIES</td>\n      <td>CA_1</td>\n      <td>CA</td>\n      <td>0</td>\n      <td>train</td>\n      <td>2011-01-29</td>\n      <td>11101</td>\n      <td>NaN</td>\n      <td>NaN</td>\n      <td>NaN</td>\n      <td>NaN</td>\n      <td>0</td>\n      <td>0</td>\n      <td>0</td>\n      <td>NaN</td>\n      <td>0</td>\n    </tr>\n    <tr>\n      <th>2</th>\n      <td>HOBBIES_1_003_CA_1_validation</td>\n      <td>HOBBIES_1_003</td>\n      <td>HOBBIES_1</td>\n      <td>HOBBIES</td>\n      <td>CA_1</td>\n      <td>CA</td>\n      <td>0</td>\n      <td>train</td>\n      <td>2011-01-29</td>\n      <td>11101</td>\n      <td>NaN</td>\n      <td>NaN</td>\n      <td>NaN</td>\n      <td>NaN</td>\n      <td>0</td>\n      <td>0</td>\n      <td>0</td>\n      <td>NaN</td>\n      <td>0</td>\n    </tr>\n    <tr>\n      <th>3</th>\n      <td>HOBBIES_1_004_CA_1_validation</td>\n      <td>HOBBIES_1_004</td>\n      <td>HOBBIES_1</td>\n      <td>HOBBIES</td>\n      <td>CA_1</td>\n      <td>CA</td>\n      <td>0</td>\n      <td>train</td>\n      <td>2011-01-29</td>\n      <td>11101</td>\n      <td>NaN</td>\n      <td>NaN</td>\n      <td>NaN</td>\n      <td>NaN</td>\n      <td>0</td>\n      <td>0</td>\n      <td>0</td>\n      <td>NaN</td>\n      <td>0</td>\n    </tr>\n    <tr>\n      <th>4</th>\n      <td>HOBBIES_1_005_CA_1_validation</td>\n      <td>HOBBIES_1_005</td>\n      <td>HOBBIES_1</td>\n      <td>HOBBIES</td>\n      <td>CA_1</td>\n      <td>CA</td>\n      <td>0</td>\n      <td>train</td>\n      <td>2011-01-29</td>\n      <td>11101</td>\n      <td>NaN</td>\n      <td>NaN</td>\n      <td>NaN</td>\n      <td>NaN</td>\n      <td>0</td>\n      <td>0</td>\n      <td>0</td>\n      <td>NaN</td>\n      <td>0</td>\n    </tr>\n  </tbody>\n</table>\n</div>"
     },
     "metadata": {},
     "execution_count": 29
    }
   ],
   "source": [
    "# black fridayの追加\n",
    "black_friday = [\"2011-11-25\", \"2012-11-23\", \"2013-11-29\", \"2014-11-28\", \"2015-11-27\"]\n",
    "data_df[\"black_friday\"] = data_df[\"date\"].isin(black_friday) * 1\n",
    "data_df.head()"
   ]
  },
  {
   "cell_type": "markdown",
   "metadata": {},
   "source": [
    "sell_priceの各idごとの平均を算出しそこからsell_priceの差分を取ることで割引額、割引率を算出  \n",
    "割引なので平均だけでなく、ちょっと前の時期の価格との差分を取るのもいいかも  "
   ]
  },
  {
   "cell_type": "code",
   "execution_count": 30,
   "metadata": {},
   "outputs": [
    {
     "output_type": "execute_result",
     "data": {
      "text/plain": "0                NaN\n3049             NaN\n6098             NaN\n9147             NaN\n12196            NaN\n15245            NaN\n18294            NaN\n21343            NaN\n24392            NaN\n27441            NaN\n30490            NaN\n33539            NaN\n36588            NaN\n39637            NaN\n42686            NaN\n45735            NaN\n48784            NaN\n51833            NaN\n54882            NaN\n57931            NaN\n60980            NaN\n64029            NaN\n67078            NaN\n70127            NaN\n73176            NaN\n76225            NaN\n79274            NaN\n82323            NaN\n85372            NaN\n88421            NaN\n              ...   \n59089620    8.382812\n59092669    8.382812\n59095718    8.382812\n59098767    8.382812\n59101816    8.257812\n59104865    8.257812\n59107914    8.257812\n59110963    8.382812\n59114012    8.382812\n59117061    8.382812\n59120110    8.382812\n59123159    8.382812\n59126208    8.382812\n59129257    8.382812\n59132306    8.257812\n59135355    8.257812\n59138404    8.257812\n59141453    8.382812\n59144502    8.382812\n59147551    8.382812\n59150600    8.382812\n59153649    8.382812\n59156698    8.382812\n59159747    8.382812\n59162796    8.257812\n59165845    8.257812\n59168894    8.257812\n59171943    8.382812\n59174992    8.382812\n59178041    8.382812\nName: sell_price, Length: 19410, dtype: float16"
     },
     "metadata": {},
     "execution_count": 30
    }
   ],
   "source": [
    "data_df[data_df[\"item_id\"] == \"HOBBIES_1_001\"][\"sell_price\"]"
   ]
  },
  {
   "cell_type": "code",
   "execution_count": 31,
   "metadata": {},
   "outputs": [
    {
     "output_type": "execute_result",
     "data": {
      "text/plain": "                                   demand      wm_yr_wk   snap_CA   snap_TX  \\\nid                                                                            \nFOODS_1_001_CA_1_validation      0.774343  11343.166924  0.329727  0.329727   \nFOODS_1_001_CA_2_validation      1.140649  11343.166924  0.329727  0.329727   \nFOODS_1_001_CA_3_validation      1.185987  11343.166924  0.329727  0.329727   \nFOODS_1_001_CA_4_validation      0.354456  11343.166924  0.329727  0.329727   \nFOODS_1_001_TX_1_validation      0.576507  11343.166924  0.329727  0.329727   \nFOODS_1_001_TX_2_validation      0.572901  11343.166924  0.329727  0.329727   \nFOODS_1_001_TX_3_validation      0.404431  11343.166924  0.329727  0.329727   \nFOODS_1_001_WI_1_validation      0.559505  11343.166924  0.329727  0.329727   \nFOODS_1_001_WI_2_validation      0.450799  11343.166924  0.329727  0.329727   \nFOODS_1_001_WI_3_validation      0.290057  11343.166924  0.329727  0.329727   \nFOODS_1_002_CA_1_validation      0.470891  11343.166924  0.329727  0.329727   \nFOODS_1_002_CA_2_validation      0.594539  11343.166924  0.329727  0.329727   \nFOODS_1_002_CA_3_validation      0.310665  11343.166924  0.329727  0.329727   \nFOODS_1_002_CA_4_validation      0.329727  11343.166924  0.329727  0.329727   \nFOODS_1_002_TX_1_validation      0.166409  11343.166924  0.329727  0.329727   \nFOODS_1_002_TX_2_validation      0.234415  11343.166924  0.329727  0.329727   \nFOODS_1_002_TX_3_validation      0.274601  11343.166924  0.329727  0.329727   \nFOODS_1_002_WI_1_validation      0.742401  11343.166924  0.329727  0.329727   \nFOODS_1_002_WI_2_validation      0.325605  11343.166924  0.329727  0.329727   \nFOODS_1_002_WI_3_validation      0.329212  11343.166924  0.329727  0.329727   \nFOODS_1_003_CA_1_validation      0.820196  11343.166924  0.329727  0.329727   \nFOODS_1_003_CA_2_validation      1.617723  11343.166924  0.329727  0.329727   \nFOODS_1_003_CA_3_validation      1.018547  11343.166924  0.329727  0.329727   \nFOODS_1_003_CA_4_validation      0.470891  11343.166924  0.329727  0.329727   \nFOODS_1_003_TX_1_validation      0.451829  11343.166924  0.329727  0.329727   \nFOODS_1_003_TX_2_validation      0.414735  11343.166924  0.329727  0.329727   \nFOODS_1_003_TX_3_validation      0.149923  11343.166924  0.329727  0.329727   \nFOODS_1_003_WI_1_validation      1.241113  11343.166924  0.329727  0.329727   \nFOODS_1_003_WI_2_validation      0.365276  11343.166924  0.329727  0.329727   \nFOODS_1_003_WI_3_validation      0.350335  11343.166924  0.329727  0.329727   \n...                                   ...           ...       ...       ...   \nHOUSEHOLD_2_514_CA_1_validation  0.298815  11343.166924  0.329727  0.329727   \nHOUSEHOLD_2_514_CA_2_validation  0.336940  11343.166924  0.329727  0.329727   \nHOUSEHOLD_2_514_CA_3_validation  0.204534  11343.166924  0.329727  0.329727   \nHOUSEHOLD_2_514_CA_4_validation  0.130860  11343.166924  0.329727  0.329727   \nHOUSEHOLD_2_514_TX_1_validation  0.079856  11343.166924  0.329727  0.329727   \nHOUSEHOLD_2_514_TX_2_validation  0.183926  11343.166924  0.329727  0.329727   \nHOUSEHOLD_2_514_TX_3_validation  0.103040  11343.166924  0.329727  0.329727   \nHOUSEHOLD_2_514_WI_1_validation  0.129315  11343.166924  0.329727  0.329727   \nHOUSEHOLD_2_514_WI_2_validation  0.048944  11343.166924  0.329727  0.329727   \nHOUSEHOLD_2_514_WI_3_validation  0.106646  11343.166924  0.329727  0.329727   \nHOUSEHOLD_2_515_CA_1_validation  0.059248  11343.166924  0.329727  0.329727   \nHOUSEHOLD_2_515_CA_2_validation  0.095827  11343.166924  0.329727  0.329727   \nHOUSEHOLD_2_515_CA_3_validation  0.071097  11343.166924  0.329727  0.329727   \nHOUSEHOLD_2_515_CA_4_validation  0.043792  11343.166924  0.329727  0.329727   \nHOUSEHOLD_2_515_TX_1_validation  0.056672  11343.166924  0.329727  0.329727   \nHOUSEHOLD_2_515_TX_2_validation  0.068006  11343.166924  0.329727  0.329727   \nHOUSEHOLD_2_515_TX_3_validation  0.039155  11343.166924  0.329727  0.329727   \nHOUSEHOLD_2_515_WI_1_validation  0.052035  11343.166924  0.329727  0.329727   \nHOUSEHOLD_2_515_WI_2_validation  0.033488  11343.166924  0.329727  0.329727   \nHOUSEHOLD_2_515_WI_3_validation  0.058217  11343.166924  0.329727  0.329727   \nHOUSEHOLD_2_516_CA_1_validation  0.163833  11343.166924  0.329727  0.329727   \nHOUSEHOLD_2_516_CA_2_validation  0.197321  11343.166924  0.329727  0.329727   \nHOUSEHOLD_2_516_CA_3_validation  0.144771  11343.166924  0.329727  0.329727   \nHOUSEHOLD_2_516_CA_4_validation  0.072643  11343.166924  0.329727  0.329727   \nHOUSEHOLD_2_516_TX_1_validation  0.119526  11343.166924  0.329727  0.329727   \nHOUSEHOLD_2_516_TX_2_validation  0.247810  11343.166924  0.329727  0.329727   \nHOUSEHOLD_2_516_TX_3_validation  0.120556  11343.166924  0.329727  0.329727   \nHOUSEHOLD_2_516_WI_1_validation  0.085523  11343.166924  0.329727  0.329727   \nHOUSEHOLD_2_516_WI_2_validation  0.031942  11343.166924  0.329727  0.329727   \nHOUSEHOLD_2_516_WI_3_validation  0.126224  11343.166924  0.329727  0.329727   \n\n                                  snap_WI  sell_price  black_friday  \nid                                                                   \nFOODS_1_001_CA_1_validation      0.329727    2.167969      0.002576  \nFOODS_1_001_CA_2_validation      0.329727    2.167969      0.002576  \nFOODS_1_001_CA_3_validation      0.329727    2.156250      0.002576  \nFOODS_1_001_CA_4_validation      0.329727    2.167969      0.002576  \nFOODS_1_001_TX_1_validation      0.329727    2.156250      0.002576  \nFOODS_1_001_TX_2_validation      0.329727    2.167969      0.002576  \nFOODS_1_001_TX_3_validation      0.329727    2.167969      0.002576  \nFOODS_1_001_WI_1_validation      0.329727    2.167969      0.002576  \nFOODS_1_001_WI_2_validation      0.329727    2.167969      0.002576  \nFOODS_1_001_WI_3_validation      0.329727    2.166016      0.002576  \nFOODS_1_002_CA_1_validation      0.329727    8.929688      0.002576  \nFOODS_1_002_CA_2_validation      0.329727    8.851562      0.002576  \nFOODS_1_002_CA_3_validation      0.329727    8.929688      0.002576  \nFOODS_1_002_CA_4_validation      0.329727    8.929688      0.002576  \nFOODS_1_002_TX_1_validation      0.329727    8.921875      0.002576  \nFOODS_1_002_TX_2_validation      0.329727    8.929688      0.002576  \nFOODS_1_002_TX_3_validation      0.329727    8.929688      0.002576  \nFOODS_1_002_WI_1_validation      0.329727    8.929688      0.002576  \nFOODS_1_002_WI_2_validation      0.329727    8.984375      0.002576  \nFOODS_1_002_WI_3_validation      0.329727    8.929688      0.002576  \nFOODS_1_003_CA_1_validation      0.329727    2.972656      0.002576  \nFOODS_1_003_CA_2_validation      0.329727    2.972656      0.002576  \nFOODS_1_003_CA_3_validation      0.329727    2.972656      0.002576  \nFOODS_1_003_CA_4_validation      0.329727    2.972656      0.002576  \nFOODS_1_003_TX_1_validation      0.329727    2.970703      0.002576  \nFOODS_1_003_TX_2_validation      0.329727    2.972656      0.002576  \nFOODS_1_003_TX_3_validation      0.329727    2.964844      0.002576  \nFOODS_1_003_WI_1_validation      0.329727    2.972656      0.002576  \nFOODS_1_003_WI_2_validation      0.329727    2.970703      0.002576  \nFOODS_1_003_WI_3_validation      0.329727    2.972656      0.002576  \n...                                   ...         ...           ...  \nHOUSEHOLD_2_514_CA_1_validation  0.329727   18.812500      0.002576  \nHOUSEHOLD_2_514_CA_2_validation  0.329727   18.812500      0.002576  \nHOUSEHOLD_2_514_CA_3_validation  0.329727   18.781250      0.002576  \nHOUSEHOLD_2_514_CA_4_validation  0.329727   18.812500      0.002576  \nHOUSEHOLD_2_514_TX_1_validation  0.329727   18.734375      0.002576  \nHOUSEHOLD_2_514_TX_2_validation  0.329727   18.640625      0.002576  \nHOUSEHOLD_2_514_TX_3_validation  0.329727   18.671875      0.002576  \nHOUSEHOLD_2_514_WI_1_validation  0.329727   18.796875      0.002576  \nHOUSEHOLD_2_514_WI_2_validation  0.329727   18.968750      0.002576  \nHOUSEHOLD_2_514_WI_3_validation  0.329727   18.796875      0.002576  \nHOUSEHOLD_2_515_CA_1_validation  0.329727    1.969727      0.002576  \nHOUSEHOLD_2_515_CA_2_validation  0.329727    1.969727      0.002576  \nHOUSEHOLD_2_515_CA_3_validation  0.329727    1.969727      0.002576  \nHOUSEHOLD_2_515_CA_4_validation  0.329727    1.969727      0.002576  \nHOUSEHOLD_2_515_TX_1_validation  0.329727    1.969727      0.002576  \nHOUSEHOLD_2_515_TX_2_validation  0.329727    1.961914      0.002576  \nHOUSEHOLD_2_515_TX_3_validation  0.329727    1.969727      0.002576  \nHOUSEHOLD_2_515_WI_1_validation  0.329727    1.969727      0.002576  \nHOUSEHOLD_2_515_WI_2_validation  0.329727    1.969727      0.002576  \nHOUSEHOLD_2_515_WI_3_validation  0.329727    1.969727      0.002576  \nHOUSEHOLD_2_516_CA_1_validation  0.329727    5.941406      0.002576  \nHOUSEHOLD_2_516_CA_2_validation  0.329727    5.941406      0.002576  \nHOUSEHOLD_2_516_CA_3_validation  0.329727    5.941406      0.002576  \nHOUSEHOLD_2_516_CA_4_validation  0.329727    5.941406      0.002576  \nHOUSEHOLD_2_516_TX_1_validation  0.329727    5.941406      0.002576  \nHOUSEHOLD_2_516_TX_2_validation  0.329727    5.921875      0.002576  \nHOUSEHOLD_2_516_TX_3_validation  0.329727    5.921875      0.002576  \nHOUSEHOLD_2_516_WI_1_validation  0.329727    5.941406      0.002576  \nHOUSEHOLD_2_516_WI_2_validation  0.329727    5.941406      0.002576  \nHOUSEHOLD_2_516_WI_3_validation  0.329727    5.941406      0.002576  \n\n[30490 rows x 7 columns]",
      "text/html": "<div>\n<style scoped>\n    .dataframe tbody tr th:only-of-type {\n        vertical-align: middle;\n    }\n\n    .dataframe tbody tr th {\n        vertical-align: top;\n    }\n\n    .dataframe thead th {\n        text-align: right;\n    }\n</style>\n<table border=\"1\" class=\"dataframe\">\n  <thead>\n    <tr style=\"text-align: right;\">\n      <th></th>\n      <th>demand</th>\n      <th>wm_yr_wk</th>\n      <th>snap_CA</th>\n      <th>snap_TX</th>\n      <th>snap_WI</th>\n      <th>sell_price</th>\n      <th>black_friday</th>\n    </tr>\n    <tr>\n      <th>id</th>\n      <th></th>\n      <th></th>\n      <th></th>\n      <th></th>\n      <th></th>\n      <th></th>\n      <th></th>\n    </tr>\n  </thead>\n  <tbody>\n    <tr>\n      <th>FOODS_1_001_CA_1_validation</th>\n      <td>0.774343</td>\n      <td>11343.166924</td>\n      <td>0.329727</td>\n      <td>0.329727</td>\n      <td>0.329727</td>\n      <td>2.167969</td>\n      <td>0.002576</td>\n    </tr>\n    <tr>\n      <th>FOODS_1_001_CA_2_validation</th>\n      <td>1.140649</td>\n      <td>11343.166924</td>\n      <td>0.329727</td>\n      <td>0.329727</td>\n      <td>0.329727</td>\n      <td>2.167969</td>\n      <td>0.002576</td>\n    </tr>\n    <tr>\n      <th>FOODS_1_001_CA_3_validation</th>\n      <td>1.185987</td>\n      <td>11343.166924</td>\n      <td>0.329727</td>\n      <td>0.329727</td>\n      <td>0.329727</td>\n      <td>2.156250</td>\n      <td>0.002576</td>\n    </tr>\n    <tr>\n      <th>FOODS_1_001_CA_4_validation</th>\n      <td>0.354456</td>\n      <td>11343.166924</td>\n      <td>0.329727</td>\n      <td>0.329727</td>\n      <td>0.329727</td>\n      <td>2.167969</td>\n      <td>0.002576</td>\n    </tr>\n    <tr>\n      <th>FOODS_1_001_TX_1_validation</th>\n      <td>0.576507</td>\n      <td>11343.166924</td>\n      <td>0.329727</td>\n      <td>0.329727</td>\n      <td>0.329727</td>\n      <td>2.156250</td>\n      <td>0.002576</td>\n    </tr>\n    <tr>\n      <th>FOODS_1_001_TX_2_validation</th>\n      <td>0.572901</td>\n      <td>11343.166924</td>\n      <td>0.329727</td>\n      <td>0.329727</td>\n      <td>0.329727</td>\n      <td>2.167969</td>\n      <td>0.002576</td>\n    </tr>\n    <tr>\n      <th>FOODS_1_001_TX_3_validation</th>\n      <td>0.404431</td>\n      <td>11343.166924</td>\n      <td>0.329727</td>\n      <td>0.329727</td>\n      <td>0.329727</td>\n      <td>2.167969</td>\n      <td>0.002576</td>\n    </tr>\n    <tr>\n      <th>FOODS_1_001_WI_1_validation</th>\n      <td>0.559505</td>\n      <td>11343.166924</td>\n      <td>0.329727</td>\n      <td>0.329727</td>\n      <td>0.329727</td>\n      <td>2.167969</td>\n      <td>0.002576</td>\n    </tr>\n    <tr>\n      <th>FOODS_1_001_WI_2_validation</th>\n      <td>0.450799</td>\n      <td>11343.166924</td>\n      <td>0.329727</td>\n      <td>0.329727</td>\n      <td>0.329727</td>\n      <td>2.167969</td>\n      <td>0.002576</td>\n    </tr>\n    <tr>\n      <th>FOODS_1_001_WI_3_validation</th>\n      <td>0.290057</td>\n      <td>11343.166924</td>\n      <td>0.329727</td>\n      <td>0.329727</td>\n      <td>0.329727</td>\n      <td>2.166016</td>\n      <td>0.002576</td>\n    </tr>\n    <tr>\n      <th>FOODS_1_002_CA_1_validation</th>\n      <td>0.470891</td>\n      <td>11343.166924</td>\n      <td>0.329727</td>\n      <td>0.329727</td>\n      <td>0.329727</td>\n      <td>8.929688</td>\n      <td>0.002576</td>\n    </tr>\n    <tr>\n      <th>FOODS_1_002_CA_2_validation</th>\n      <td>0.594539</td>\n      <td>11343.166924</td>\n      <td>0.329727</td>\n      <td>0.329727</td>\n      <td>0.329727</td>\n      <td>8.851562</td>\n      <td>0.002576</td>\n    </tr>\n    <tr>\n      <th>FOODS_1_002_CA_3_validation</th>\n      <td>0.310665</td>\n      <td>11343.166924</td>\n      <td>0.329727</td>\n      <td>0.329727</td>\n      <td>0.329727</td>\n      <td>8.929688</td>\n      <td>0.002576</td>\n    </tr>\n    <tr>\n      <th>FOODS_1_002_CA_4_validation</th>\n      <td>0.329727</td>\n      <td>11343.166924</td>\n      <td>0.329727</td>\n      <td>0.329727</td>\n      <td>0.329727</td>\n      <td>8.929688</td>\n      <td>0.002576</td>\n    </tr>\n    <tr>\n      <th>FOODS_1_002_TX_1_validation</th>\n      <td>0.166409</td>\n      <td>11343.166924</td>\n      <td>0.329727</td>\n      <td>0.329727</td>\n      <td>0.329727</td>\n      <td>8.921875</td>\n      <td>0.002576</td>\n    </tr>\n    <tr>\n      <th>FOODS_1_002_TX_2_validation</th>\n      <td>0.234415</td>\n      <td>11343.166924</td>\n      <td>0.329727</td>\n      <td>0.329727</td>\n      <td>0.329727</td>\n      <td>8.929688</td>\n      <td>0.002576</td>\n    </tr>\n    <tr>\n      <th>FOODS_1_002_TX_3_validation</th>\n      <td>0.274601</td>\n      <td>11343.166924</td>\n      <td>0.329727</td>\n      <td>0.329727</td>\n      <td>0.329727</td>\n      <td>8.929688</td>\n      <td>0.002576</td>\n    </tr>\n    <tr>\n      <th>FOODS_1_002_WI_1_validation</th>\n      <td>0.742401</td>\n      <td>11343.166924</td>\n      <td>0.329727</td>\n      <td>0.329727</td>\n      <td>0.329727</td>\n      <td>8.929688</td>\n      <td>0.002576</td>\n    </tr>\n    <tr>\n      <th>FOODS_1_002_WI_2_validation</th>\n      <td>0.325605</td>\n      <td>11343.166924</td>\n      <td>0.329727</td>\n      <td>0.329727</td>\n      <td>0.329727</td>\n      <td>8.984375</td>\n      <td>0.002576</td>\n    </tr>\n    <tr>\n      <th>FOODS_1_002_WI_3_validation</th>\n      <td>0.329212</td>\n      <td>11343.166924</td>\n      <td>0.329727</td>\n      <td>0.329727</td>\n      <td>0.329727</td>\n      <td>8.929688</td>\n      <td>0.002576</td>\n    </tr>\n    <tr>\n      <th>FOODS_1_003_CA_1_validation</th>\n      <td>0.820196</td>\n      <td>11343.166924</td>\n      <td>0.329727</td>\n      <td>0.329727</td>\n      <td>0.329727</td>\n      <td>2.972656</td>\n      <td>0.002576</td>\n    </tr>\n    <tr>\n      <th>FOODS_1_003_CA_2_validation</th>\n      <td>1.617723</td>\n      <td>11343.166924</td>\n      <td>0.329727</td>\n      <td>0.329727</td>\n      <td>0.329727</td>\n      <td>2.972656</td>\n      <td>0.002576</td>\n    </tr>\n    <tr>\n      <th>FOODS_1_003_CA_3_validation</th>\n      <td>1.018547</td>\n      <td>11343.166924</td>\n      <td>0.329727</td>\n      <td>0.329727</td>\n      <td>0.329727</td>\n      <td>2.972656</td>\n      <td>0.002576</td>\n    </tr>\n    <tr>\n      <th>FOODS_1_003_CA_4_validation</th>\n      <td>0.470891</td>\n      <td>11343.166924</td>\n      <td>0.329727</td>\n      <td>0.329727</td>\n      <td>0.329727</td>\n      <td>2.972656</td>\n      <td>0.002576</td>\n    </tr>\n    <tr>\n      <th>FOODS_1_003_TX_1_validation</th>\n      <td>0.451829</td>\n      <td>11343.166924</td>\n      <td>0.329727</td>\n      <td>0.329727</td>\n      <td>0.329727</td>\n      <td>2.970703</td>\n      <td>0.002576</td>\n    </tr>\n    <tr>\n      <th>FOODS_1_003_TX_2_validation</th>\n      <td>0.414735</td>\n      <td>11343.166924</td>\n      <td>0.329727</td>\n      <td>0.329727</td>\n      <td>0.329727</td>\n      <td>2.972656</td>\n      <td>0.002576</td>\n    </tr>\n    <tr>\n      <th>FOODS_1_003_TX_3_validation</th>\n      <td>0.149923</td>\n      <td>11343.166924</td>\n      <td>0.329727</td>\n      <td>0.329727</td>\n      <td>0.329727</td>\n      <td>2.964844</td>\n      <td>0.002576</td>\n    </tr>\n    <tr>\n      <th>FOODS_1_003_WI_1_validation</th>\n      <td>1.241113</td>\n      <td>11343.166924</td>\n      <td>0.329727</td>\n      <td>0.329727</td>\n      <td>0.329727</td>\n      <td>2.972656</td>\n      <td>0.002576</td>\n    </tr>\n    <tr>\n      <th>FOODS_1_003_WI_2_validation</th>\n      <td>0.365276</td>\n      <td>11343.166924</td>\n      <td>0.329727</td>\n      <td>0.329727</td>\n      <td>0.329727</td>\n      <td>2.970703</td>\n      <td>0.002576</td>\n    </tr>\n    <tr>\n      <th>FOODS_1_003_WI_3_validation</th>\n      <td>0.350335</td>\n      <td>11343.166924</td>\n      <td>0.329727</td>\n      <td>0.329727</td>\n      <td>0.329727</td>\n      <td>2.972656</td>\n      <td>0.002576</td>\n    </tr>\n    <tr>\n      <th>...</th>\n      <td>...</td>\n      <td>...</td>\n      <td>...</td>\n      <td>...</td>\n      <td>...</td>\n      <td>...</td>\n      <td>...</td>\n    </tr>\n    <tr>\n      <th>HOUSEHOLD_2_514_CA_1_validation</th>\n      <td>0.298815</td>\n      <td>11343.166924</td>\n      <td>0.329727</td>\n      <td>0.329727</td>\n      <td>0.329727</td>\n      <td>18.812500</td>\n      <td>0.002576</td>\n    </tr>\n    <tr>\n      <th>HOUSEHOLD_2_514_CA_2_validation</th>\n      <td>0.336940</td>\n      <td>11343.166924</td>\n      <td>0.329727</td>\n      <td>0.329727</td>\n      <td>0.329727</td>\n      <td>18.812500</td>\n      <td>0.002576</td>\n    </tr>\n    <tr>\n      <th>HOUSEHOLD_2_514_CA_3_validation</th>\n      <td>0.204534</td>\n      <td>11343.166924</td>\n      <td>0.329727</td>\n      <td>0.329727</td>\n      <td>0.329727</td>\n      <td>18.781250</td>\n      <td>0.002576</td>\n    </tr>\n    <tr>\n      <th>HOUSEHOLD_2_514_CA_4_validation</th>\n      <td>0.130860</td>\n      <td>11343.166924</td>\n      <td>0.329727</td>\n      <td>0.329727</td>\n      <td>0.329727</td>\n      <td>18.812500</td>\n      <td>0.002576</td>\n    </tr>\n    <tr>\n      <th>HOUSEHOLD_2_514_TX_1_validation</th>\n      <td>0.079856</td>\n      <td>11343.166924</td>\n      <td>0.329727</td>\n      <td>0.329727</td>\n      <td>0.329727</td>\n      <td>18.734375</td>\n      <td>0.002576</td>\n    </tr>\n    <tr>\n      <th>HOUSEHOLD_2_514_TX_2_validation</th>\n      <td>0.183926</td>\n      <td>11343.166924</td>\n      <td>0.329727</td>\n      <td>0.329727</td>\n      <td>0.329727</td>\n      <td>18.640625</td>\n      <td>0.002576</td>\n    </tr>\n    <tr>\n      <th>HOUSEHOLD_2_514_TX_3_validation</th>\n      <td>0.103040</td>\n      <td>11343.166924</td>\n      <td>0.329727</td>\n      <td>0.329727</td>\n      <td>0.329727</td>\n      <td>18.671875</td>\n      <td>0.002576</td>\n    </tr>\n    <tr>\n      <th>HOUSEHOLD_2_514_WI_1_validation</th>\n      <td>0.129315</td>\n      <td>11343.166924</td>\n      <td>0.329727</td>\n      <td>0.329727</td>\n      <td>0.329727</td>\n      <td>18.796875</td>\n      <td>0.002576</td>\n    </tr>\n    <tr>\n      <th>HOUSEHOLD_2_514_WI_2_validation</th>\n      <td>0.048944</td>\n      <td>11343.166924</td>\n      <td>0.329727</td>\n      <td>0.329727</td>\n      <td>0.329727</td>\n      <td>18.968750</td>\n      <td>0.002576</td>\n    </tr>\n    <tr>\n      <th>HOUSEHOLD_2_514_WI_3_validation</th>\n      <td>0.106646</td>\n      <td>11343.166924</td>\n      <td>0.329727</td>\n      <td>0.329727</td>\n      <td>0.329727</td>\n      <td>18.796875</td>\n      <td>0.002576</td>\n    </tr>\n    <tr>\n      <th>HOUSEHOLD_2_515_CA_1_validation</th>\n      <td>0.059248</td>\n      <td>11343.166924</td>\n      <td>0.329727</td>\n      <td>0.329727</td>\n      <td>0.329727</td>\n      <td>1.969727</td>\n      <td>0.002576</td>\n    </tr>\n    <tr>\n      <th>HOUSEHOLD_2_515_CA_2_validation</th>\n      <td>0.095827</td>\n      <td>11343.166924</td>\n      <td>0.329727</td>\n      <td>0.329727</td>\n      <td>0.329727</td>\n      <td>1.969727</td>\n      <td>0.002576</td>\n    </tr>\n    <tr>\n      <th>HOUSEHOLD_2_515_CA_3_validation</th>\n      <td>0.071097</td>\n      <td>11343.166924</td>\n      <td>0.329727</td>\n      <td>0.329727</td>\n      <td>0.329727</td>\n      <td>1.969727</td>\n      <td>0.002576</td>\n    </tr>\n    <tr>\n      <th>HOUSEHOLD_2_515_CA_4_validation</th>\n      <td>0.043792</td>\n      <td>11343.166924</td>\n      <td>0.329727</td>\n      <td>0.329727</td>\n      <td>0.329727</td>\n      <td>1.969727</td>\n      <td>0.002576</td>\n    </tr>\n    <tr>\n      <th>HOUSEHOLD_2_515_TX_1_validation</th>\n      <td>0.056672</td>\n      <td>11343.166924</td>\n      <td>0.329727</td>\n      <td>0.329727</td>\n      <td>0.329727</td>\n      <td>1.969727</td>\n      <td>0.002576</td>\n    </tr>\n    <tr>\n      <th>HOUSEHOLD_2_515_TX_2_validation</th>\n      <td>0.068006</td>\n      <td>11343.166924</td>\n      <td>0.329727</td>\n      <td>0.329727</td>\n      <td>0.329727</td>\n      <td>1.961914</td>\n      <td>0.002576</td>\n    </tr>\n    <tr>\n      <th>HOUSEHOLD_2_515_TX_3_validation</th>\n      <td>0.039155</td>\n      <td>11343.166924</td>\n      <td>0.329727</td>\n      <td>0.329727</td>\n      <td>0.329727</td>\n      <td>1.969727</td>\n      <td>0.002576</td>\n    </tr>\n    <tr>\n      <th>HOUSEHOLD_2_515_WI_1_validation</th>\n      <td>0.052035</td>\n      <td>11343.166924</td>\n      <td>0.329727</td>\n      <td>0.329727</td>\n      <td>0.329727</td>\n      <td>1.969727</td>\n      <td>0.002576</td>\n    </tr>\n    <tr>\n      <th>HOUSEHOLD_2_515_WI_2_validation</th>\n      <td>0.033488</td>\n      <td>11343.166924</td>\n      <td>0.329727</td>\n      <td>0.329727</td>\n      <td>0.329727</td>\n      <td>1.969727</td>\n      <td>0.002576</td>\n    </tr>\n    <tr>\n      <th>HOUSEHOLD_2_515_WI_3_validation</th>\n      <td>0.058217</td>\n      <td>11343.166924</td>\n      <td>0.329727</td>\n      <td>0.329727</td>\n      <td>0.329727</td>\n      <td>1.969727</td>\n      <td>0.002576</td>\n    </tr>\n    <tr>\n      <th>HOUSEHOLD_2_516_CA_1_validation</th>\n      <td>0.163833</td>\n      <td>11343.166924</td>\n      <td>0.329727</td>\n      <td>0.329727</td>\n      <td>0.329727</td>\n      <td>5.941406</td>\n      <td>0.002576</td>\n    </tr>\n    <tr>\n      <th>HOUSEHOLD_2_516_CA_2_validation</th>\n      <td>0.197321</td>\n      <td>11343.166924</td>\n      <td>0.329727</td>\n      <td>0.329727</td>\n      <td>0.329727</td>\n      <td>5.941406</td>\n      <td>0.002576</td>\n    </tr>\n    <tr>\n      <th>HOUSEHOLD_2_516_CA_3_validation</th>\n      <td>0.144771</td>\n      <td>11343.166924</td>\n      <td>0.329727</td>\n      <td>0.329727</td>\n      <td>0.329727</td>\n      <td>5.941406</td>\n      <td>0.002576</td>\n    </tr>\n    <tr>\n      <th>HOUSEHOLD_2_516_CA_4_validation</th>\n      <td>0.072643</td>\n      <td>11343.166924</td>\n      <td>0.329727</td>\n      <td>0.329727</td>\n      <td>0.329727</td>\n      <td>5.941406</td>\n      <td>0.002576</td>\n    </tr>\n    <tr>\n      <th>HOUSEHOLD_2_516_TX_1_validation</th>\n      <td>0.119526</td>\n      <td>11343.166924</td>\n      <td>0.329727</td>\n      <td>0.329727</td>\n      <td>0.329727</td>\n      <td>5.941406</td>\n      <td>0.002576</td>\n    </tr>\n    <tr>\n      <th>HOUSEHOLD_2_516_TX_2_validation</th>\n      <td>0.247810</td>\n      <td>11343.166924</td>\n      <td>0.329727</td>\n      <td>0.329727</td>\n      <td>0.329727</td>\n      <td>5.921875</td>\n      <td>0.002576</td>\n    </tr>\n    <tr>\n      <th>HOUSEHOLD_2_516_TX_3_validation</th>\n      <td>0.120556</td>\n      <td>11343.166924</td>\n      <td>0.329727</td>\n      <td>0.329727</td>\n      <td>0.329727</td>\n      <td>5.921875</td>\n      <td>0.002576</td>\n    </tr>\n    <tr>\n      <th>HOUSEHOLD_2_516_WI_1_validation</th>\n      <td>0.085523</td>\n      <td>11343.166924</td>\n      <td>0.329727</td>\n      <td>0.329727</td>\n      <td>0.329727</td>\n      <td>5.941406</td>\n      <td>0.002576</td>\n    </tr>\n    <tr>\n      <th>HOUSEHOLD_2_516_WI_2_validation</th>\n      <td>0.031942</td>\n      <td>11343.166924</td>\n      <td>0.329727</td>\n      <td>0.329727</td>\n      <td>0.329727</td>\n      <td>5.941406</td>\n      <td>0.002576</td>\n    </tr>\n    <tr>\n      <th>HOUSEHOLD_2_516_WI_3_validation</th>\n      <td>0.126224</td>\n      <td>11343.166924</td>\n      <td>0.329727</td>\n      <td>0.329727</td>\n      <td>0.329727</td>\n      <td>5.941406</td>\n      <td>0.002576</td>\n    </tr>\n  </tbody>\n</table>\n<p>30490 rows × 7 columns</p>\n</div>"
     },
     "metadata": {},
     "execution_count": 31
    }
   ],
   "source": [
    "data_df.groupby(\"id\").mean()"
   ]
  },
  {
   "cell_type": "code",
   "execution_count": 32,
   "metadata": {},
   "outputs": [
    {
     "output_type": "stream",
     "name": "stdout",
     "text": "8.28\n8.28\n"
    }
   ],
   "source": [
    "print(data_df[data_df[\"id\"] == \"HOBBIES_1_001_CA_1_validation\"][\"sell_price\"].mean())\n",
    "print(data_df[data_df[\"id\"] == \"HOBBIES_1_001_CA_1_validation\"][\"sell_price\"].dropna().mean())"
   ]
  },
  {
   "cell_type": "markdown",
   "metadata": {},
   "source": [
    "gropbyで求めたsell_priceの平均値はNanを無視しているため気にしなくていい  \n",
    "mean_sell_priceという列を作る  \n",
    "欠損値がない部分はsell_priceとmeanとの差分を取る  \n",
    "最初に全シーズンで平均出したら１月単位とかで平均出すのもあり  "
   ]
  },
  {
   "cell_type": "code",
   "execution_count": 8,
   "metadata": {},
   "outputs": [],
   "source": [
    "mean_sell_price_df = data_df.groupby('id').mean()"
   ]
  },
  {
   "cell_type": "code",
   "execution_count": 9,
   "metadata": {},
   "outputs": [],
   "source": [
    "mean_sell_price_df.rename(columns={\"sell_price\": \"mean_sell_price\"}, inplace=True)"
   ]
  },
  {
   "cell_type": "code",
   "execution_count": 13,
   "metadata": {},
   "outputs": [
    {
     "output_type": "execute_result",
     "data": {
      "text/plain": "                               demand      wm_yr_wk   snap_CA   snap_TX  \\\nid                                                                        \nFOODS_1_001_CA_1_validation  0.774343  11343.166924  0.329727  0.329727   \nFOODS_1_001_CA_2_validation  1.140649  11343.166924  0.329727  0.329727   \nFOODS_1_001_CA_3_validation  1.185987  11343.166924  0.329727  0.329727   \nFOODS_1_001_CA_4_validation  0.354456  11343.166924  0.329727  0.329727   \nFOODS_1_001_TX_1_validation  0.576507  11343.166924  0.329727  0.329727   \n\n                              snap_WI  mean_sell_price  \nid                                                      \nFOODS_1_001_CA_1_validation  0.329727         2.167969  \nFOODS_1_001_CA_2_validation  0.329727         2.167969  \nFOODS_1_001_CA_3_validation  0.329727         2.156250  \nFOODS_1_001_CA_4_validation  0.329727         2.167969  \nFOODS_1_001_TX_1_validation  0.329727         2.156250  ",
      "text/html": "<div>\n<style scoped>\n    .dataframe tbody tr th:only-of-type {\n        vertical-align: middle;\n    }\n\n    .dataframe tbody tr th {\n        vertical-align: top;\n    }\n\n    .dataframe thead th {\n        text-align: right;\n    }\n</style>\n<table border=\"1\" class=\"dataframe\">\n  <thead>\n    <tr style=\"text-align: right;\">\n      <th></th>\n      <th>demand</th>\n      <th>wm_yr_wk</th>\n      <th>snap_CA</th>\n      <th>snap_TX</th>\n      <th>snap_WI</th>\n      <th>mean_sell_price</th>\n    </tr>\n    <tr>\n      <th>id</th>\n      <th></th>\n      <th></th>\n      <th></th>\n      <th></th>\n      <th></th>\n      <th></th>\n    </tr>\n  </thead>\n  <tbody>\n    <tr>\n      <th>FOODS_1_001_CA_1_validation</th>\n      <td>0.774343</td>\n      <td>11343.166924</td>\n      <td>0.329727</td>\n      <td>0.329727</td>\n      <td>0.329727</td>\n      <td>2.167969</td>\n    </tr>\n    <tr>\n      <th>FOODS_1_001_CA_2_validation</th>\n      <td>1.140649</td>\n      <td>11343.166924</td>\n      <td>0.329727</td>\n      <td>0.329727</td>\n      <td>0.329727</td>\n      <td>2.167969</td>\n    </tr>\n    <tr>\n      <th>FOODS_1_001_CA_3_validation</th>\n      <td>1.185987</td>\n      <td>11343.166924</td>\n      <td>0.329727</td>\n      <td>0.329727</td>\n      <td>0.329727</td>\n      <td>2.156250</td>\n    </tr>\n    <tr>\n      <th>FOODS_1_001_CA_4_validation</th>\n      <td>0.354456</td>\n      <td>11343.166924</td>\n      <td>0.329727</td>\n      <td>0.329727</td>\n      <td>0.329727</td>\n      <td>2.167969</td>\n    </tr>\n    <tr>\n      <th>FOODS_1_001_TX_1_validation</th>\n      <td>0.576507</td>\n      <td>11343.166924</td>\n      <td>0.329727</td>\n      <td>0.329727</td>\n      <td>0.329727</td>\n      <td>2.156250</td>\n    </tr>\n  </tbody>\n</table>\n</div>"
     },
     "metadata": {},
     "execution_count": 13
    }
   ],
   "source": [
    "mean_sell_price_df.head()"
   ]
  },
  {
   "cell_type": "code",
   "execution_count": 14,
   "metadata": {},
   "outputs": [
    {
     "output_type": "execute_result",
     "data": {
      "text/plain": "id\nFOODS_1_001_CA_1_validation         2.167969\nFOODS_1_001_CA_2_validation         2.167969\nFOODS_1_001_CA_3_validation         2.156250\nFOODS_1_001_CA_4_validation         2.167969\nFOODS_1_001_TX_1_validation         2.156250\nFOODS_1_001_TX_2_validation         2.167969\nFOODS_1_001_TX_3_validation         2.167969\nFOODS_1_001_WI_1_validation         2.167969\nFOODS_1_001_WI_2_validation         2.167969\nFOODS_1_001_WI_3_validation         2.166016\nFOODS_1_002_CA_1_validation         8.929688\nFOODS_1_002_CA_2_validation         8.851562\nFOODS_1_002_CA_3_validation         8.929688\nFOODS_1_002_CA_4_validation         8.929688\nFOODS_1_002_TX_1_validation         8.921875\nFOODS_1_002_TX_2_validation         8.929688\nFOODS_1_002_TX_3_validation         8.929688\nFOODS_1_002_WI_1_validation         8.929688\nFOODS_1_002_WI_2_validation         8.984375\nFOODS_1_002_WI_3_validation         8.929688\nFOODS_1_003_CA_1_validation         2.972656\nFOODS_1_003_CA_2_validation         2.972656\nFOODS_1_003_CA_3_validation         2.972656\nFOODS_1_003_CA_4_validation         2.972656\nFOODS_1_003_TX_1_validation         2.970703\nFOODS_1_003_TX_2_validation         2.972656\nFOODS_1_003_TX_3_validation         2.964844\nFOODS_1_003_WI_1_validation         2.972656\nFOODS_1_003_WI_2_validation         2.970703\nFOODS_1_003_WI_3_validation         2.972656\n                                     ...    \nHOUSEHOLD_2_514_CA_1_validation    18.812500\nHOUSEHOLD_2_514_CA_2_validation    18.812500\nHOUSEHOLD_2_514_CA_3_validation    18.781250\nHOUSEHOLD_2_514_CA_4_validation    18.812500\nHOUSEHOLD_2_514_TX_1_validation    18.734375\nHOUSEHOLD_2_514_TX_2_validation    18.640625\nHOUSEHOLD_2_514_TX_3_validation    18.671875\nHOUSEHOLD_2_514_WI_1_validation    18.796875\nHOUSEHOLD_2_514_WI_2_validation    18.968750\nHOUSEHOLD_2_514_WI_3_validation    18.796875\nHOUSEHOLD_2_515_CA_1_validation     1.969727\nHOUSEHOLD_2_515_CA_2_validation     1.969727\nHOUSEHOLD_2_515_CA_3_validation     1.969727\nHOUSEHOLD_2_515_CA_4_validation     1.969727\nHOUSEHOLD_2_515_TX_1_validation     1.969727\nHOUSEHOLD_2_515_TX_2_validation     1.961914\nHOUSEHOLD_2_515_TX_3_validation     1.969727\nHOUSEHOLD_2_515_WI_1_validation     1.969727\nHOUSEHOLD_2_515_WI_2_validation     1.969727\nHOUSEHOLD_2_515_WI_3_validation     1.969727\nHOUSEHOLD_2_516_CA_1_validation     5.941406\nHOUSEHOLD_2_516_CA_2_validation     5.941406\nHOUSEHOLD_2_516_CA_3_validation     5.941406\nHOUSEHOLD_2_516_CA_4_validation     5.941406\nHOUSEHOLD_2_516_TX_1_validation     5.941406\nHOUSEHOLD_2_516_TX_2_validation     5.921875\nHOUSEHOLD_2_516_TX_3_validation     5.921875\nHOUSEHOLD_2_516_WI_1_validation     5.941406\nHOUSEHOLD_2_516_WI_2_validation     5.941406\nHOUSEHOLD_2_516_WI_3_validation     5.941406\nName: mean_sell_price, Length: 30490, dtype: float16"
     },
     "metadata": {},
     "execution_count": 14
    }
   ],
   "source": [
    "mean_sell_price_df[\"mean_sell_price\"]"
   ]
  },
  {
   "cell_type": "code",
   "execution_count": 18,
   "metadata": {},
   "outputs": [],
   "source": [
    "data_df = data_df.merge(mean_sell_price_df[\"mean_sell_price\"], on=\"id\")"
   ]
  },
  {
   "cell_type": "code",
   "execution_count": 19,
   "metadata": {},
   "outputs": [
    {
     "output_type": "execute_result",
     "data": {
      "text/plain": "                              id        item_id    dept_id   cat_id store_id  \\\n0  HOBBIES_1_001_CA_1_validation  HOBBIES_1_001  HOBBIES_1  HOBBIES     CA_1   \n1  HOBBIES_1_001_CA_1_validation  HOBBIES_1_001  HOBBIES_1  HOBBIES     CA_1   \n2  HOBBIES_1_001_CA_1_validation  HOBBIES_1_001  HOBBIES_1  HOBBIES     CA_1   \n3  HOBBIES_1_001_CA_1_validation  HOBBIES_1_001  HOBBIES_1  HOBBIES     CA_1   \n4  HOBBIES_1_001_CA_1_validation  HOBBIES_1_001  HOBBIES_1  HOBBIES     CA_1   \n\n  state_id  demand   part        date  wm_yr_wk event_name_1 event_type_1  \\\n0       CA       0  train  2011-01-29     11101          NaN          NaN   \n1       CA       0  train  2011-01-30     11101          NaN          NaN   \n2       CA       0  train  2011-01-31     11101          NaN          NaN   \n3       CA       0  train  2011-02-01     11101          NaN          NaN   \n4       CA       0  train  2011-02-02     11101          NaN          NaN   \n\n  event_name_2 event_type_2  snap_CA  snap_TX  snap_WI  sell_price  \\\n0          NaN          NaN        0        0        0         NaN   \n1          NaN          NaN        0        0        0         NaN   \n2          NaN          NaN        0        0        0         NaN   \n3          NaN          NaN        1        1        0         NaN   \n4          NaN          NaN        1        0        1         NaN   \n\n   mean_sell_price  \n0          8.28125  \n1          8.28125  \n2          8.28125  \n3          8.28125  \n4          8.28125  ",
      "text/html": "<div>\n<style scoped>\n    .dataframe tbody tr th:only-of-type {\n        vertical-align: middle;\n    }\n\n    .dataframe tbody tr th {\n        vertical-align: top;\n    }\n\n    .dataframe thead th {\n        text-align: right;\n    }\n</style>\n<table border=\"1\" class=\"dataframe\">\n  <thead>\n    <tr style=\"text-align: right;\">\n      <th></th>\n      <th>id</th>\n      <th>item_id</th>\n      <th>dept_id</th>\n      <th>cat_id</th>\n      <th>store_id</th>\n      <th>state_id</th>\n      <th>demand</th>\n      <th>part</th>\n      <th>date</th>\n      <th>wm_yr_wk</th>\n      <th>event_name_1</th>\n      <th>event_type_1</th>\n      <th>event_name_2</th>\n      <th>event_type_2</th>\n      <th>snap_CA</th>\n      <th>snap_TX</th>\n      <th>snap_WI</th>\n      <th>sell_price</th>\n      <th>mean_sell_price</th>\n    </tr>\n  </thead>\n  <tbody>\n    <tr>\n      <th>0</th>\n      <td>HOBBIES_1_001_CA_1_validation</td>\n      <td>HOBBIES_1_001</td>\n      <td>HOBBIES_1</td>\n      <td>HOBBIES</td>\n      <td>CA_1</td>\n      <td>CA</td>\n      <td>0</td>\n      <td>train</td>\n      <td>2011-01-29</td>\n      <td>11101</td>\n      <td>NaN</td>\n      <td>NaN</td>\n      <td>NaN</td>\n      <td>NaN</td>\n      <td>0</td>\n      <td>0</td>\n      <td>0</td>\n      <td>NaN</td>\n      <td>8.28125</td>\n    </tr>\n    <tr>\n      <th>1</th>\n      <td>HOBBIES_1_001_CA_1_validation</td>\n      <td>HOBBIES_1_001</td>\n      <td>HOBBIES_1</td>\n      <td>HOBBIES</td>\n      <td>CA_1</td>\n      <td>CA</td>\n      <td>0</td>\n      <td>train</td>\n      <td>2011-01-30</td>\n      <td>11101</td>\n      <td>NaN</td>\n      <td>NaN</td>\n      <td>NaN</td>\n      <td>NaN</td>\n      <td>0</td>\n      <td>0</td>\n      <td>0</td>\n      <td>NaN</td>\n      <td>8.28125</td>\n    </tr>\n    <tr>\n      <th>2</th>\n      <td>HOBBIES_1_001_CA_1_validation</td>\n      <td>HOBBIES_1_001</td>\n      <td>HOBBIES_1</td>\n      <td>HOBBIES</td>\n      <td>CA_1</td>\n      <td>CA</td>\n      <td>0</td>\n      <td>train</td>\n      <td>2011-01-31</td>\n      <td>11101</td>\n      <td>NaN</td>\n      <td>NaN</td>\n      <td>NaN</td>\n      <td>NaN</td>\n      <td>0</td>\n      <td>0</td>\n      <td>0</td>\n      <td>NaN</td>\n      <td>8.28125</td>\n    </tr>\n    <tr>\n      <th>3</th>\n      <td>HOBBIES_1_001_CA_1_validation</td>\n      <td>HOBBIES_1_001</td>\n      <td>HOBBIES_1</td>\n      <td>HOBBIES</td>\n      <td>CA_1</td>\n      <td>CA</td>\n      <td>0</td>\n      <td>train</td>\n      <td>2011-02-01</td>\n      <td>11101</td>\n      <td>NaN</td>\n      <td>NaN</td>\n      <td>NaN</td>\n      <td>NaN</td>\n      <td>1</td>\n      <td>1</td>\n      <td>0</td>\n      <td>NaN</td>\n      <td>8.28125</td>\n    </tr>\n    <tr>\n      <th>4</th>\n      <td>HOBBIES_1_001_CA_1_validation</td>\n      <td>HOBBIES_1_001</td>\n      <td>HOBBIES_1</td>\n      <td>HOBBIES</td>\n      <td>CA_1</td>\n      <td>CA</td>\n      <td>0</td>\n      <td>train</td>\n      <td>2011-02-02</td>\n      <td>11101</td>\n      <td>NaN</td>\n      <td>NaN</td>\n      <td>NaN</td>\n      <td>NaN</td>\n      <td>1</td>\n      <td>0</td>\n      <td>1</td>\n      <td>NaN</td>\n      <td>8.28125</td>\n    </tr>\n  </tbody>\n</table>\n</div>"
     },
     "metadata": {},
     "execution_count": 19
    }
   ],
   "source": [
    "data_df.head()"
   ]
  },
  {
   "cell_type": "code",
   "execution_count": 20,
   "metadata": {},
   "outputs": [],
   "source": [
    "data_df[\"diff_sell_price\"] = data_df[\"mean_sell_price\"] - data_df[\"sell_price\"]"
   ]
  },
  {
   "cell_type": "code",
   "execution_count": 21,
   "metadata": {},
   "outputs": [
    {
     "output_type": "execute_result",
     "data": {
      "text/plain": "                              id        item_id    dept_id   cat_id store_id  \\\n0  HOBBIES_1_001_CA_1_validation  HOBBIES_1_001  HOBBIES_1  HOBBIES     CA_1   \n1  HOBBIES_1_001_CA_1_validation  HOBBIES_1_001  HOBBIES_1  HOBBIES     CA_1   \n2  HOBBIES_1_001_CA_1_validation  HOBBIES_1_001  HOBBIES_1  HOBBIES     CA_1   \n3  HOBBIES_1_001_CA_1_validation  HOBBIES_1_001  HOBBIES_1  HOBBIES     CA_1   \n4  HOBBIES_1_001_CA_1_validation  HOBBIES_1_001  HOBBIES_1  HOBBIES     CA_1   \n\n  state_id  demand   part        date  wm_yr_wk event_name_1 event_type_1  \\\n0       CA       0  train  2011-01-29     11101          NaN          NaN   \n1       CA       0  train  2011-01-30     11101          NaN          NaN   \n2       CA       0  train  2011-01-31     11101          NaN          NaN   \n3       CA       0  train  2011-02-01     11101          NaN          NaN   \n4       CA       0  train  2011-02-02     11101          NaN          NaN   \n\n  event_name_2 event_type_2  snap_CA  snap_TX  snap_WI  sell_price  \\\n0          NaN          NaN        0        0        0         NaN   \n1          NaN          NaN        0        0        0         NaN   \n2          NaN          NaN        0        0        0         NaN   \n3          NaN          NaN        1        1        0         NaN   \n4          NaN          NaN        1        0        1         NaN   \n\n   mean_sell_price  diff_sell_price  \n0          8.28125              NaN  \n1          8.28125              NaN  \n2          8.28125              NaN  \n3          8.28125              NaN  \n4          8.28125              NaN  ",
      "text/html": "<div>\n<style scoped>\n    .dataframe tbody tr th:only-of-type {\n        vertical-align: middle;\n    }\n\n    .dataframe tbody tr th {\n        vertical-align: top;\n    }\n\n    .dataframe thead th {\n        text-align: right;\n    }\n</style>\n<table border=\"1\" class=\"dataframe\">\n  <thead>\n    <tr style=\"text-align: right;\">\n      <th></th>\n      <th>id</th>\n      <th>item_id</th>\n      <th>dept_id</th>\n      <th>cat_id</th>\n      <th>store_id</th>\n      <th>state_id</th>\n      <th>demand</th>\n      <th>part</th>\n      <th>date</th>\n      <th>wm_yr_wk</th>\n      <th>event_name_1</th>\n      <th>event_type_1</th>\n      <th>event_name_2</th>\n      <th>event_type_2</th>\n      <th>snap_CA</th>\n      <th>snap_TX</th>\n      <th>snap_WI</th>\n      <th>sell_price</th>\n      <th>mean_sell_price</th>\n      <th>diff_sell_price</th>\n    </tr>\n  </thead>\n  <tbody>\n    <tr>\n      <th>0</th>\n      <td>HOBBIES_1_001_CA_1_validation</td>\n      <td>HOBBIES_1_001</td>\n      <td>HOBBIES_1</td>\n      <td>HOBBIES</td>\n      <td>CA_1</td>\n      <td>CA</td>\n      <td>0</td>\n      <td>train</td>\n      <td>2011-01-29</td>\n      <td>11101</td>\n      <td>NaN</td>\n      <td>NaN</td>\n      <td>NaN</td>\n      <td>NaN</td>\n      <td>0</td>\n      <td>0</td>\n      <td>0</td>\n      <td>NaN</td>\n      <td>8.28125</td>\n      <td>NaN</td>\n    </tr>\n    <tr>\n      <th>1</th>\n      <td>HOBBIES_1_001_CA_1_validation</td>\n      <td>HOBBIES_1_001</td>\n      <td>HOBBIES_1</td>\n      <td>HOBBIES</td>\n      <td>CA_1</td>\n      <td>CA</td>\n      <td>0</td>\n      <td>train</td>\n      <td>2011-01-30</td>\n      <td>11101</td>\n      <td>NaN</td>\n      <td>NaN</td>\n      <td>NaN</td>\n      <td>NaN</td>\n      <td>0</td>\n      <td>0</td>\n      <td>0</td>\n      <td>NaN</td>\n      <td>8.28125</td>\n      <td>NaN</td>\n    </tr>\n    <tr>\n      <th>2</th>\n      <td>HOBBIES_1_001_CA_1_validation</td>\n      <td>HOBBIES_1_001</td>\n      <td>HOBBIES_1</td>\n      <td>HOBBIES</td>\n      <td>CA_1</td>\n      <td>CA</td>\n      <td>0</td>\n      <td>train</td>\n      <td>2011-01-31</td>\n      <td>11101</td>\n      <td>NaN</td>\n      <td>NaN</td>\n      <td>NaN</td>\n      <td>NaN</td>\n      <td>0</td>\n      <td>0</td>\n      <td>0</td>\n      <td>NaN</td>\n      <td>8.28125</td>\n      <td>NaN</td>\n    </tr>\n    <tr>\n      <th>3</th>\n      <td>HOBBIES_1_001_CA_1_validation</td>\n      <td>HOBBIES_1_001</td>\n      <td>HOBBIES_1</td>\n      <td>HOBBIES</td>\n      <td>CA_1</td>\n      <td>CA</td>\n      <td>0</td>\n      <td>train</td>\n      <td>2011-02-01</td>\n      <td>11101</td>\n      <td>NaN</td>\n      <td>NaN</td>\n      <td>NaN</td>\n      <td>NaN</td>\n      <td>1</td>\n      <td>1</td>\n      <td>0</td>\n      <td>NaN</td>\n      <td>8.28125</td>\n      <td>NaN</td>\n    </tr>\n    <tr>\n      <th>4</th>\n      <td>HOBBIES_1_001_CA_1_validation</td>\n      <td>HOBBIES_1_001</td>\n      <td>HOBBIES_1</td>\n      <td>HOBBIES</td>\n      <td>CA_1</td>\n      <td>CA</td>\n      <td>0</td>\n      <td>train</td>\n      <td>2011-02-02</td>\n      <td>11101</td>\n      <td>NaN</td>\n      <td>NaN</td>\n      <td>NaN</td>\n      <td>NaN</td>\n      <td>1</td>\n      <td>0</td>\n      <td>1</td>\n      <td>NaN</td>\n      <td>8.28125</td>\n      <td>NaN</td>\n    </tr>\n  </tbody>\n</table>\n</div>"
     },
     "metadata": {},
     "execution_count": 21
    }
   ],
   "source": [
    "data_df.head()"
   ]
  },
  {
   "cell_type": "code",
   "execution_count": null,
   "metadata": {},
   "outputs": [],
   "source": []
  }
 ]
}