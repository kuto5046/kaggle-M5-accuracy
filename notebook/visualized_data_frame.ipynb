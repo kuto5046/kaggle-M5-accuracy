{
 "nbformat": 4,
 "nbformat_minor": 2,
 "metadata": {
  "language_info": {
   "name": "python",
   "codemirror_mode": {
    "name": "ipython",
    "version": 3
   },
   "version": "3.7.4-final"
  },
  "orig_nbformat": 2,
  "file_extension": ".py",
  "mimetype": "text/x-python",
  "name": "python",
  "npconvert_exporter": "python",
  "pygments_lexer": "ipython3",
  "version": 3,
  "kernelspec": {
   "name": "python37464biteddf527578464ed5a56435cc8d4ac68f",
   "display_name": "Python 3.7.4 64-bit"
  }
 },
 "cells": [
  {
   "cell_type": "code",
   "execution_count": 1,
   "metadata": {},
   "outputs": [],
   "source": [
    "import gc\n",
    "import os\n",
    "import warnings\n",
    "import numpy as np\n",
    "import pandas as pd\n",
    "import seaborn as sns\n",
    "import lightgbm as lgb\n",
    "import matplotlib.pyplot as plt\n",
    "from sklearn import preprocessing, metrics"
   ]
  },
  {
   "cell_type": "code",
   "execution_count": 2,
   "metadata": {},
   "outputs": [],
   "source": [
    "# メモリ使用量の削減\n",
    "def reduce_mem_usage(df, verbose=False):\n",
    "    numerics = ['int16', 'int32', 'int64', 'float16', 'float32', 'float64']\n",
    "    start_mem = df.memory_usage().sum() / 1024**2    \n",
    "    for col in df.columns:\n",
    "        col_type = df[col].dtypes\n",
    "        if col_type in numerics:\n",
    "            c_min = df[col].min()\n",
    "            c_max = df[col].max()\n",
    "            if str(col_type)[:3] == 'int':\n",
    "                if c_min > np.iinfo(np.int8).min and c_max < np.iinfo(np.int8).max:\n",
    "                    df[col] = df[col].astype(np.int8)\n",
    "                elif c_min > np.iinfo(np.int16).min and c_max < np.iinfo(np.int16).max:\n",
    "                    df[col] = df[col].astype(np.int16)\n",
    "                elif c_min > np.iinfo(np.int32).min and c_max < np.iinfo(np.int32).max:\n",
    "                    df[col] = df[col].astype(np.int32)\n",
    "                elif c_min > np.iinfo(np.int64).min and c_max < np.iinfo(np.int64).max:\n",
    "                    df[col] = df[col].astype(np.int64)  \n",
    "            else:\n",
    "                if c_min > np.finfo(np.float16).min and c_max < np.finfo(np.float16).max:\n",
    "                    df[col] = df[col].astype(np.float16)\n",
    "                elif c_min > np.finfo(np.float32).min and c_max < np.finfo(np.float32).max:\n",
    "                    df[col] = df[col].astype(np.float32)\n",
    "                else:\n",
    "                    df[col] = df[col].astype(np.float64)    \n",
    "    end_mem = df.memory_usage().sum() / 1024**2\n",
    "    if verbose: print('Mem. usage decreased to {:5.2f} Mb ({:.1f}% reduction)'.format(end_mem, 100 * (start_mem - end_mem) / start_mem))\n",
    "    return df"
   ]
  },
  {
   "cell_type": "code",
   "execution_count": 4,
   "metadata": {},
   "outputs": [],
   "source": [
    "def read_data():\n",
    "    print('Reading files...')\n",
    "\n",
    "    calendar_df = pd.read_csv('../input/m5-forecasting-accuracy/calendar.csv')\n",
    "    calendar_df = reduce_mem_usage(calendar_df)\n",
    "    print('Calendar: ' + str(calendar_df.shape))\n",
    "\n",
    "    sell_prices_df = pd.read_csv('../input/m5-forecasting-accuracy/sell_prices.csv')\n",
    "    sell_prices_df = reduce_mem_usage(sell_prices_df)\n",
    "    print('Sell prices: ' + str(sell_prices_df.shape))\n",
    "\n",
    "    train_df = pd.read_csv('../input/m5-forecasting-accuracy/sales_train_validation.csv')\n",
    "    print('Sales train validation: ' + str(train_df.shape))\n",
    "\n",
    "    submission_df = pd.read_csv('../input/m5-forecasting-accuracy/sample_submission.csv')\n",
    "    print(\"Submission: \" + str(submission_df.shape))\n",
    "\n",
    "    return calendar_df, sell_prices_df, train_df, submission_df"
   ]
  },
  {
   "cell_type": "code",
   "execution_count": 5,
   "metadata": {},
   "outputs": [
    {
     "output_type": "stream",
     "name": "stdout",
     "text": "Reading files...\nMem. usage decreased to  0.12 Mb (41.9% reduction)\nCalendar: (1969, 14)\nMem. usage decreased to 130.48 Mb (37.5% reduction)\nSell prices: (6841121, 4)\nSales train validation: (30490, 1919)\nSubmission: (60980, 29)\n"
    }
   ],
   "source": [
    "calendar_df, sell_prices_df, train_df, submission_df = read_data()"
   ]
  },
  {
   "cell_type": "code",
   "execution_count": 7,
   "metadata": {},
   "outputs": [
    {
     "output_type": "execute_result",
     "data": {
      "text/plain": "         date  wm_yr_wk   weekday  wday  month  year    d event_name_1  \\\n0  2011-01-29     11101  Saturday     1      1  2011  d_1          NaN   \n1  2011-01-30     11101    Sunday     2      1  2011  d_2          NaN   \n\n  event_type_1 event_name_2 event_type_2  snap_CA  snap_TX  snap_WI  \n0          NaN          NaN          NaN        0        0        0  \n1          NaN          NaN          NaN        0        0        0  ",
      "text/html": "<div>\n<style scoped>\n    .dataframe tbody tr th:only-of-type {\n        vertical-align: middle;\n    }\n\n    .dataframe tbody tr th {\n        vertical-align: top;\n    }\n\n    .dataframe thead th {\n        text-align: right;\n    }\n</style>\n<table border=\"1\" class=\"dataframe\">\n  <thead>\n    <tr style=\"text-align: right;\">\n      <th></th>\n      <th>date</th>\n      <th>wm_yr_wk</th>\n      <th>weekday</th>\n      <th>wday</th>\n      <th>month</th>\n      <th>year</th>\n      <th>d</th>\n      <th>event_name_1</th>\n      <th>event_type_1</th>\n      <th>event_name_2</th>\n      <th>event_type_2</th>\n      <th>snap_CA</th>\n      <th>snap_TX</th>\n      <th>snap_WI</th>\n    </tr>\n  </thead>\n  <tbody>\n    <tr>\n      <th>0</th>\n      <td>2011-01-29</td>\n      <td>11101</td>\n      <td>Saturday</td>\n      <td>1</td>\n      <td>1</td>\n      <td>2011</td>\n      <td>d_1</td>\n      <td>NaN</td>\n      <td>NaN</td>\n      <td>NaN</td>\n      <td>NaN</td>\n      <td>0</td>\n      <td>0</td>\n      <td>0</td>\n    </tr>\n    <tr>\n      <th>1</th>\n      <td>2011-01-30</td>\n      <td>11101</td>\n      <td>Sunday</td>\n      <td>2</td>\n      <td>1</td>\n      <td>2011</td>\n      <td>d_2</td>\n      <td>NaN</td>\n      <td>NaN</td>\n      <td>NaN</td>\n      <td>NaN</td>\n      <td>0</td>\n      <td>0</td>\n      <td>0</td>\n    </tr>\n  </tbody>\n</table>\n</div>"
     },
     "metadata": {},
     "execution_count": 7
    }
   ],
   "source": [
    "calendar_df.head(2)"
   ]
  },
  {
   "cell_type": "code",
   "execution_count": 8,
   "metadata": {},
   "outputs": [
    {
     "output_type": "execute_result",
     "data": {
      "text/plain": "  store_id        item_id  wm_yr_wk  sell_price\n0     CA_1  HOBBIES_1_001     11325    9.578125\n1     CA_1  HOBBIES_1_001     11326    9.578125",
      "text/html": "<div>\n<style scoped>\n    .dataframe tbody tr th:only-of-type {\n        vertical-align: middle;\n    }\n\n    .dataframe tbody tr th {\n        vertical-align: top;\n    }\n\n    .dataframe thead th {\n        text-align: right;\n    }\n</style>\n<table border=\"1\" class=\"dataframe\">\n  <thead>\n    <tr style=\"text-align: right;\">\n      <th></th>\n      <th>store_id</th>\n      <th>item_id</th>\n      <th>wm_yr_wk</th>\n      <th>sell_price</th>\n    </tr>\n  </thead>\n  <tbody>\n    <tr>\n      <th>0</th>\n      <td>CA_1</td>\n      <td>HOBBIES_1_001</td>\n      <td>11325</td>\n      <td>9.578125</td>\n    </tr>\n    <tr>\n      <th>1</th>\n      <td>CA_1</td>\n      <td>HOBBIES_1_001</td>\n      <td>11326</td>\n      <td>9.578125</td>\n    </tr>\n  </tbody>\n</table>\n</div>"
     },
     "metadata": {},
     "execution_count": 8
    }
   ],
   "source": [
    "sell_prices_df.head(2)"
   ]
  },
  {
   "cell_type": "code",
   "execution_count": 9,
   "metadata": {},
   "outputs": [
    {
     "output_type": "execute_result",
     "data": {
      "text/plain": "                              id        item_id    dept_id   cat_id store_id  \\\n0  HOBBIES_1_001_CA_1_validation  HOBBIES_1_001  HOBBIES_1  HOBBIES     CA_1   \n1  HOBBIES_1_002_CA_1_validation  HOBBIES_1_002  HOBBIES_1  HOBBIES     CA_1   \n\n  state_id  d_1  d_2  d_3  d_4  ...  d_1904  d_1905  d_1906  d_1907  d_1908  \\\n0       CA    0    0    0    0  ...       1       3       0       1       1   \n1       CA    0    0    0    0  ...       0       0       0       0       0   \n\n   d_1909  d_1910  d_1911  d_1912  d_1913  \n0       1       3       0       1       1  \n1       1       0       0       0       0  \n\n[2 rows x 1919 columns]",
      "text/html": "<div>\n<style scoped>\n    .dataframe tbody tr th:only-of-type {\n        vertical-align: middle;\n    }\n\n    .dataframe tbody tr th {\n        vertical-align: top;\n    }\n\n    .dataframe thead th {\n        text-align: right;\n    }\n</style>\n<table border=\"1\" class=\"dataframe\">\n  <thead>\n    <tr style=\"text-align: right;\">\n      <th></th>\n      <th>id</th>\n      <th>item_id</th>\n      <th>dept_id</th>\n      <th>cat_id</th>\n      <th>store_id</th>\n      <th>state_id</th>\n      <th>d_1</th>\n      <th>d_2</th>\n      <th>d_3</th>\n      <th>d_4</th>\n      <th>...</th>\n      <th>d_1904</th>\n      <th>d_1905</th>\n      <th>d_1906</th>\n      <th>d_1907</th>\n      <th>d_1908</th>\n      <th>d_1909</th>\n      <th>d_1910</th>\n      <th>d_1911</th>\n      <th>d_1912</th>\n      <th>d_1913</th>\n    </tr>\n  </thead>\n  <tbody>\n    <tr>\n      <th>0</th>\n      <td>HOBBIES_1_001_CA_1_validation</td>\n      <td>HOBBIES_1_001</td>\n      <td>HOBBIES_1</td>\n      <td>HOBBIES</td>\n      <td>CA_1</td>\n      <td>CA</td>\n      <td>0</td>\n      <td>0</td>\n      <td>0</td>\n      <td>0</td>\n      <td>...</td>\n      <td>1</td>\n      <td>3</td>\n      <td>0</td>\n      <td>1</td>\n      <td>1</td>\n      <td>1</td>\n      <td>3</td>\n      <td>0</td>\n      <td>1</td>\n      <td>1</td>\n    </tr>\n    <tr>\n      <th>1</th>\n      <td>HOBBIES_1_002_CA_1_validation</td>\n      <td>HOBBIES_1_002</td>\n      <td>HOBBIES_1</td>\n      <td>HOBBIES</td>\n      <td>CA_1</td>\n      <td>CA</td>\n      <td>0</td>\n      <td>0</td>\n      <td>0</td>\n      <td>0</td>\n      <td>...</td>\n      <td>0</td>\n      <td>0</td>\n      <td>0</td>\n      <td>0</td>\n      <td>0</td>\n      <td>1</td>\n      <td>0</td>\n      <td>0</td>\n      <td>0</td>\n      <td>0</td>\n    </tr>\n  </tbody>\n</table>\n<p>2 rows × 1919 columns</p>\n</div>"
     },
     "metadata": {},
     "execution_count": 9
    }
   ],
   "source": [
    "train_df.head(2)"
   ]
  },
  {
   "cell_type": "code",
   "execution_count": 10,
   "metadata": {},
   "outputs": [
    {
     "output_type": "execute_result",
     "data": {
      "text/plain": "                              id  F1  F2  F3  F4  F5  F6  F7  F8  F9  ...  \\\n0  HOBBIES_1_001_CA_1_validation   0   0   0   0   0   0   0   0   0  ...   \n1  HOBBIES_1_002_CA_1_validation   0   0   0   0   0   0   0   0   0  ...   \n\n   F19  F20  F21  F22  F23  F24  F25  F26  F27  F28  \n0    0    0    0    0    0    0    0    0    0    0  \n1    0    0    0    0    0    0    0    0    0    0  \n\n[2 rows x 29 columns]",
      "text/html": "<div>\n<style scoped>\n    .dataframe tbody tr th:only-of-type {\n        vertical-align: middle;\n    }\n\n    .dataframe tbody tr th {\n        vertical-align: top;\n    }\n\n    .dataframe thead th {\n        text-align: right;\n    }\n</style>\n<table border=\"1\" class=\"dataframe\">\n  <thead>\n    <tr style=\"text-align: right;\">\n      <th></th>\n      <th>id</th>\n      <th>F1</th>\n      <th>F2</th>\n      <th>F3</th>\n      <th>F4</th>\n      <th>F5</th>\n      <th>F6</th>\n      <th>F7</th>\n      <th>F8</th>\n      <th>F9</th>\n      <th>...</th>\n      <th>F19</th>\n      <th>F20</th>\n      <th>F21</th>\n      <th>F22</th>\n      <th>F23</th>\n      <th>F24</th>\n      <th>F25</th>\n      <th>F26</th>\n      <th>F27</th>\n      <th>F28</th>\n    </tr>\n  </thead>\n  <tbody>\n    <tr>\n      <th>0</th>\n      <td>HOBBIES_1_001_CA_1_validation</td>\n      <td>0</td>\n      <td>0</td>\n      <td>0</td>\n      <td>0</td>\n      <td>0</td>\n      <td>0</td>\n      <td>0</td>\n      <td>0</td>\n      <td>0</td>\n      <td>...</td>\n      <td>0</td>\n      <td>0</td>\n      <td>0</td>\n      <td>0</td>\n      <td>0</td>\n      <td>0</td>\n      <td>0</td>\n      <td>0</td>\n      <td>0</td>\n      <td>0</td>\n    </tr>\n    <tr>\n      <th>1</th>\n      <td>HOBBIES_1_002_CA_1_validation</td>\n      <td>0</td>\n      <td>0</td>\n      <td>0</td>\n      <td>0</td>\n      <td>0</td>\n      <td>0</td>\n      <td>0</td>\n      <td>0</td>\n      <td>0</td>\n      <td>...</td>\n      <td>0</td>\n      <td>0</td>\n      <td>0</td>\n      <td>0</td>\n      <td>0</td>\n      <td>0</td>\n      <td>0</td>\n      <td>0</td>\n      <td>0</td>\n      <td>0</td>\n    </tr>\n  </tbody>\n</table>\n<p>2 rows × 29 columns</p>\n</div>"
     },
     "metadata": {},
     "execution_count": 10
    }
   ],
   "source": [
    "submission_df.head(2)"
   ]
  },
  {
   "cell_type": "code",
   "execution_count": 11,
   "metadata": {},
   "outputs": [],
   "source": [
    "def melt_and_merge(calendar_df, sell_prices_df, train_df, submission_df):\n",
    "\n",
    "    # trainは直近１年間のデータのみ使用\n",
    "    day_per_year = 365\n",
    "    train_end_day = 1913\n",
    "    drop_columns = [f\"d_{d}\" for d in range(1, (train_end_day - day_per_year) + 1)]\n",
    "    train_df.drop(drop_columns, inplace = True, axis=1)\n",
    "    print(\"\\ntrainは直近１年間のデータのみ使用\")\n",
    "    print('Sales train validation(remain only one year): ' + str(train_df.shape))\n",
    "\n",
    "    # 商品情報を抽出\n",
    "    product_df = train_df.loc[:, \"id\":\"state_id\"]\n",
    "\n",
    "    # 列方向に連なっていたのを変形し行方向に連ねるように整理\n",
    "    train_df = pd.melt(train_df, id_vars=['id', 'item_id', 'dept_id', 'cat_id', 'store_id', 'state_id'],\n",
    "                       var_name='day', value_name='demand')\n",
    "\n",
    "    train_day = train_df[\"day\"].unique()\n",
    "    print(\"train_data: {0} ~ {1} -> {2}\".format(train_day[0], train_day[-1], len(train_day)))\n",
    "\n",
    "    # seperate test dataframes\n",
    "    stage1_eval_df = submission_df[submission_df[\"id\"].str.contains(\"validation\")]\n",
    "    stage2_eval_df = submission_df[submission_df[\"id\"].str.contains(\"evaluation\")]\n",
    "\n",
    "    # change column names\n",
    "    stage1_eval_df.columns = [\"id\"] + [f\"d_{d}\" for d in range(1914, 1942)]  # F1 ~ F28 => d_1914 ~ d_1941\n",
    "    stage2_eval_df.columns = [\"id\"] + [f\"d_{d}\" for d in range(1942, 1970)]  # F1 ~ F28 => d_1942 ~ d_1969\n",
    "\n",
    "    # melt, mergeを使ってsubmission用のdataframeを上のsales_train_validationと同様の形式に変形\n",
    "    stage1_eval_df = stage1_eval_df.merge(product_df, how='left', on='id')\n",
    "    stage1_eval_df = pd.melt(stage1_eval_df, id_vars=['id', 'item_id', 'dept_id', 'cat_id', 'store_id', 'state_id'],\n",
    "                             var_name='day', value_name='demand')\n",
    "    stage1_day = stage1_eval_df[\"day\"].unique()\n",
    "    print(\"[STAGE1] eval_data: {0} ~ {1} -> {2}\".format(stage1_day[0], stage1_day[-1], len(stage1_day)))\n",
    "\n",
    "    # train_df, stage1_eval_dfと同様にstage2_eval_dfとproduct_dfをmergeさせたい\n",
    "    # しかしidが_evaluationのままだとデータが一致せずmergeできないので一時的に_validationにidを変更\n",
    "    stage2_eval_df['id'] = stage2_eval_df.loc[:, 'id'].str.replace('_evaluation', '_validation')\n",
    "    stage2_eval_df = stage2_eval_df.merge(product_df, how='left', on='id')\n",
    "    stage2_eval_df['id'] = stage2_eval_df.loc[:, 'id'].str.replace('_validation', '_evaluation')\n",
    "    stage2_eval_df = pd.melt(stage2_eval_df, id_vars=['id', 'item_id', 'dept_id', 'cat_id', 'store_id', 'state_id'],\n",
    "                             var_name='day', value_name='demand')\n",
    "    stage2_day = stage2_eval_df[\"day\"].unique()\n",
    "    print(\"[STAGE2] eval_data: {0} ~ {1} -> {2}\".format(stage2_day[0], stage2_day[-1], len(stage2_day)))\n",
    "\n",
    "    train_df['part'] = 'train'\n",
    "    stage1_eval_df['part'] = 'stage1'\n",
    "    stage2_eval_df['part'] = 'stage2'\n",
    "\n",
    "    data_df = pd.concat([train_df, stage1_eval_df, stage2_eval_df], axis=0)\n",
    "    data_df = reduce_mem_usage(data_df)\n",
    "    # print(\"\\n[INFO] data_df(after merge valid & eval) ->\")\n",
    "    # data_df.head()\n",
    "\n",
    "    # 不要なdataframeの削除\n",
    "    del train_df, stage1_eval_df, stage2_eval_df, product_df\n",
    "\n",
    "    # drop some calendar features\n",
    "    calendar_df.drop(['weekday', 'wday', 'month', 'year'], inplace=True, axis=1)\n",
    "\n",
    "    # delete stage2_eval_df for now\n",
    "    data_df = data_df[data_df['part'] != 'stage2']\n",
    "    print(\"[CHECK] Remove the stage2 eval data\")\n",
    "\n",
    "    # notebook crash with the entire dataset (maybee use tensorflow, dask, pyspark xD)\n",
    "    data_df = pd.merge(data_df, calendar_df, how='left', left_on=['day'], right_on=['d'])\n",
    "    data_df.drop('d', inplace=True, axis=1)\n",
    "\n",
    "    # get the sell price data (this feature should be very important)\n",
    "    data_df = data_df.merge(sell_prices_df, on=['store_id', 'item_id', 'wm_yr_wk'], how='left')\n",
    "    # print(\"\\n[INFO] data_df(after merge calendar & prices) ->\")\n",
    "    # print(data_df.head(5))\n",
    "    # print(data_df.columns)\n",
    "\n",
    "    return data_df"
   ]
  },
  {
   "cell_type": "code",
   "execution_count": 12,
   "metadata": {},
   "outputs": [
    {
     "output_type": "stream",
     "name": "stdout",
     "text": "\ntrainは直近１年間のデータのみ使用\nSales train validation(remain only one year): (30490, 371)\ntrain_data: d_1549 ~ d_1913 -> 365\n[STAGE1] eval_data: d_1914 ~ d_1941 -> 28\n[STAGE2] eval_data: d_1942 ~ d_1969 -> 28\nMem. usage decreased to 905.88 Mb (7.5% reduction)\n[CHECK] Remove the stage2 eval data\n"
    }
   ],
   "source": [
    "data_df = melt_and_merge(calendar_df, sell_prices_df, train_df, submission_df)"
   ]
  },
  {
   "cell_type": "code",
   "execution_count": 13,
   "metadata": {},
   "outputs": [
    {
     "output_type": "execute_result",
     "data": {
      "text/plain": "                              id        item_id    dept_id   cat_id store_id  \\\n0  HOBBIES_1_001_CA_1_validation  HOBBIES_1_001  HOBBIES_1  HOBBIES     CA_1   \n1  HOBBIES_1_002_CA_1_validation  HOBBIES_1_002  HOBBIES_1  HOBBIES     CA_1   \n2  HOBBIES_1_003_CA_1_validation  HOBBIES_1_003  HOBBIES_1  HOBBIES     CA_1   \n3  HOBBIES_1_004_CA_1_validation  HOBBIES_1_004  HOBBIES_1  HOBBIES     CA_1   \n4  HOBBIES_1_005_CA_1_validation  HOBBIES_1_005  HOBBIES_1  HOBBIES     CA_1   \n\n  state_id     day  demand   part        date  wm_yr_wk event_name_1  \\\n0       CA  d_1549       0  train  2015-04-26     11513          NaN   \n1       CA  d_1549       0  train  2015-04-26     11513          NaN   \n2       CA  d_1549       0  train  2015-04-26     11513          NaN   \n3       CA  d_1549       3  train  2015-04-26     11513          NaN   \n4       CA  d_1549       0  train  2015-04-26     11513          NaN   \n\n  event_type_1 event_name_2 event_type_2  snap_CA  snap_TX  snap_WI  \\\n0          NaN          NaN          NaN        0        0        0   \n1          NaN          NaN          NaN        0        0        0   \n2          NaN          NaN          NaN        0        0        0   \n3          NaN          NaN          NaN        0        0        0   \n4          NaN          NaN          NaN        0        0        0   \n\n   sell_price  \n0    8.257812  \n1    3.970703  \n2    2.970703  \n3    4.640625  \n4    2.880859  ",
      "text/html": "<div>\n<style scoped>\n    .dataframe tbody tr th:only-of-type {\n        vertical-align: middle;\n    }\n\n    .dataframe tbody tr th {\n        vertical-align: top;\n    }\n\n    .dataframe thead th {\n        text-align: right;\n    }\n</style>\n<table border=\"1\" class=\"dataframe\">\n  <thead>\n    <tr style=\"text-align: right;\">\n      <th></th>\n      <th>id</th>\n      <th>item_id</th>\n      <th>dept_id</th>\n      <th>cat_id</th>\n      <th>store_id</th>\n      <th>state_id</th>\n      <th>day</th>\n      <th>demand</th>\n      <th>part</th>\n      <th>date</th>\n      <th>wm_yr_wk</th>\n      <th>event_name_1</th>\n      <th>event_type_1</th>\n      <th>event_name_2</th>\n      <th>event_type_2</th>\n      <th>snap_CA</th>\n      <th>snap_TX</th>\n      <th>snap_WI</th>\n      <th>sell_price</th>\n    </tr>\n  </thead>\n  <tbody>\n    <tr>\n      <th>0</th>\n      <td>HOBBIES_1_001_CA_1_validation</td>\n      <td>HOBBIES_1_001</td>\n      <td>HOBBIES_1</td>\n      <td>HOBBIES</td>\n      <td>CA_1</td>\n      <td>CA</td>\n      <td>d_1549</td>\n      <td>0</td>\n      <td>train</td>\n      <td>2015-04-26</td>\n      <td>11513</td>\n      <td>NaN</td>\n      <td>NaN</td>\n      <td>NaN</td>\n      <td>NaN</td>\n      <td>0</td>\n      <td>0</td>\n      <td>0</td>\n      <td>8.257812</td>\n    </tr>\n    <tr>\n      <th>1</th>\n      <td>HOBBIES_1_002_CA_1_validation</td>\n      <td>HOBBIES_1_002</td>\n      <td>HOBBIES_1</td>\n      <td>HOBBIES</td>\n      <td>CA_1</td>\n      <td>CA</td>\n      <td>d_1549</td>\n      <td>0</td>\n      <td>train</td>\n      <td>2015-04-26</td>\n      <td>11513</td>\n      <td>NaN</td>\n      <td>NaN</td>\n      <td>NaN</td>\n      <td>NaN</td>\n      <td>0</td>\n      <td>0</td>\n      <td>0</td>\n      <td>3.970703</td>\n    </tr>\n    <tr>\n      <th>2</th>\n      <td>HOBBIES_1_003_CA_1_validation</td>\n      <td>HOBBIES_1_003</td>\n      <td>HOBBIES_1</td>\n      <td>HOBBIES</td>\n      <td>CA_1</td>\n      <td>CA</td>\n      <td>d_1549</td>\n      <td>0</td>\n      <td>train</td>\n      <td>2015-04-26</td>\n      <td>11513</td>\n      <td>NaN</td>\n      <td>NaN</td>\n      <td>NaN</td>\n      <td>NaN</td>\n      <td>0</td>\n      <td>0</td>\n      <td>0</td>\n      <td>2.970703</td>\n    </tr>\n    <tr>\n      <th>3</th>\n      <td>HOBBIES_1_004_CA_1_validation</td>\n      <td>HOBBIES_1_004</td>\n      <td>HOBBIES_1</td>\n      <td>HOBBIES</td>\n      <td>CA_1</td>\n      <td>CA</td>\n      <td>d_1549</td>\n      <td>3</td>\n      <td>train</td>\n      <td>2015-04-26</td>\n      <td>11513</td>\n      <td>NaN</td>\n      <td>NaN</td>\n      <td>NaN</td>\n      <td>NaN</td>\n      <td>0</td>\n      <td>0</td>\n      <td>0</td>\n      <td>4.640625</td>\n    </tr>\n    <tr>\n      <th>4</th>\n      <td>HOBBIES_1_005_CA_1_validation</td>\n      <td>HOBBIES_1_005</td>\n      <td>HOBBIES_1</td>\n      <td>HOBBIES</td>\n      <td>CA_1</td>\n      <td>CA</td>\n      <td>d_1549</td>\n      <td>0</td>\n      <td>train</td>\n      <td>2015-04-26</td>\n      <td>11513</td>\n      <td>NaN</td>\n      <td>NaN</td>\n      <td>NaN</td>\n      <td>NaN</td>\n      <td>0</td>\n      <td>0</td>\n      <td>0</td>\n      <td>2.880859</td>\n    </tr>\n  </tbody>\n</table>\n</div>"
     },
     "metadata": {},
     "execution_count": 13
    }
   ],
   "source": [
    "data_df.head()"
   ]
  },
  {
   "cell_type": "code",
   "execution_count": 14,
   "metadata": {},
   "outputs": [],
   "source": [
    "# label encoding\n",
    "def encode_categorical(data_df):\n",
    "    nan_features = ['event_name_1', 'event_type_1',\n",
    "                    'event_name_2', 'event_type_2']\n",
    "    for feature in nan_features:\n",
    "        # label encodingのためnanを文字列に変換\n",
    "        data_df[feature].fillna('unknown', inplace=True)\n",
    "\n",
    "    cat = ['item_id', 'dept_id', 'cat_id', 'store_id', 'state_id',\n",
    "           'event_name_1', 'event_type_1', 'event_name_2', 'event_type_2']\n",
    "    for feature in cat:\n",
    "        encoder = preprocessing.LabelEncoder()\n",
    "        data_df[feature] = encoder.fit_transform(data_df[feature])\n",
    "\n",
    "    return data_df"
   ]
  },
  {
   "cell_type": "code",
   "execution_count": 15,
   "metadata": {},
   "outputs": [],
   "source": [
    "data_df = encode_categorical(data_df)"
   ]
  },
  {
   "cell_type": "code",
   "execution_count": 16,
   "metadata": {},
   "outputs": [
    {
     "output_type": "execute_result",
     "data": {
      "text/plain": "                              id  item_id  dept_id  cat_id  store_id  \\\n0  HOBBIES_1_001_CA_1_validation     1437        3       1         0   \n1  HOBBIES_1_002_CA_1_validation     1438        3       1         0   \n2  HOBBIES_1_003_CA_1_validation     1439        3       1         0   \n3  HOBBIES_1_004_CA_1_validation     1440        3       1         0   \n4  HOBBIES_1_005_CA_1_validation     1441        3       1         0   \n\n   state_id     day  demand   part        date  wm_yr_wk  event_name_1  \\\n0         0  d_1549       0  train  2015-04-26     11513            30   \n1         0  d_1549       0  train  2015-04-26     11513            30   \n2         0  d_1549       0  train  2015-04-26     11513            30   \n3         0  d_1549       3  train  2015-04-26     11513            30   \n4         0  d_1549       0  train  2015-04-26     11513            30   \n\n   event_type_1  event_name_2  event_type_2  snap_CA  snap_TX  snap_WI  \\\n0             4             0             0        0        0        0   \n1             4             0             0        0        0        0   \n2             4             0             0        0        0        0   \n3             4             0             0        0        0        0   \n4             4             0             0        0        0        0   \n\n   sell_price  \n0    8.257812  \n1    3.970703  \n2    2.970703  \n3    4.640625  \n4    2.880859  ",
      "text/html": "<div>\n<style scoped>\n    .dataframe tbody tr th:only-of-type {\n        vertical-align: middle;\n    }\n\n    .dataframe tbody tr th {\n        vertical-align: top;\n    }\n\n    .dataframe thead th {\n        text-align: right;\n    }\n</style>\n<table border=\"1\" class=\"dataframe\">\n  <thead>\n    <tr style=\"text-align: right;\">\n      <th></th>\n      <th>id</th>\n      <th>item_id</th>\n      <th>dept_id</th>\n      <th>cat_id</th>\n      <th>store_id</th>\n      <th>state_id</th>\n      <th>day</th>\n      <th>demand</th>\n      <th>part</th>\n      <th>date</th>\n      <th>wm_yr_wk</th>\n      <th>event_name_1</th>\n      <th>event_type_1</th>\n      <th>event_name_2</th>\n      <th>event_type_2</th>\n      <th>snap_CA</th>\n      <th>snap_TX</th>\n      <th>snap_WI</th>\n      <th>sell_price</th>\n    </tr>\n  </thead>\n  <tbody>\n    <tr>\n      <th>0</th>\n      <td>HOBBIES_1_001_CA_1_validation</td>\n      <td>1437</td>\n      <td>3</td>\n      <td>1</td>\n      <td>0</td>\n      <td>0</td>\n      <td>d_1549</td>\n      <td>0</td>\n      <td>train</td>\n      <td>2015-04-26</td>\n      <td>11513</td>\n      <td>30</td>\n      <td>4</td>\n      <td>0</td>\n      <td>0</td>\n      <td>0</td>\n      <td>0</td>\n      <td>0</td>\n      <td>8.257812</td>\n    </tr>\n    <tr>\n      <th>1</th>\n      <td>HOBBIES_1_002_CA_1_validation</td>\n      <td>1438</td>\n      <td>3</td>\n      <td>1</td>\n      <td>0</td>\n      <td>0</td>\n      <td>d_1549</td>\n      <td>0</td>\n      <td>train</td>\n      <td>2015-04-26</td>\n      <td>11513</td>\n      <td>30</td>\n      <td>4</td>\n      <td>0</td>\n      <td>0</td>\n      <td>0</td>\n      <td>0</td>\n      <td>0</td>\n      <td>3.970703</td>\n    </tr>\n    <tr>\n      <th>2</th>\n      <td>HOBBIES_1_003_CA_1_validation</td>\n      <td>1439</td>\n      <td>3</td>\n      <td>1</td>\n      <td>0</td>\n      <td>0</td>\n      <td>d_1549</td>\n      <td>0</td>\n      <td>train</td>\n      <td>2015-04-26</td>\n      <td>11513</td>\n      <td>30</td>\n      <td>4</td>\n      <td>0</td>\n      <td>0</td>\n      <td>0</td>\n      <td>0</td>\n      <td>0</td>\n      <td>2.970703</td>\n    </tr>\n    <tr>\n      <th>3</th>\n      <td>HOBBIES_1_004_CA_1_validation</td>\n      <td>1440</td>\n      <td>3</td>\n      <td>1</td>\n      <td>0</td>\n      <td>0</td>\n      <td>d_1549</td>\n      <td>3</td>\n      <td>train</td>\n      <td>2015-04-26</td>\n      <td>11513</td>\n      <td>30</td>\n      <td>4</td>\n      <td>0</td>\n      <td>0</td>\n      <td>0</td>\n      <td>0</td>\n      <td>0</td>\n      <td>4.640625</td>\n    </tr>\n    <tr>\n      <th>4</th>\n      <td>HOBBIES_1_005_CA_1_validation</td>\n      <td>1441</td>\n      <td>3</td>\n      <td>1</td>\n      <td>0</td>\n      <td>0</td>\n      <td>d_1549</td>\n      <td>0</td>\n      <td>train</td>\n      <td>2015-04-26</td>\n      <td>11513</td>\n      <td>30</td>\n      <td>4</td>\n      <td>0</td>\n      <td>0</td>\n      <td>0</td>\n      <td>0</td>\n      <td>0</td>\n      <td>2.880859</td>\n    </tr>\n  </tbody>\n</table>\n</div>"
     },
     "metadata": {},
     "execution_count": 16
    }
   ],
   "source": [
    "data_df.head()"
   ]
  },
  {
   "cell_type": "code",
   "execution_count": 19,
   "metadata": {},
   "outputs": [],
   "source": [
    "# 特徴量エンジニアリング\n",
    "def feature_engineering(data_df):\n",
    "    \"\"\"\n",
    "    1日後のリード特徴量\n",
    "    1日前のラグ特徴量\n",
    "    \"\"\"\n",
    "\n",
    "    print(\"\\n[START] feature engineering ->\")\n",
    "\n",
    "    # ラグ特徴量\n",
    "    data_df['lag7'] = data_df.groupby(['id'])['demand'].transform(lambda x: x.shift(7))\n",
    "    data_df['lag28'] = data_df.groupby(['id'])['demand'].transform(lambda x: x.shift(28))\n",
    "\n",
    "    data_df['rmean_lag7_7'] = data_df.groupby(['id'])['lag7'].transform(lambda x: x.shift(7).rolling(7).mean())\n",
    "    data_df['rmean_lag7_28'] = data_df.groupby(['id'])['lag7'].transform(lambda x: x.shift(7).rolling(28).mean())\n",
    "    data_df['rmean_lag28_7'] = data_df.groupby(['id'])['lag28'].transform(lambda x: x.shift(28).rolling(7).mean())\n",
    "    data_df['rmean_lag28_28'] = data_df.groupby(['id'])['lag28'].transform(lambda x: x.shift(28).rolling(28).mean())\n",
    "\n",
    "    # price features\n",
    "    data_df['sell_price_lag1'] = data_df.groupby(['id'])['sell_price'].transform(lambda x: x.shift(1))\n",
    "    data_df['sell_price_lag7'] = data_df.groupby(['id'])['sell_price'].transform(lambda x: x.shift(7))\n",
    "    data_df['sell_price_lag28'] = data_df.groupby(['id'])['sell_price'].transform(lambda x: x.shift(28))\n",
    "    mean_sell_price_df = data_df.groupby('id').mean()\n",
    "    mean_sell_price_df.rename(columns={\"sell_price\": \"mean_sell_price\"}, inplace=True)\n",
    "    data_df = data_df.merge(mean_sell_price_df[\"mean_sell_price\"], on=\"id\")\n",
    "    data_df[\"diff_sell_price\"] = data_df[\"sell_price\"] - data_df[\"mean_sell_price\"]\n",
    "    data_df[\"div_sell_price\"] = data_df[\"sell_price\"] / data_df[\"mean_sell_price\"]\n",
    "\n",
    "    # time features\n",
    "    data_df['date'] = pd.to_datetime(data_df['date'])\n",
    "    data_df['year'] = data_df['date'].dt.year.astype(np.int16)\n",
    "    data_df['quarter'] = data_df['date'].dt.quarter.astype(np.int8)\n",
    "    data_df['month'] = data_df['date'].dt.month.astype(np.int8)\n",
    "    data_df['week'] = data_df['date'].dt.week.astype(np.int8)\n",
    "    data_df['mday'] = data_df['date'].dt.day.astype(np.int8)\n",
    "    data_df['wday'] = data_df['date'].dt.dayofweek.astype(np.int8)\n",
    "    # data_df['is_year_end'] = data_df['date'].dt.is_year_end.astype(np.int8)\n",
    "    # data_df['is_year_start'] = data_df['date'].dt.is_year_start.astype.astype(np.int8)\n",
    "    # data_df['is_quarter_end'] = data_df['date'].dt.is_quarter_end.astype(np.int8)\n",
    "    # data_df['is_quarter_start'] = data_df['date'].is_quarter_start.astype(np.int8)\n",
    "    # data_df['is_month_end'] = data_df['date'].dt.is_month_end.astype(np.int8)\n",
    "    # data_df['is_month_start'] = data_df['date'].dt.is_month_start.astype(np.int8)\n",
    "    # data_df[\"is_weekend\"] = data_df[\"dayofweek\"].isin([5, 6]).astype(np.int8)\n",
    "\n",
    "    # black friday\n",
    "    black_friday = [\"2011-11-25\", \"2012-11-23\", \"2013-11-29\", \"2014-11-28\", \"2015-11-27\"]\n",
    "    data_df[\"black_friday\"] = data_df[\"date\"].isin(black_friday) * 1\n",
    "\n",
    "    print(\"[FINISH] feature engineering\")\n",
    "\n",
    "    return data_df"
   ]
  },
  {
   "cell_type": "code",
   "execution_count": 20,
   "metadata": {},
   "outputs": [
    {
     "output_type": "stream",
     "name": "stdout",
     "text": "\n[START] feature engineering ->\n[FINISH] feature engineering\n"
    }
   ],
   "source": [
    "data_df = feature_engineering(data_df)"
   ]
  },
  {
   "cell_type": "code",
   "execution_count": 21,
   "metadata": {},
   "outputs": [
    {
     "output_type": "execute_result",
     "data": {
      "text/plain": "                              id  item_id  dept_id  cat_id  store_id  \\\n0  HOBBIES_1_001_CA_1_validation     1437        3       1         0   \n1  HOBBIES_1_001_CA_1_validation     1437        3       1         0   \n2  HOBBIES_1_001_CA_1_validation     1437        3       1         0   \n3  HOBBIES_1_001_CA_1_validation     1437        3       1         0   \n4  HOBBIES_1_001_CA_1_validation     1437        3       1         0   \n\n   state_id     day  demand   part       date  ...  mean_sell_price  \\\n0         0  d_1549       0  train 2015-04-26  ...         8.273438   \n1         0  d_1550       1  train 2015-04-27  ...         8.273438   \n2         0  d_1551       0  train 2015-04-28  ...         8.273438   \n3         0  d_1552       0  train 2015-04-29  ...         8.273438   \n4         0  d_1553       0  train 2015-04-30  ...         8.273438   \n\n   diff_sell_price  div_sell_price  year  quarter  month  week  mday  wday  \\\n0        -0.015625        0.998047  2015        2      4    17    26     6   \n1        -0.015625        0.998047  2015        2      4    18    27     0   \n2        -0.015625        0.998047  2015        2      4    18    28     1   \n3        -0.015625        0.998047  2015        2      4    18    29     2   \n4        -0.015625        0.998047  2015        2      4    18    30     3   \n\n   black_friday  \n0             0  \n1             0  \n2             0  \n3             0  \n4             0  \n\n[5 rows x 38 columns]",
      "text/html": "<div>\n<style scoped>\n    .dataframe tbody tr th:only-of-type {\n        vertical-align: middle;\n    }\n\n    .dataframe tbody tr th {\n        vertical-align: top;\n    }\n\n    .dataframe thead th {\n        text-align: right;\n    }\n</style>\n<table border=\"1\" class=\"dataframe\">\n  <thead>\n    <tr style=\"text-align: right;\">\n      <th></th>\n      <th>id</th>\n      <th>item_id</th>\n      <th>dept_id</th>\n      <th>cat_id</th>\n      <th>store_id</th>\n      <th>state_id</th>\n      <th>day</th>\n      <th>demand</th>\n      <th>part</th>\n      <th>date</th>\n      <th>...</th>\n      <th>mean_sell_price</th>\n      <th>diff_sell_price</th>\n      <th>div_sell_price</th>\n      <th>year</th>\n      <th>quarter</th>\n      <th>month</th>\n      <th>week</th>\n      <th>mday</th>\n      <th>wday</th>\n      <th>black_friday</th>\n    </tr>\n  </thead>\n  <tbody>\n    <tr>\n      <th>0</th>\n      <td>HOBBIES_1_001_CA_1_validation</td>\n      <td>1437</td>\n      <td>3</td>\n      <td>1</td>\n      <td>0</td>\n      <td>0</td>\n      <td>d_1549</td>\n      <td>0</td>\n      <td>train</td>\n      <td>2015-04-26</td>\n      <td>...</td>\n      <td>8.273438</td>\n      <td>-0.015625</td>\n      <td>0.998047</td>\n      <td>2015</td>\n      <td>2</td>\n      <td>4</td>\n      <td>17</td>\n      <td>26</td>\n      <td>6</td>\n      <td>0</td>\n    </tr>\n    <tr>\n      <th>1</th>\n      <td>HOBBIES_1_001_CA_1_validation</td>\n      <td>1437</td>\n      <td>3</td>\n      <td>1</td>\n      <td>0</td>\n      <td>0</td>\n      <td>d_1550</td>\n      <td>1</td>\n      <td>train</td>\n      <td>2015-04-27</td>\n      <td>...</td>\n      <td>8.273438</td>\n      <td>-0.015625</td>\n      <td>0.998047</td>\n      <td>2015</td>\n      <td>2</td>\n      <td>4</td>\n      <td>18</td>\n      <td>27</td>\n      <td>0</td>\n      <td>0</td>\n    </tr>\n    <tr>\n      <th>2</th>\n      <td>HOBBIES_1_001_CA_1_validation</td>\n      <td>1437</td>\n      <td>3</td>\n      <td>1</td>\n      <td>0</td>\n      <td>0</td>\n      <td>d_1551</td>\n      <td>0</td>\n      <td>train</td>\n      <td>2015-04-28</td>\n      <td>...</td>\n      <td>8.273438</td>\n      <td>-0.015625</td>\n      <td>0.998047</td>\n      <td>2015</td>\n      <td>2</td>\n      <td>4</td>\n      <td>18</td>\n      <td>28</td>\n      <td>1</td>\n      <td>0</td>\n    </tr>\n    <tr>\n      <th>3</th>\n      <td>HOBBIES_1_001_CA_1_validation</td>\n      <td>1437</td>\n      <td>3</td>\n      <td>1</td>\n      <td>0</td>\n      <td>0</td>\n      <td>d_1552</td>\n      <td>0</td>\n      <td>train</td>\n      <td>2015-04-29</td>\n      <td>...</td>\n      <td>8.273438</td>\n      <td>-0.015625</td>\n      <td>0.998047</td>\n      <td>2015</td>\n      <td>2</td>\n      <td>4</td>\n      <td>18</td>\n      <td>29</td>\n      <td>2</td>\n      <td>0</td>\n    </tr>\n    <tr>\n      <th>4</th>\n      <td>HOBBIES_1_001_CA_1_validation</td>\n      <td>1437</td>\n      <td>3</td>\n      <td>1</td>\n      <td>0</td>\n      <td>0</td>\n      <td>d_1553</td>\n      <td>0</td>\n      <td>train</td>\n      <td>2015-04-30</td>\n      <td>...</td>\n      <td>8.273438</td>\n      <td>-0.015625</td>\n      <td>0.998047</td>\n      <td>2015</td>\n      <td>2</td>\n      <td>4</td>\n      <td>18</td>\n      <td>30</td>\n      <td>3</td>\n      <td>0</td>\n    </tr>\n  </tbody>\n</table>\n<p>5 rows × 38 columns</p>\n</div>"
     },
     "metadata": {},
     "execution_count": 21
    }
   ],
   "source": [
    "data_df.head()"
   ]
  },
  {
   "cell_type": "code",
   "execution_count": 31,
   "metadata": {},
   "outputs": [
    {
     "output_type": "execute_result",
     "data": {
      "text/plain": "                                   id  item_id  dept_id  cat_id  store_id  \\\n11982565  FOODS_3_827_WI_3_validation     1436        2       0         9   \n11982566  FOODS_3_827_WI_3_validation     1436        2       0         9   \n11982567  FOODS_3_827_WI_3_validation     1436        2       0         9   \n11982568  FOODS_3_827_WI_3_validation     1436        2       0         9   \n11982569  FOODS_3_827_WI_3_validation     1436        2       0         9   \n\n          state_id     day  demand    part       date  ...  mean_sell_price  \\\n11982565         2  d_1937       0  stage1 2016-05-18  ...              1.0   \n11982566         2  d_1938       0  stage1 2016-05-19  ...              1.0   \n11982567         2  d_1939       0  stage1 2016-05-20  ...              1.0   \n11982568         2  d_1940       0  stage1 2016-05-21  ...              1.0   \n11982569         2  d_1941       0  stage1 2016-05-22  ...              1.0   \n\n          diff_sell_price  div_sell_price  year  quarter  month  week  mday  \\\n11982565              0.0             1.0  2016        2      5    20    18   \n11982566              0.0             1.0  2016        2      5    20    19   \n11982567              0.0             1.0  2016        2      5    20    20   \n11982568              0.0             1.0  2016        2      5    20    21   \n11982569              0.0             1.0  2016        2      5    20    22   \n\n          wday  black_friday  \n11982565     2             0  \n11982566     3             0  \n11982567     4             0  \n11982568     5             0  \n11982569     6             0  \n\n[5 rows x 38 columns]",
      "text/html": "<div>\n<style scoped>\n    .dataframe tbody tr th:only-of-type {\n        vertical-align: middle;\n    }\n\n    .dataframe tbody tr th {\n        vertical-align: top;\n    }\n\n    .dataframe thead th {\n        text-align: right;\n    }\n</style>\n<table border=\"1\" class=\"dataframe\">\n  <thead>\n    <tr style=\"text-align: right;\">\n      <th></th>\n      <th>id</th>\n      <th>item_id</th>\n      <th>dept_id</th>\n      <th>cat_id</th>\n      <th>store_id</th>\n      <th>state_id</th>\n      <th>day</th>\n      <th>demand</th>\n      <th>part</th>\n      <th>date</th>\n      <th>...</th>\n      <th>mean_sell_price</th>\n      <th>diff_sell_price</th>\n      <th>div_sell_price</th>\n      <th>year</th>\n      <th>quarter</th>\n      <th>month</th>\n      <th>week</th>\n      <th>mday</th>\n      <th>wday</th>\n      <th>black_friday</th>\n    </tr>\n  </thead>\n  <tbody>\n    <tr>\n      <th>11982565</th>\n      <td>FOODS_3_827_WI_3_validation</td>\n      <td>1436</td>\n      <td>2</td>\n      <td>0</td>\n      <td>9</td>\n      <td>2</td>\n      <td>d_1937</td>\n      <td>0</td>\n      <td>stage1</td>\n      <td>2016-05-18</td>\n      <td>...</td>\n      <td>1.0</td>\n      <td>0.0</td>\n      <td>1.0</td>\n      <td>2016</td>\n      <td>2</td>\n      <td>5</td>\n      <td>20</td>\n      <td>18</td>\n      <td>2</td>\n      <td>0</td>\n    </tr>\n    <tr>\n      <th>11982566</th>\n      <td>FOODS_3_827_WI_3_validation</td>\n      <td>1436</td>\n      <td>2</td>\n      <td>0</td>\n      <td>9</td>\n      <td>2</td>\n      <td>d_1938</td>\n      <td>0</td>\n      <td>stage1</td>\n      <td>2016-05-19</td>\n      <td>...</td>\n      <td>1.0</td>\n      <td>0.0</td>\n      <td>1.0</td>\n      <td>2016</td>\n      <td>2</td>\n      <td>5</td>\n      <td>20</td>\n      <td>19</td>\n      <td>3</td>\n      <td>0</td>\n    </tr>\n    <tr>\n      <th>11982567</th>\n      <td>FOODS_3_827_WI_3_validation</td>\n      <td>1436</td>\n      <td>2</td>\n      <td>0</td>\n      <td>9</td>\n      <td>2</td>\n      <td>d_1939</td>\n      <td>0</td>\n      <td>stage1</td>\n      <td>2016-05-20</td>\n      <td>...</td>\n      <td>1.0</td>\n      <td>0.0</td>\n      <td>1.0</td>\n      <td>2016</td>\n      <td>2</td>\n      <td>5</td>\n      <td>20</td>\n      <td>20</td>\n      <td>4</td>\n      <td>0</td>\n    </tr>\n    <tr>\n      <th>11982568</th>\n      <td>FOODS_3_827_WI_3_validation</td>\n      <td>1436</td>\n      <td>2</td>\n      <td>0</td>\n      <td>9</td>\n      <td>2</td>\n      <td>d_1940</td>\n      <td>0</td>\n      <td>stage1</td>\n      <td>2016-05-21</td>\n      <td>...</td>\n      <td>1.0</td>\n      <td>0.0</td>\n      <td>1.0</td>\n      <td>2016</td>\n      <td>2</td>\n      <td>5</td>\n      <td>20</td>\n      <td>21</td>\n      <td>5</td>\n      <td>0</td>\n    </tr>\n    <tr>\n      <th>11982569</th>\n      <td>FOODS_3_827_WI_3_validation</td>\n      <td>1436</td>\n      <td>2</td>\n      <td>0</td>\n      <td>9</td>\n      <td>2</td>\n      <td>d_1941</td>\n      <td>0</td>\n      <td>stage1</td>\n      <td>2016-05-22</td>\n      <td>...</td>\n      <td>1.0</td>\n      <td>0.0</td>\n      <td>1.0</td>\n      <td>2016</td>\n      <td>2</td>\n      <td>5</td>\n      <td>20</td>\n      <td>22</td>\n      <td>6</td>\n      <td>0</td>\n    </tr>\n  </tbody>\n</table>\n<p>5 rows × 38 columns</p>\n</div>"
     },
     "metadata": {},
     "execution_count": 31
    }
   ],
   "source": [
    "data_df.tail()"
   ]
  },
  {
   "cell_type": "code",
   "execution_count": null,
   "metadata": {},
   "outputs": [],
   "source": [
    "alphas = [1.035, 1.03, 1.025, 1.02]\n",
    "weights = [1/len(alphas)]*len(alphas)\n",
    "sub = 0.\n",
    "\n",
    "for icount, (alpha, weight) in enumerate(zip(alphas, weights)):\n",
    "\n",
    "    te = create_dt(False)\n",
    "    cols = [f\"F{i}\" for i in range(1,29)]\n",
    "\n",
    "    for tdelta in range(0, 28):\n",
    "#     for tdelta in range(0, 2):\n",
    "        day = fday + timedelta(days=tdelta)\n",
    "        print(icount, day)\n",
    "        tst = te[(te.date >= day - timedelta(days=max_lags)) & (te.date <= day)].copy()\n",
    "        create_fea(tst)\n",
    "        tst = tst.loc[tst.date == day , train_cols]\n",
    "        te.loc[te.date == day, \"sales\"] = alpha*m_lgb.predict(tst) # magic multiplier by kyakovlev\n",
    "\n",
    "\n",
    "\n",
    "    te_sub = te.loc[te.date >= fday, [\"id\", \"sales\"]].copy()\n",
    "#     te_sub.loc[te.date >= fday+ timedelta(days=h), \"id\"] = te_sub.loc[te.date >= fday+timedelta(days=h), \n",
    "#                                                                           \"id\"].str.replace(\"validation$\", \"evaluation\")\n",
    "    te_sub[\"F\"] = [f\"F{rank}\" for rank in te_sub.groupby(\"id\")[\"id\"].cumcount()+1]\n",
    "    te_sub = te_sub.set_index([\"id\", \"F\" ]).unstack()[\"sales\"][cols].reset_index()\n",
    "    te_sub.fillna(0., inplace = True)\n",
    "    te_sub.sort_values(\"id\", inplace = True)\n",
    "    te_sub.reset_index(drop=True, inplace = True)\n",
    "#     te_sub.to_csv(\"submission.csv\",index=False)\n",
    "    if icount == 0 :\n",
    "        sub = te_sub\n",
    "        sub[cols] *= weight\n",
    "    else:\n",
    "        sub[cols] += te_sub[cols]*weight\n",
    "    print(icount, alpha, weight)\n",
    "\n",
    "\n",
    "sub2 = sub.copy()\n",
    "sub2[\"id\"] = sub2[\"id\"].str.replace(\"validation$\", \"evaluation\")\n",
    "sub = pd.concat([sub, sub2], axis=0, sort=False)\n",
    "sub.to_csv(\"submission.csv\",index=False)"
   ]
  }
 ]
}